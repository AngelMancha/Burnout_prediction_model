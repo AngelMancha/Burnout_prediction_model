{
 "cells": [
  {
   "attachments": {},
   "cell_type": "markdown",
   "metadata": {},
   "source": [
    "# Predicción del abandono (BURNOUT) de empleados"
   ]
  },
  {
   "attachments": {},
   "cell_type": "markdown",
   "metadata": {},
   "source": [
    "## Carga de los datos\n",
    "\n",
    "El primer paso a seguir es cargar los datos para poder trabajar sobre ellos y construir un modelo que prediga si un empleado va a abandonar la empresa."
   ]
  },
  {
   "cell_type": "code",
   "execution_count": 1,
   "metadata": {},
   "outputs": [],
   "source": [
    "import pandas as pd\n",
    "\n",
    "df = pd.read_pickle('attrition_available_12.pkl')\n",
    "#value_counts\n",
    "\n",
    "#jobINvolment = df['JobInvolvement']\n",
    "#print(jobINvolment.value_counts())"
   ]
  },
  {
   "attachments": {},
   "cell_type": "markdown",
   "metadata": {},
   "source": [
    "## Análisis exploratorio de datos\n",
    "\n",
    "Ver las primeras filas del dataframe para tener una idea de cómo están estructurados los datos."
   ]
  },
  {
   "cell_type": "code",
   "execution_count": 2,
   "metadata": {},
   "outputs": [
    {
     "data": {
      "text/html": [
       "<div>\n",
       "<style scoped>\n",
       "    .dataframe tbody tr th:only-of-type {\n",
       "        vertical-align: middle;\n",
       "    }\n",
       "\n",
       "    .dataframe tbody tr th {\n",
       "        vertical-align: top;\n",
       "    }\n",
       "\n",
       "    .dataframe thead th {\n",
       "        text-align: right;\n",
       "    }\n",
       "</style>\n",
       "<table border=\"1\" class=\"dataframe\">\n",
       "  <thead>\n",
       "    <tr style=\"text-align: right;\">\n",
       "      <th></th>\n",
       "      <th>hrs</th>\n",
       "      <th>absences</th>\n",
       "      <th>JobInvolvement</th>\n",
       "      <th>PerformanceRating</th>\n",
       "      <th>EnvironmentSatisfaction</th>\n",
       "      <th>JobSatisfaction</th>\n",
       "      <th>WorkLifeBalance</th>\n",
       "      <th>Age</th>\n",
       "      <th>Attrition</th>\n",
       "      <th>BusinessTravel</th>\n",
       "      <th>...</th>\n",
       "      <th>NumCompaniesWorked</th>\n",
       "      <th>Over18</th>\n",
       "      <th>PercentSalaryHike</th>\n",
       "      <th>StandardHours</th>\n",
       "      <th>StockOptionLevel</th>\n",
       "      <th>TotalWorkingYears</th>\n",
       "      <th>TrainingTimesLastYear</th>\n",
       "      <th>YearsAtCompany</th>\n",
       "      <th>YearsSinceLastPromotion</th>\n",
       "      <th>YearsWithCurrManager</th>\n",
       "    </tr>\n",
       "  </thead>\n",
       "  <tbody>\n",
       "    <tr>\n",
       "      <th>1</th>\n",
       "      <td>7.315971</td>\n",
       "      <td>13.0</td>\n",
       "      <td>2.0</td>\n",
       "      <td>NaN</td>\n",
       "      <td>3.0</td>\n",
       "      <td>2.0</td>\n",
       "      <td>4.0</td>\n",
       "      <td>31.0</td>\n",
       "      <td>Yes</td>\n",
       "      <td>Travel_Frequently</td>\n",
       "      <td>...</td>\n",
       "      <td>0.0</td>\n",
       "      <td>Y</td>\n",
       "      <td>NaN</td>\n",
       "      <td>8.0</td>\n",
       "      <td>1.0</td>\n",
       "      <td>6.0</td>\n",
       "      <td>3</td>\n",
       "      <td>NaN</td>\n",
       "      <td>1.0</td>\n",
       "      <td>4.0</td>\n",
       "    </tr>\n",
       "    <tr>\n",
       "      <th>6</th>\n",
       "      <td>NaN</td>\n",
       "      <td>17.0</td>\n",
       "      <td>3.0</td>\n",
       "      <td>NaN</td>\n",
       "      <td>1.0</td>\n",
       "      <td>3.0</td>\n",
       "      <td>1.0</td>\n",
       "      <td>28.0</td>\n",
       "      <td>Yes</td>\n",
       "      <td>Travel_Rarely</td>\n",
       "      <td>...</td>\n",
       "      <td>2.0</td>\n",
       "      <td>Y</td>\n",
       "      <td>NaN</td>\n",
       "      <td>8.0</td>\n",
       "      <td>1.0</td>\n",
       "      <td>5.0</td>\n",
       "      <td>2</td>\n",
       "      <td>0.0</td>\n",
       "      <td>NaN</td>\n",
       "      <td>0.0</td>\n",
       "    </tr>\n",
       "    <tr>\n",
       "      <th>13</th>\n",
       "      <td>NaN</td>\n",
       "      <td>14.0</td>\n",
       "      <td>2.0</td>\n",
       "      <td>3.0</td>\n",
       "      <td>1.0</td>\n",
       "      <td>2.0</td>\n",
       "      <td>2.0</td>\n",
       "      <td>47.0</td>\n",
       "      <td>Yes</td>\n",
       "      <td>Non-Travel</td>\n",
       "      <td>...</td>\n",
       "      <td>1.0</td>\n",
       "      <td>Y</td>\n",
       "      <td>11.0</td>\n",
       "      <td>NaN</td>\n",
       "      <td>2.0</td>\n",
       "      <td>10.0</td>\n",
       "      <td>4</td>\n",
       "      <td>10.0</td>\n",
       "      <td>9.0</td>\n",
       "      <td>9.0</td>\n",
       "    </tr>\n",
       "    <tr>\n",
       "      <th>28</th>\n",
       "      <td>10.713066</td>\n",
       "      <td>6.0</td>\n",
       "      <td>2.0</td>\n",
       "      <td>3.0</td>\n",
       "      <td>4.0</td>\n",
       "      <td>NaN</td>\n",
       "      <td>1.0</td>\n",
       "      <td>NaN</td>\n",
       "      <td>Yes</td>\n",
       "      <td>NaN</td>\n",
       "      <td>...</td>\n",
       "      <td>3.0</td>\n",
       "      <td>Y</td>\n",
       "      <td>14.0</td>\n",
       "      <td>8.0</td>\n",
       "      <td>1.0</td>\n",
       "      <td>19.0</td>\n",
       "      <td>2</td>\n",
       "      <td>1.0</td>\n",
       "      <td>0.0</td>\n",
       "      <td>NaN</td>\n",
       "    </tr>\n",
       "    <tr>\n",
       "      <th>30</th>\n",
       "      <td>9.662808</td>\n",
       "      <td>NaN</td>\n",
       "      <td>2.0</td>\n",
       "      <td>3.0</td>\n",
       "      <td>1.0</td>\n",
       "      <td>2.0</td>\n",
       "      <td>3.0</td>\n",
       "      <td>26.0</td>\n",
       "      <td>Yes</td>\n",
       "      <td>Travel_Rarely</td>\n",
       "      <td>...</td>\n",
       "      <td>2.0</td>\n",
       "      <td>Y</td>\n",
       "      <td>11.0</td>\n",
       "      <td>8.0</td>\n",
       "      <td>0.0</td>\n",
       "      <td>5.0</td>\n",
       "      <td>5</td>\n",
       "      <td>3.0</td>\n",
       "      <td>0.0</td>\n",
       "      <td>2.0</td>\n",
       "    </tr>\n",
       "  </tbody>\n",
       "</table>\n",
       "<p>5 rows × 31 columns</p>\n",
       "</div>"
      ],
      "text/plain": [
       "          hrs  absences  JobInvolvement  PerformanceRating  \\\n",
       "1    7.315971      13.0             2.0                NaN   \n",
       "6         NaN      17.0             3.0                NaN   \n",
       "13        NaN      14.0             2.0                3.0   \n",
       "28  10.713066       6.0             2.0                3.0   \n",
       "30   9.662808       NaN             2.0                3.0   \n",
       "\n",
       "    EnvironmentSatisfaction  JobSatisfaction  WorkLifeBalance   Age Attrition  \\\n",
       "1                       3.0              2.0              4.0  31.0       Yes   \n",
       "6                       1.0              3.0              1.0  28.0       Yes   \n",
       "13                      1.0              2.0              2.0  47.0       Yes   \n",
       "28                      4.0              NaN              1.0   NaN       Yes   \n",
       "30                      1.0              2.0              3.0  26.0       Yes   \n",
       "\n",
       "       BusinessTravel  ... NumCompaniesWorked  Over18  PercentSalaryHike  \\\n",
       "1   Travel_Frequently  ...                0.0       Y                NaN   \n",
       "6       Travel_Rarely  ...                2.0       Y                NaN   \n",
       "13         Non-Travel  ...                1.0       Y               11.0   \n",
       "28                NaN  ...                3.0       Y               14.0   \n",
       "30      Travel_Rarely  ...                2.0       Y               11.0   \n",
       "\n",
       "   StandardHours  StockOptionLevel  TotalWorkingYears TrainingTimesLastYear  \\\n",
       "1            8.0               1.0                6.0                     3   \n",
       "6            8.0               1.0                5.0                     2   \n",
       "13           NaN               2.0               10.0                     4   \n",
       "28           8.0               1.0               19.0                     2   \n",
       "30           8.0               0.0                5.0                     5   \n",
       "\n",
       "    YearsAtCompany YearsSinceLastPromotion YearsWithCurrManager  \n",
       "1              NaN                     1.0                  4.0  \n",
       "6              0.0                     NaN                  0.0  \n",
       "13            10.0                     9.0                  9.0  \n",
       "28             1.0                     0.0                  NaN  \n",
       "30             3.0                     0.0                  2.0  \n",
       "\n",
       "[5 rows x 31 columns]"
      ]
     },
     "execution_count": 2,
     "metadata": {},
     "output_type": "execute_result"
    }
   ],
   "source": [
    "df.head()"
   ]
  },
  {
   "attachments": {},
   "cell_type": "markdown",
   "metadata": {},
   "source": [
    "Debemos tener en cuenta que lo que queremos predecir es la columna '`attrition`', que mide si el empleado va a dejar el trabajo o no."
   ]
  },
  {
   "attachments": {},
   "cell_type": "markdown",
   "metadata": {},
   "source": [
    "Ver los tipos de datos de las columnas"
   ]
  },
  {
   "cell_type": "code",
   "execution_count": 3,
   "metadata": {},
   "outputs": [
    {
     "data": {
      "text/plain": [
       "hrs                        float64\n",
       "absences                   float64\n",
       "JobInvolvement             float64\n",
       "PerformanceRating          float64\n",
       "EnvironmentSatisfaction    float64\n",
       "JobSatisfaction            float64\n",
       "WorkLifeBalance            float64\n",
       "Age                        float64\n",
       "Attrition                   object\n",
       "BusinessTravel              object\n",
       "Department                  object\n",
       "DistanceFromHome             int64\n",
       "Education                  float64\n",
       "EducationField              object\n",
       "EmployeeCount              float64\n",
       "EmployeeID                 float64\n",
       "Gender                      object\n",
       "JobLevel                     int64\n",
       "JobRole                     object\n",
       "MaritalStatus               object\n",
       "MonthlyIncome              float64\n",
       "NumCompaniesWorked         float64\n",
       "Over18                      object\n",
       "PercentSalaryHike          float64\n",
       "StandardHours              float64\n",
       "StockOptionLevel           float64\n",
       "TotalWorkingYears          float64\n",
       "TrainingTimesLastYear        int64\n",
       "YearsAtCompany             float64\n",
       "YearsSinceLastPromotion    float64\n",
       "YearsWithCurrManager       float64\n",
       "dtype: object"
      ]
     },
     "execution_count": 3,
     "metadata": {},
     "output_type": "execute_result"
    }
   ],
   "source": [
    "df.dtypes"
   ]
  },
  {
   "attachments": {},
   "cell_type": "markdown",
   "metadata": {},
   "source": [
    "Contar el número de instancias y columnas"
   ]
  },
  {
   "cell_type": "code",
   "execution_count": 4,
   "metadata": {},
   "outputs": [
    {
     "name": "stdout",
     "output_type": "stream",
     "text": [
      "Número de instancias:  4410\n",
      "Número de columnas:  31\n"
     ]
    }
   ],
   "source": [
    "num_instances = len(df)\n",
    "num_columns = len(df.columns)\n",
    "\n",
    "print(\"Número de instancias: \", num_instances)\n",
    "print(\"Número de columnas: \", num_columns)"
   ]
  },
  {
   "attachments": {},
   "cell_type": "markdown",
   "metadata": {},
   "source": [
    "Ver si hay columnas constantes"
   ]
  },
  {
   "cell_type": "code",
   "execution_count": 5,
   "metadata": {},
   "outputs": [
    {
     "name": "stdout",
     "output_type": "stream",
     "text": [
      "Columnas constantes:  ['EmployeeCount', 'Over18', 'StandardHours']\n"
     ]
    }
   ],
   "source": [
    "const_cols = [col for col in df.columns if df[col].nunique() == 1]\n",
    "print(\"Columnas constantes: \", const_cols)\n"
   ]
  },
  {
   "attachments": {},
   "cell_type": "markdown",
   "metadata": {},
   "source": [
    "Hemos visto que las columnas constantes son las siguientes: *EmployeeCount, Over18, StandardHours*. Ya que estas columnas no van a aportar ninguna información útil al modelo, debemos eliminarlas. Ahora en vez de 31 columnas, tendremos 28."
   ]
  },
  {
   "cell_type": "code",
   "execution_count": 6,
   "metadata": {},
   "outputs": [],
   "source": [
    "df = df.drop(const_cols, axis=1)"
   ]
  },
  {
   "cell_type": "code",
   "execution_count": 7,
   "metadata": {},
   "outputs": [],
   "source": [
    "df = df.drop('EmployeeID', axis=1)"
   ]
  },
  {
   "attachments": {},
   "cell_type": "markdown",
   "metadata": {},
   "source": [
    "Volvemos a mirar el numero de instancias y columnas"
   ]
  },
  {
   "cell_type": "code",
   "execution_count": 8,
   "metadata": {},
   "outputs": [
    {
     "name": "stdout",
     "output_type": "stream",
     "text": [
      "Número de instancias:  4410\n",
      "Número de columnas:  27\n"
     ]
    }
   ],
   "source": [
    "num_instances = len(df)\n",
    "num_columns = len(df.columns)\n",
    "\n",
    "print(\"Número de instancias: \", num_instances)\n",
    "print(\"Número de columnas: \", num_columns)"
   ]
  },
  {
   "attachments": {},
   "cell_type": "markdown",
   "metadata": {},
   "source": [
    "Ver los valores de las columnas constantes"
   ]
  },
  {
   "cell_type": "code",
   "execution_count": 9,
   "metadata": {},
   "outputs": [
    {
     "name": "stdout",
     "output_type": "stream",
     "text": [
      "Proporción de valores faltantes: \n",
      "hrs                        0.211791\n",
      "absences                   0.213152\n",
      "JobInvolvement             0.169388\n",
      "PerformanceRating          0.193197\n",
      "EnvironmentSatisfaction    0.209524\n",
      "JobSatisfaction            0.170522\n",
      "WorkLifeBalance            0.008617\n",
      "Age                        0.211791\n",
      "Attrition                  0.000000\n",
      "BusinessTravel             0.172336\n",
      "Department                 0.186395\n",
      "DistanceFromHome           0.000000\n",
      "Education                  0.218594\n",
      "EducationField             0.180952\n",
      "Gender                     0.200454\n",
      "JobLevel                   0.000000\n",
      "JobRole                    0.216780\n",
      "MaritalStatus              0.202041\n",
      "MonthlyIncome              0.192517\n",
      "NumCompaniesWorked         0.166440\n",
      "PercentSalaryHike          0.209524\n",
      "StockOptionLevel           0.170748\n",
      "TotalWorkingYears          0.186848\n",
      "TrainingTimesLastYear      0.000000\n",
      "YearsAtCompany             0.172336\n",
      "YearsSinceLastPromotion    0.183447\n",
      "YearsWithCurrManager       0.187075\n",
      "dtype: float64\n"
     ]
    }
   ],
   "source": [
    "missing_vals = df.isnull().sum() / len(df)\n",
    "print(\"Proporción de valores faltantes: \")\n",
    "print(missing_vals)"
   ]
  },
  {
   "attachments": {},
   "cell_type": "markdown",
   "metadata": {},
   "source": [
    "## Preprocesamiento de los datos"
   ]
  },
  {
   "attachments": {},
   "cell_type": "markdown",
   "metadata": {},
   "source": [
    "En esta sección realizaremos el procesamiento de los valores faltantes y la transformación de los datos categóricos."
   ]
  },
  {
   "attachments": {},
   "cell_type": "markdown",
   "metadata": {},
   "source": [
    "Parae ello, primero realizaremos la división de los datos en un conjunto de entrenamiento y test"
   ]
  },
  {
   "cell_type": "code",
   "execution_count": 10,
   "metadata": {},
   "outputs": [],
   "source": [
    "from sklearn.model_selection import train_test_split\n",
    "from sklearn import set_config\n",
    "\n",
    "\n",
    "X = df.drop('Attrition', axis=1) \n",
    "y = df['Attrition']\n",
    "\n",
    "\n",
    "X_train, X_test, y_train, y_test = train_test_split(X, y, test_size = 1/3, random_state=0, stratify=y)\n",
    "set_config(transform_output=\"pandas\")\n"
   ]
  },
  {
   "attachments": {},
   "cell_type": "markdown",
   "metadata": {},
   "source": [
    "A continuación, se procederá a transformar los datos"
   ]
  },
  {
   "cell_type": "code",
   "execution_count": 11,
   "metadata": {},
   "outputs": [
    {
     "name": "stdout",
     "output_type": "stream",
     "text": [
      "Columnas numéricas: ['hrs', 'absences', 'JobInvolvement', 'PerformanceRating', 'EnvironmentSatisfaction', 'JobSatisfaction', 'WorkLifeBalance', 'Age', 'DistanceFromHome', 'Education', 'JobLevel', 'MonthlyIncome', 'NumCompaniesWorked', 'PercentSalaryHike', 'StockOptionLevel', 'TotalWorkingYears', 'TrainingTimesLastYear', 'YearsAtCompany', 'YearsSinceLastPromotion', 'YearsWithCurrManager']\n",
      "Columnas categóricas: ['BusinessTravel', 'Department', 'EducationField', 'Gender', 'JobRole', 'MaritalStatus']\n"
     ]
    },
    {
     "data": {
      "text/html": [
       "<div>\n",
       "<style scoped>\n",
       "    .dataframe tbody tr th:only-of-type {\n",
       "        vertical-align: middle;\n",
       "    }\n",
       "\n",
       "    .dataframe tbody tr th {\n",
       "        vertical-align: top;\n",
       "    }\n",
       "\n",
       "    .dataframe thead th {\n",
       "        text-align: right;\n",
       "    }\n",
       "</style>\n",
       "<table border=\"1\" class=\"dataframe\">\n",
       "  <thead>\n",
       "    <tr style=\"text-align: right;\">\n",
       "      <th></th>\n",
       "      <th>num__hrs</th>\n",
       "      <th>num__absences</th>\n",
       "      <th>num__JobInvolvement</th>\n",
       "      <th>num__PerformanceRating</th>\n",
       "      <th>num__EnvironmentSatisfaction</th>\n",
       "      <th>num__JobSatisfaction</th>\n",
       "      <th>num__WorkLifeBalance</th>\n",
       "      <th>num__Age</th>\n",
       "      <th>num__DistanceFromHome</th>\n",
       "      <th>num__Education</th>\n",
       "      <th>...</th>\n",
       "      <th>cat__JobRole_Laboratory Technician</th>\n",
       "      <th>cat__JobRole_Manager</th>\n",
       "      <th>cat__JobRole_Manufacturing Director</th>\n",
       "      <th>cat__JobRole_Research Director</th>\n",
       "      <th>cat__JobRole_Research Scientist</th>\n",
       "      <th>cat__JobRole_Sales Executive</th>\n",
       "      <th>cat__JobRole_Sales Representative</th>\n",
       "      <th>cat__MaritalStatus_Divorced</th>\n",
       "      <th>cat__MaritalStatus_Married</th>\n",
       "      <th>cat__MaritalStatus_Single</th>\n",
       "    </tr>\n",
       "  </thead>\n",
       "  <tbody>\n",
       "    <tr>\n",
       "      <th>473</th>\n",
       "      <td>8.047625</td>\n",
       "      <td>8.000000</td>\n",
       "      <td>3.0</td>\n",
       "      <td>3.0</td>\n",
       "      <td>4.0</td>\n",
       "      <td>1.000000</td>\n",
       "      <td>3.0</td>\n",
       "      <td>20.000000</td>\n",
       "      <td>2.0</td>\n",
       "      <td>2.00000</td>\n",
       "      <td>...</td>\n",
       "      <td>0.0</td>\n",
       "      <td>0.0</td>\n",
       "      <td>0.0</td>\n",
       "      <td>0.0</td>\n",
       "      <td>1.0</td>\n",
       "      <td>0.0</td>\n",
       "      <td>0.0</td>\n",
       "      <td>0.0</td>\n",
       "      <td>0.0</td>\n",
       "      <td>1.0</td>\n",
       "    </tr>\n",
       "    <tr>\n",
       "      <th>66</th>\n",
       "      <td>5.762560</td>\n",
       "      <td>17.000000</td>\n",
       "      <td>3.0</td>\n",
       "      <td>3.0</td>\n",
       "      <td>4.0</td>\n",
       "      <td>4.000000</td>\n",
       "      <td>3.0</td>\n",
       "      <td>30.000000</td>\n",
       "      <td>13.0</td>\n",
       "      <td>3.00000</td>\n",
       "      <td>...</td>\n",
       "      <td>0.0</td>\n",
       "      <td>0.0</td>\n",
       "      <td>0.0</td>\n",
       "      <td>1.0</td>\n",
       "      <td>0.0</td>\n",
       "      <td>0.0</td>\n",
       "      <td>0.0</td>\n",
       "      <td>0.0</td>\n",
       "      <td>1.0</td>\n",
       "      <td>0.0</td>\n",
       "    </tr>\n",
       "    <tr>\n",
       "      <th>1256</th>\n",
       "      <td>6.269080</td>\n",
       "      <td>20.000000</td>\n",
       "      <td>1.0</td>\n",
       "      <td>3.0</td>\n",
       "      <td>3.0</td>\n",
       "      <td>2.719248</td>\n",
       "      <td>3.0</td>\n",
       "      <td>30.000000</td>\n",
       "      <td>1.0</td>\n",
       "      <td>2.89895</td>\n",
       "      <td>...</td>\n",
       "      <td>0.0</td>\n",
       "      <td>0.0</td>\n",
       "      <td>0.0</td>\n",
       "      <td>0.0</td>\n",
       "      <td>1.0</td>\n",
       "      <td>0.0</td>\n",
       "      <td>0.0</td>\n",
       "      <td>0.0</td>\n",
       "      <td>0.0</td>\n",
       "      <td>1.0</td>\n",
       "    </tr>\n",
       "    <tr>\n",
       "      <th>87</th>\n",
       "      <td>7.302132</td>\n",
       "      <td>12.000000</td>\n",
       "      <td>2.0</td>\n",
       "      <td>4.0</td>\n",
       "      <td>3.0</td>\n",
       "      <td>4.000000</td>\n",
       "      <td>2.0</td>\n",
       "      <td>23.000000</td>\n",
       "      <td>20.0</td>\n",
       "      <td>4.00000</td>\n",
       "      <td>...</td>\n",
       "      <td>0.0</td>\n",
       "      <td>0.0</td>\n",
       "      <td>1.0</td>\n",
       "      <td>0.0</td>\n",
       "      <td>0.0</td>\n",
       "      <td>0.0</td>\n",
       "      <td>0.0</td>\n",
       "      <td>1.0</td>\n",
       "      <td>0.0</td>\n",
       "      <td>0.0</td>\n",
       "    </tr>\n",
       "    <tr>\n",
       "      <th>703</th>\n",
       "      <td>8.932334</td>\n",
       "      <td>12.617455</td>\n",
       "      <td>2.0</td>\n",
       "      <td>3.0</td>\n",
       "      <td>3.0</td>\n",
       "      <td>3.000000</td>\n",
       "      <td>3.0</td>\n",
       "      <td>36.604003</td>\n",
       "      <td>1.0</td>\n",
       "      <td>2.00000</td>\n",
       "      <td>...</td>\n",
       "      <td>0.0</td>\n",
       "      <td>0.0</td>\n",
       "      <td>0.0</td>\n",
       "      <td>0.0</td>\n",
       "      <td>1.0</td>\n",
       "      <td>0.0</td>\n",
       "      <td>0.0</td>\n",
       "      <td>0.0</td>\n",
       "      <td>0.0</td>\n",
       "      <td>1.0</td>\n",
       "    </tr>\n",
       "  </tbody>\n",
       "</table>\n",
       "<p>5 rows × 46 columns</p>\n",
       "</div>"
      ],
      "text/plain": [
       "      num__hrs  num__absences  num__JobInvolvement  num__PerformanceRating  \\\n",
       "473   8.047625       8.000000                  3.0                     3.0   \n",
       "66    5.762560      17.000000                  3.0                     3.0   \n",
       "1256  6.269080      20.000000                  1.0                     3.0   \n",
       "87    7.302132      12.000000                  2.0                     4.0   \n",
       "703   8.932334      12.617455                  2.0                     3.0   \n",
       "\n",
       "      num__EnvironmentSatisfaction  num__JobSatisfaction  \\\n",
       "473                            4.0              1.000000   \n",
       "66                             4.0              4.000000   \n",
       "1256                           3.0              2.719248   \n",
       "87                             3.0              4.000000   \n",
       "703                            3.0              3.000000   \n",
       "\n",
       "      num__WorkLifeBalance   num__Age  num__DistanceFromHome  num__Education  \\\n",
       "473                    3.0  20.000000                    2.0         2.00000   \n",
       "66                     3.0  30.000000                   13.0         3.00000   \n",
       "1256                   3.0  30.000000                    1.0         2.89895   \n",
       "87                     2.0  23.000000                   20.0         4.00000   \n",
       "703                    3.0  36.604003                    1.0         2.00000   \n",
       "\n",
       "      ...  cat__JobRole_Laboratory Technician  cat__JobRole_Manager  \\\n",
       "473   ...                                 0.0                   0.0   \n",
       "66    ...                                 0.0                   0.0   \n",
       "1256  ...                                 0.0                   0.0   \n",
       "87    ...                                 0.0                   0.0   \n",
       "703   ...                                 0.0                   0.0   \n",
       "\n",
       "      cat__JobRole_Manufacturing Director  cat__JobRole_Research Director  \\\n",
       "473                                   0.0                             0.0   \n",
       "66                                    0.0                             1.0   \n",
       "1256                                  0.0                             0.0   \n",
       "87                                    1.0                             0.0   \n",
       "703                                   0.0                             0.0   \n",
       "\n",
       "      cat__JobRole_Research Scientist  cat__JobRole_Sales Executive  \\\n",
       "473                               1.0                           0.0   \n",
       "66                                0.0                           0.0   \n",
       "1256                              1.0                           0.0   \n",
       "87                                0.0                           0.0   \n",
       "703                               1.0                           0.0   \n",
       "\n",
       "      cat__JobRole_Sales Representative  cat__MaritalStatus_Divorced  \\\n",
       "473                                 0.0                          0.0   \n",
       "66                                  0.0                          0.0   \n",
       "1256                                0.0                          0.0   \n",
       "87                                  0.0                          1.0   \n",
       "703                                 0.0                          0.0   \n",
       "\n",
       "      cat__MaritalStatus_Married  cat__MaritalStatus_Single  \n",
       "473                          0.0                        1.0  \n",
       "66                           1.0                        0.0  \n",
       "1256                         0.0                        1.0  \n",
       "87                           0.0                        0.0  \n",
       "703                          0.0                        1.0  \n",
       "\n",
       "[5 rows x 46 columns]"
      ]
     },
     "execution_count": 11,
     "metadata": {},
     "output_type": "execute_result"
    }
   ],
   "source": [
    "# Primero importamos las librerías necesarias\n",
    "from sklearn.compose import ColumnTransformer\n",
    "import numpy as np\n",
    "from sklearn.impute import SimpleImputer\n",
    "from sklearn.pipeline import Pipeline\n",
    "from sklearn.preprocessing import OneHotEncoder\n",
    "\n",
    "\n",
    "# Definimos las columnas que son numéricas y las que son categóricas\n",
    "numerical_features = X.select_dtypes(include=np.number).columns\n",
    "categorical_features = X.select_dtypes(include='object').columns\n",
    "\n",
    "# Imprimimos cuñales de estas columnas son numéricas y cuáles categóricas\n",
    "print(f\"Columnas numéricas: {list(numerical_features)}\")\n",
    "print(f\"Columnas categóricas: {list(categorical_features)}\")\n",
    "\n",
    "\n",
    "# Definimos las transformaciones que se aplicarán a las columnas numéricas\n",
    "numeric_transformer = Pipeline(steps=[\n",
    "    ('imputer', SimpleImputer(strategy='mean'))\n",
    "])\n",
    "\n",
    "# Definimos las transformaciones que se aplicarán a las columnas categóricas\n",
    "categorical_transformer = Pipeline(steps=[\n",
    "    ('imputer', SimpleImputer(strategy='most_frequent')),\n",
    "    ('onehot', OneHotEncoder(categories='auto', sparse_output=False, handle_unknown='ignore'))\n",
    "])\n",
    "\n",
    "\n",
    "# Pre-procesador \"global\"\n",
    "processor = ColumnTransformer(\n",
    "    transformers=[\n",
    "        ('num', numeric_transformer, numerical_features),\n",
    "        ('cat', categorical_transformer, categorical_features)\n",
    "    ]\n",
    ")\n",
    "\n",
    "\n",
    "processor.fit(X_train)\n",
    "# Realizamos la transformación.\n",
    "X_train_processed = processor.fit_transform(X_train)\n",
    "X_test_processed = processor.transform(X_test)\n",
    "X_train_processed.head()\n"
   ]
  },
  {
   "attachments": {},
   "cell_type": "markdown",
   "metadata": {},
   "source": [
    "Comprobamos si se ha hecho bien y no hay missing values. Como se puede comprobar, se han transformado los datos de manera satisfactoria y ya no hay missing values y todos los datos se han convertido a numéricos mediante el uso de la técnica `OneHotEnconding`."
   ]
  },
  {
   "cell_type": "code",
   "execution_count": 12,
   "metadata": {},
   "outputs": [
    {
     "name": "stdout",
     "output_type": "stream",
     "text": [
      "Numero de valores valtantes de entrenamiento: num__hrs                                  0\n",
      "num__absences                             0\n",
      "num__JobInvolvement                       0\n",
      "num__PerformanceRating                    0\n",
      "num__EnvironmentSatisfaction              0\n",
      "num__JobSatisfaction                      0\n",
      "num__WorkLifeBalance                      0\n",
      "num__Age                                  0\n",
      "num__DistanceFromHome                     0\n",
      "num__Education                            0\n",
      "num__JobLevel                             0\n",
      "num__MonthlyIncome                        0\n",
      "num__NumCompaniesWorked                   0\n",
      "num__PercentSalaryHike                    0\n",
      "num__StockOptionLevel                     0\n",
      "num__TotalWorkingYears                    0\n",
      "num__TrainingTimesLastYear                0\n",
      "num__YearsAtCompany                       0\n",
      "num__YearsSinceLastPromotion              0\n",
      "num__YearsWithCurrManager                 0\n",
      "cat__BusinessTravel_Non-Travel            0\n",
      "cat__BusinessTravel_Travel_Frequently     0\n",
      "cat__BusinessTravel_Travel_Rarely         0\n",
      "cat__Department_Human Resources           0\n",
      "cat__Department_Research & Development    0\n",
      "cat__Department_Sales                     0\n",
      "cat__EducationField_Human Resources       0\n",
      "cat__EducationField_Life Sciences         0\n",
      "cat__EducationField_Marketing             0\n",
      "cat__EducationField_Medical               0\n",
      "cat__EducationField_Other                 0\n",
      "cat__EducationField_Technical Degree      0\n",
      "cat__Gender_Female                        0\n",
      "cat__Gender_Male                          0\n",
      "cat__JobRole_Healthcare Representative    0\n",
      "cat__JobRole_Human Resources              0\n",
      "cat__JobRole_Laboratory Technician        0\n",
      "cat__JobRole_Manager                      0\n",
      "cat__JobRole_Manufacturing Director       0\n",
      "cat__JobRole_Research Director            0\n",
      "cat__JobRole_Research Scientist           0\n",
      "cat__JobRole_Sales Executive              0\n",
      "cat__JobRole_Sales Representative         0\n",
      "cat__MaritalStatus_Divorced               0\n",
      "cat__MaritalStatus_Married                0\n",
      "cat__MaritalStatus_Single                 0\n",
      "dtype: int64\n",
      "Numero de valores valtantes de test: num__hrs                                  0\n",
      "num__absences                             0\n",
      "num__JobInvolvement                       0\n",
      "num__PerformanceRating                    0\n",
      "num__EnvironmentSatisfaction              0\n",
      "num__JobSatisfaction                      0\n",
      "num__WorkLifeBalance                      0\n",
      "num__Age                                  0\n",
      "num__DistanceFromHome                     0\n",
      "num__Education                            0\n",
      "num__JobLevel                             0\n",
      "num__MonthlyIncome                        0\n",
      "num__NumCompaniesWorked                   0\n",
      "num__PercentSalaryHike                    0\n",
      "num__StockOptionLevel                     0\n",
      "num__TotalWorkingYears                    0\n",
      "num__TrainingTimesLastYear                0\n",
      "num__YearsAtCompany                       0\n",
      "num__YearsSinceLastPromotion              0\n",
      "num__YearsWithCurrManager                 0\n",
      "cat__BusinessTravel_Non-Travel            0\n",
      "cat__BusinessTravel_Travel_Frequently     0\n",
      "cat__BusinessTravel_Travel_Rarely         0\n",
      "cat__Department_Human Resources           0\n",
      "cat__Department_Research & Development    0\n",
      "cat__Department_Sales                     0\n",
      "cat__EducationField_Human Resources       0\n",
      "cat__EducationField_Life Sciences         0\n",
      "cat__EducationField_Marketing             0\n",
      "cat__EducationField_Medical               0\n",
      "cat__EducationField_Other                 0\n",
      "cat__EducationField_Technical Degree      0\n",
      "cat__Gender_Female                        0\n",
      "cat__Gender_Male                          0\n",
      "cat__JobRole_Healthcare Representative    0\n",
      "cat__JobRole_Human Resources              0\n",
      "cat__JobRole_Laboratory Technician        0\n",
      "cat__JobRole_Manager                      0\n",
      "cat__JobRole_Manufacturing Director       0\n",
      "cat__JobRole_Research Director            0\n",
      "cat__JobRole_Research Scientist           0\n",
      "cat__JobRole_Sales Executive              0\n",
      "cat__JobRole_Sales Representative         0\n",
      "cat__MaritalStatus_Divorced               0\n",
      "cat__MaritalStatus_Married                0\n",
      "cat__MaritalStatus_Single                 0\n",
      "dtype: int64\n"
     ]
    }
   ],
   "source": [
    "print(f\"Numero de valores valtantes de entrenamiento: {np.isnan(X_train_processed).sum()}\")\n",
    "print(f\"Numero de valores valtantes de test: {np.isnan(X_test_processed).sum()}\")"
   ]
  },
  {
   "attachments": {},
   "cell_type": "markdown",
   "metadata": {},
   "source": [
    "## Balanceamiento de la clase   "
   ]
  },
  {
   "attachments": {},
   "cell_type": "markdown",
   "metadata": {},
   "source": [
    "Para saber si el conjunto de datos está desbalanceado, primeramente contaremos el número de observaciones en cada clase de la variable objetivo"
   ]
  },
  {
   "cell_type": "code",
   "execution_count": 13,
   "metadata": {},
   "outputs": [
    {
     "name": "stdout",
     "output_type": "stream",
     "text": [
      "No     3699\n",
      "Yes     711\n",
      "Name: Attrition, dtype: int64\n"
     ]
    }
   ],
   "source": [
    "# Contar el número de observaciones en cada clase de la variable objetivo\n",
    "counts = df['Attrition'].value_counts()\n",
    "\n",
    "print(counts)"
   ]
  },
  {
   "cell_type": "code",
   "execution_count": 14,
   "metadata": {},
   "outputs": [
    {
     "data": {
      "image/png": "[encoded data removed]",
      "text/plain": [
       "<Figure size 640x480 with 1 Axes>"
      ]
     },
     "metadata": {},
     "output_type": "display_data"
    }
   ],
   "source": [
    "import matplotlib.pyplot as plt\n",
    "\n",
    "# Crear un histograma de la variable objetivo\n",
    "plt.hist(df['Attrition'])\n",
    "plt.show()\n"
   ]
  },
  {
   "attachments": {},
   "cell_type": "markdown",
   "metadata": {},
   "source": [
    "Para estudiarlo más en profundidad, calculamos la proporción de observaciones en cada conjunto de entrenamiento y test."
   ]
  },
  {
   "cell_type": "code",
   "execution_count": 15,
   "metadata": {},
   "outputs": [],
   "source": [
    "N_SAMPLES_NEG = 3699\n",
    "N_SAMPLES_POS = 711\n"
   ]
  },
  {
   "cell_type": "code",
   "execution_count": 16,
   "metadata": {},
   "outputs": [
    {
     "name": "stdout",
     "output_type": "stream",
     "text": [
      "Hay un 16.7 % de instancias positivas en train.\n",
      "Hay un 14.9 % de instancias positivas en test.\n",
      "Hay un 16.1 % de instancias positivas en total.\n"
     ]
    }
   ],
   "source": [
    "from sklearn.model_selection import train_test_split, StratifiedKFold\n",
    "import numpy as np\n",
    "# Vamos a comenzar realizando una división train/test \"normal\".\n",
    "X_train_no_strat, X_test_no_strat, y_train_no_strat, y_test_no_strat = train_test_split(X, y, test_size=1/3)\n",
    "\n",
    "\n",
    "# Comprobemos ahora la distribución de las clases.\n",
    "n_pos_pct = N_SAMPLES_POS / (N_SAMPLES_POS + N_SAMPLES_NEG)\n",
    "n_pos_train_pct = np.sum(y_train_no_strat==\"Yes\") / len(y_train_no_strat)\n",
    "n_pos_test_pct = np.sum(y_test_no_strat==\"Yes\") / len(y_test_no_strat)\n",
    "\n",
    "print(f\"Hay un {100 * n_pos_train_pct:.1f} % de instancias positivas en train.\")\n",
    "print(f\"Hay un {100 * n_pos_test_pct:.1f} % de instancias positivas en test.\")\n",
    "print(f\"Hay un {100 * n_pos_pct:.1f} % de instancias positivas en total.\")"
   ]
  },
  {
   "attachments": {},
   "cell_type": "markdown",
   "metadata": {},
   "source": [
    "Basándonos en los resultados obtenidos, podemos afirmar que los datos están ligeramente desbalanceados. Al analizar la proporción de instancias positivas en el conjunto de train y test, observamos que esta proporción es de alrededor del 16%, lo que significa que la clase minoritaria está ligeramente subrepresentada, por lo que procedemos a hacer una `división estratificada`\n",
    "\n",
    "Aunque en términos estrictos se puede considerar que los datos están desbalanceados, el desequilibrio no es extremo. En este caso, es posible que no se requieran técnicas de muestreo especializadas para equilibrar la distribución de clases y que un modelo de aprendizaje automático pueda entrenarse con éxito en este conjunto de datos.\n",
    "\n",
    "\n",
    "\n",
    "\n"
   ]
  },
  {
   "cell_type": "code",
   "execution_count": 17,
   "metadata": {},
   "outputs": [
    {
     "name": "stdout",
     "output_type": "stream",
     "text": [
      "Hay un 16.1 % de instancias positivas en train.\n",
      "Hay un 16.1 % de instancias positivas en test.\n",
      "Hay un 16.1 % de instancias positivas en total.\n"
     ]
    }
   ],
   "source": [
    "\n",
    "# Comprobemos ahora la distribución de las clases.\n",
    "n_pos_pct = N_SAMPLES_POS / (N_SAMPLES_POS + N_SAMPLES_NEG)\n",
    "n_pos_train_pct = np.sum(y_train==\"Yes\") / len(y_train)\n",
    "n_pos_test_pct = np.sum(y_test==\"Yes\") / len(y_test)\n",
    "\n",
    "print(f\"Hay un {100 * n_pos_train_pct:.1f} % de instancias positivas en train.\")\n",
    "print(f\"Hay un {100 * n_pos_test_pct:.1f} % de instancias positivas en test.\")\n",
    "print(f\"Hay un {100 * n_pos_pct:.1f} % de instancias positivas en total.\")"
   ]
  },
  {
   "attachments": {},
   "cell_type": "markdown",
   "metadata": {},
   "source": [
    "Por lo tanto, se trata de un problema de clasificación binaria ya que el objetivo es predecir si los trabajadores abandonarán su puesto de trabajo o no, es decir, la variable de salida se trata de una variable categórica (*si* o *no*)"
   ]
  },
  {
   "attachments": {},
   "cell_type": "markdown",
   "metadata": {},
   "source": [
    "## Dummy classifier"
   ]
  },
  {
   "cell_type": "code",
   "execution_count": 18,
   "metadata": {},
   "outputs": [],
   "source": [
    "from sklearn.datasets import load_breast_cancer\n",
    "from sklearn.model_selection import train_test_split\n",
    "from sklearn.dummy import DummyClassifier\n",
    "from sklearn.metrics import classification_report\n",
    "\n",
    "\n",
    "\n",
    "# Crear el dummy classifier\n",
    "dummy = DummyClassifier(strategy='most_frequent')\n",
    "dummy.fit(X_train_processed, y_train)\n",
    "\n",
    "# Realizar predicciones en los datos de prueba\n",
    "y_pred = dummy.predict(X_test_processed)\n",
    "\n",
    "# Calcular las métricas de clasificación\n"
   ]
  },
  {
   "cell_type": "code",
   "execution_count": 19,
   "metadata": {},
   "outputs": [
    {
     "name": "stdout",
     "output_type": "stream",
     "text": [
      "##### F1 ####\n",
      "0.0\n",
      "##### BALANCED ACCURACY ####\n",
      "0.5\n",
      "##### CONFUSION MATRIX ####\n",
      "[[1233    0]\n",
      " [ 237    0]]\n"
     ]
    }
   ],
   "source": [
    "from sklearn.metrics import f1_score, balanced_accuracy_score, confusion_matrix\n",
    "print(\"##### F1 ####\")\n",
    "print(f1_score(y_test, y_pred, average='binary', pos_label='Yes'))\n",
    "print(\"##### BALANCED ACCURACY ####\")\n",
    "print(balanced_accuracy_score(y_test, y_pred))\n",
    "print(\"##### CONFUSION MATRIX ####\")\n",
    "print(confusion_matrix(y_test, y_pred))\n",
    "\n",
    "\n"
   ]
  },
  {
   "attachments": {},
   "cell_type": "markdown",
   "metadata": {},
   "source": [
    "Como era de esperar, la métrica de balanced accurary da como resultado el peor valor posible dentro de los valores aceptados, es decir, la media. En cuanto al F1_score, debido a que el F1 score está predicido por un dummy classifier, puede indicar que el conjunto de datos es fácil de clasificar. Sin embargo es importante analizar otras métricas para obtener una evaluación más completa del desempeño del modelo, por lo que además se utilizan más métricas como confusion_matrix, balanced_accurary..."
   ]
  },
  {
   "attachments": {},
   "cell_type": "markdown",
   "metadata": {},
   "source": [
    "## Método base: Logistic Regression"
   ]
  },
  {
   "attachments": {},
   "cell_type": "markdown",
   "metadata": {},
   "source": [
    "El método de `Regresión Logística` se utiliza para predecir la probabilidad de pertenencia a una de dos clases posibles, en este caso sería Sí o No de la columna que queremos predecir (Attrition). El modelo de regresión logística se ajusta a los datos de entrenamiento mediante la minimización de una función de costo que mide la discrepancia entre las probabilidades predichas por el modelo y las etiquetas reales de los datos de entrenamiento. Una vez que el modelo se ha ajustado a los datos de entrenamiento, se puede utilizar para hacer predicciones sobre datos nuevos o no vistos anteriormente.\n",
    "\n",
    "En este caso, es recomendable escalar los datos porque los coeficientes del modelo se calculan mediante la minimización de una función de costo. "
   ]
  },
  {
   "cell_type": "code",
   "execution_count": 30,
   "metadata": {},
   "outputs": [
    {
     "name": "stdout",
     "output_type": "stream",
     "text": [
      "##### F1 ####\n",
      "0.22972972972972974\n",
      "##### BALANCED ACCURACY ####\n",
      "0.5615920827045284\n",
      "##### CONFUSION MATRIX ####\n",
      "[[1208   25]\n",
      " [ 203   34]]\n"
     ]
    }
   ],
   "source": [
    "from sklearn.metrics import f1_score, balanced_accuracy_score, confusion_matrix\n",
    "from sklearn.linear_model import LogisticRegression\n",
    "from sklearn.preprocessing import StandardScaler\n",
    "\n",
    "# Normalizar los datos de entrenamiento y prueba\n",
    "scaler = StandardScaler()\n",
    "X_train_scaled = scaler.fit_transform(X_train_processed)\n",
    "X_test_scaled = scaler.transform(X_test_processed)\n",
    "\n",
    "# Entrenar el modelo de regresión logística\n",
    "logreg = LogisticRegression()\n",
    "logreg.fit(X_train_scaled, y_train)\n",
    "\n",
    "# Realizar predicciones en los datos de prueba\n",
    "y_pred = logreg.predict(X_test_scaled)\n",
    "\n",
    "# Calcular las métricas de clasificación\n",
    "print(\"##### F1 ####\")\n",
    "print(f1_score(y_test, y_pred, average='binary', pos_label='Yes'))\n",
    "print(\"##### BALANCED ACCURACY ####\")\n",
    "print(balanced_accuracy_score(y_test, y_pred))\n",
    "print(\"##### CONFUSION MATRIX ####\")\n",
    "print(confusion_matrix(y_test, y_pred))\n"
   ]
  },
  {
   "attachments": {},
   "cell_type": "markdown",
   "metadata": {},
   "source": [
    "## Método avanzado: Gradient Boosting"
   ]
  },
  {
   "attachments": {},
   "cell_type": "markdown",
   "metadata": {},
   "source": [
    "Se ha eligido como método avanzado de boosting, el tipo Gradient, debido a que puede que funcione mejor términos de precisión o capacidad de generalización para este problema."
   ]
  },
  {
   "cell_type": "code",
   "execution_count": 21,
   "metadata": {},
   "outputs": [
    {
     "name": "stdout",
     "output_type": "stream",
     "text": [
      "{'max_depth': 4, 'min_samples_split': 2, 'n_estimators': 150}\n"
     ]
    }
   ],
   "source": [
    "from sklearn.model_selection import GridSearchCV\n",
    "from sklearn.ensemble import GradientBoostingClassifier\n",
    "from sklearn.model_selection import StratifiedKFold\n",
    "\n",
    "\n",
    "# Definir los parámetros a ajustar y sus valores posibles\n",
    "param_grid = {\n",
    "    'n_estimators': [50, 100, 150],\n",
    "    'max_depth': [2, 3, 4],\n",
    "    'min_samples_split': [2, 4]\n",
    "}\n",
    "\n",
    "# Crear un objeto de GradientBoostingClassifier\n",
    "model = GradientBoostingClassifier()\n",
    "\n",
    "# Crear un objeto de StratifiedKFold\n",
    "cv = StratifiedKFold(n_splits=5)\n",
    "\n",
    "# Crear un objeto de GridSearchCV\n",
    "grid_search = GridSearchCV(estimator=model, param_grid=param_grid, cv=cv, scoring='balanced_accuracy')\n",
    "\n",
    "# Ajustar el modelo con los datos de entrenamiento\n",
    "grid_search.fit(X_train_processed, y_train)\n",
    "\n",
    "# Obtener los mejores hiperparámetros\n",
    "best_params = grid_search.best_params_\n",
    "\n",
    "print(best_params)\n",
    "\n"
   ]
  },
  {
   "cell_type": "code",
   "execution_count": 22,
   "metadata": {},
   "outputs": [
    {
     "name": "stdout",
     "output_type": "stream",
     "text": [
      "##### F1 #####\n",
      "0.5397727272727273\n",
      "##### BALANCED ACCURACY #####\n",
      "0.692311640847167\n",
      "##### CONFUSION MATRIX #####\n",
      "[[1213   20]\n",
      " [ 142   95]]\n"
     ]
    }
   ],
   "source": [
    "from sklearn.ensemble import GradientBoostingClassifier\n",
    "\n",
    "\n",
    "# Crear un objeto de GradientBoostingClassifier\n",
    "model = GradientBoostingClassifier(max_depth=4, min_samples_split=2, n_estimators=150)\n",
    "model.fit(X_train_processed, y_train)\n",
    "y_pred= model.predict(X_test_processed)\n",
    "\n",
    "print(\"##### F1 #####\")\n",
    "print(f1_score(y_test, y_pred, average='binary', pos_label='Yes'))\n",
    "print(\"##### BALANCED ACCURACY #####\")\n",
    "print(balanced_accuracy_score(y_test, y_pred))\n",
    "print(\"##### CONFUSION MATRIX #####\")\n",
    "print(confusion_matrix(y_test, y_pred))\n"
   ]
  },
  {
   "attachments": {},
   "cell_type": "markdown",
   "metadata": {},
   "source": [
    "## Método avanzado: Xgboost Gradient"
   ]
  },
  {
   "cell_type": "code",
   "execution_count": 23,
   "metadata": {},
   "outputs": [
    {
     "name": "stdout",
     "output_type": "stream",
     "text": [
      "{'colsample_bytree': 1.0, 'max_depth': 5, 'min_child_weight': 1}\n"
     ]
    }
   ],
   "source": [
    "import xgboost as xgb\n",
    "from sklearn.model_selection import GridSearchCV\n",
    "from sklearn.preprocessing import LabelEncoder\n",
    "\n",
    "\n",
    "le = LabelEncoder()\n",
    "y_train_transformed = le.fit_transform(y_train)\n",
    "y_test_transformed= le.fit_transform(y_test)\n",
    "\n",
    "\n",
    "#Crear un objeto DMatrix a partir de los datos de entrenamiento y prueba\n",
    "dtrain = xgb.DMatrix(X_train_processed, label=y_train_transformed)\n",
    "dtest = xgb.DMatrix(X_test_processed, label=y_test_transformed)\n",
    "\n",
    "# Definir los hiperparámetros del modelo y los valores a explorar en la búsqueda por grilla\n",
    "params = {\n",
    "    'max_depth': [3, 4, 5],\n",
    "    'min_child_weight': [1, 2, 3],\n",
    "    'colsample_bytree': [0.6, 0.8, 1.0]\n",
    "}\n",
    "\n",
    "# Crear un objeto XGBoost clasificador\n",
    "xgb_model = xgb.XGBClassifier(objective='binary:logistic', seed=42)\n",
    "\n",
    "# Realizar la búsqueda por grilla\n",
    "grid_search = GridSearchCV(xgb_model, param_grid=params, scoring='balanced_accuracy', cv=cv, n_jobs=-1)\n",
    "grid_search.fit(X_train_processed, y_train_transformed)\n",
    "\n",
    "# Obtener los mejores hiperparámetros encontrados por la búsqueda por grilla\n",
    "best_params = grid_search.best_params_\n",
    "\n",
    "print(best_params)\n",
    "\n"
   ]
  },
  {
   "cell_type": "code",
   "execution_count": 35,
   "metadata": {},
   "outputs": [
    {
     "name": "stdout",
     "output_type": "stream",
     "text": [
      "##### F1 ####\n",
      "0.6402116402116402\n",
      "##### BALANCED ACCURACY ####\n",
      "0.7471639615222725\n",
      "##### CONFUSION MATRIX ####\n",
      "[[1213   20]\n",
      " [ 116  121]]\n"
     ]
    }
   ],
   "source": [
    "import xgboost as xgb\n",
    "from sklearn.metrics import f1_score, balanced_accuracy_score, confusion_matrix\n",
    "\n",
    "# Crear un objeto DMatrix a partir de los datos de entrenamiento y prueba\n",
    "dtrain = xgb.DMatrix(X_train_processed, label=y_train_transformed)\n",
    "dtest = xgb.DMatrix(X_test_processed, label=y_test_transformed)\n",
    "\n",
    "# Definir los hiperparámetros del modelo\n",
    "params = {\n",
    "    'objective': 'binary:logistic',\n",
    "    'max_depth': 5,\n",
    "    'min_child_weight': 1,\n",
    "    'colsample_bytree': 1.0,\n",
    "}\n",
    "\n",
    "# Entrenar el modelo\n",
    "num_rounds = 100\n",
    "xgb_model = xgb.train(params, dtrain, num_rounds)\n",
    "\n",
    "# Realizar predicciones en los datos de prueba\n",
    "y_pred = xgb_model.predict(dtest)\n",
    "y_pred = [round(value) for value in y_pred]\n",
    "\n",
    "# Calcular las métricas de clasificación\n",
    "print(\"##### F1 ####\")\n",
    "print(f1_score(y_test_transformed, y_pred))\n",
    "print(\"##### BALANCED ACCURACY ####\")\n",
    "print(balanced_accuracy_score(y_test_transformed, y_pred))\n",
    "print(\"##### CONFUSION MATRIX ####\")\n",
    "print(confusion_matrix(y_test_transformed, y_pred))\n"
   ]
  },
  {
   "attachments": {},
   "cell_type": "markdown",
   "metadata": {},
   "source": [
    "# Selección de atributos\n",
    "\n",
    "En este punto se realizará una selección de los atributos para saber qué atributos son más importantes. Además, se comprobará el resultado obtenido con los métodos utilizados anteriormente para ver si ha habido alguna mejoría."
   ]
  },
  {
   "attachments": {},
   "cell_type": "markdown",
   "metadata": {},
   "source": [
    "### Logistic Regression"
   ]
  },
  {
   "attachments": {},
   "cell_type": "markdown",
   "metadata": {},
   "source": [
    "Primero hay que calcular un valor de K el cual tenga sentido para seguir prediciendo un buen modelo sin tener en cuenta atributos reduntantes."
   ]
  },
  {
   "cell_type": "code",
   "execution_count": 108,
   "metadata": {},
   "outputs": [
    {
     "name": "stdout",
     "output_type": "stream",
     "text": [
      "k=1, f1_score=0.0, balanced_accuracy=0.5\n",
      "k=2, f1_score=0.0, balanced_accuracy=0.5\n",
      "k=3, f1_score=0.0, balanced_accuracy=0.5\n",
      "k=4, f1_score=0.06374501992031871, balanced_accuracy=0.5144445471064708\n",
      "k=5, f1_score=0.07936507936507936, balanced_accuracy=0.5190694713932263\n",
      "k=6, f1_score=0.07905138339920947, balanced_accuracy=0.5186639563891712\n",
      "k=7, f1_score=0.1149425287356322, balanced_accuracy=0.5279959345837568\n",
      "k=8, f1_score=0.15671641791044777, balanced_accuracy=0.5402486474278029\n",
      "k=9, f1_score=0.15671641791044777, balanced_accuracy=0.5402486474278029\n",
      "k=10, f1_score=0.16849816849816848, balanced_accuracy=0.5432515116983379\n",
      "k=11, f1_score=0.17454545454545456, balanced_accuracy=0.544955701335633\n",
      "k=12, f1_score=0.19999999999999998, balanced_accuracy=0.5529890048969787\n",
      "k=13, f1_score=0.19999999999999998, balanced_accuracy=0.5529890048969787\n",
      "k=14, f1_score=0.19999999999999998, balanced_accuracy=0.5529890048969787\n",
      "k=15, f1_score=0.1678832116788321, balanced_accuracy=0.5428459966942828\n",
      "k=16, f1_score=0.18571428571428572, balanced_accuracy=0.547958565606168\n",
      "k=17, f1_score=0.18571428571428572, balanced_accuracy=0.547958565606168\n",
      "k=18, f1_score=0.19217081850533804, balanced_accuracy=0.5500682702475181\n",
      "k=19, f1_score=0.17667844522968199, balanced_accuracy=0.5442268009485971\n",
      "k=20, f1_score=0.17793594306049823, balanced_accuracy=0.5450378309567074\n",
      "k=21, f1_score=0.1708185053380783, balanced_accuracy=0.5425226113113021\n",
      "k=22, f1_score=0.17266187050359713, balanced_accuracy=0.5437391563234676\n",
      "k=23, f1_score=0.17921146953405015, balanced_accuracy=0.5458488609648178\n",
      "k=24, f1_score=0.18505338078291816, balanced_accuracy=0.5475530506021128\n",
      "k=25, f1_score=0.2054794520547945, balanced_accuracy=0.5531532641391276\n",
      "k=26, f1_score=0.21305841924398627, balanced_accuracy=0.5560739987885881\n",
      "k=27, f1_score=0.2123287671232877, balanced_accuracy=0.5556684837845329\n",
      "k=28, f1_score=0.2123287671232877, balanced_accuracy=0.5556684837845329\n",
      "k=29, f1_score=0.2123287671232877, balanced_accuracy=0.5556684837845329\n",
      "k=30, f1_score=0.21305841924398627, balanced_accuracy=0.5560739987885881\n",
      "k=31, f1_score=0.21305841924398627, balanced_accuracy=0.5560739987885881\n",
      "k=32, f1_score=0.20689655172413793, balanced_accuracy=0.5539642941472378\n",
      "k=33, f1_score=0.19512195121951223, balanced_accuracy=0.5501503998685926\n",
      "k=34, f1_score=0.1958041958041958, balanced_accuracy=0.5505559148726478\n",
      "k=35, f1_score=0.20209059233449478, balanced_accuracy=0.552665619513998\n",
      "k=36, f1_score=0.20979020979020982, balanced_accuracy=0.5555863541634585\n",
      "k=37, f1_score=0.20979020979020982, balanced_accuracy=0.5555863541634585\n",
      "k=38, f1_score=0.21602787456445993, balanced_accuracy=0.5576960588048087\n",
      "k=39, f1_score=0.21126760563380284, balanced_accuracy=0.5563973841715688\n",
      "k=40, f1_score=0.2105263157894737, balanced_accuracy=0.5559918691675136\n",
      "k=41, f1_score=0.21527777777777776, balanced_accuracy=0.5572905438007535\n",
      "k=42, f1_score=0.20905923344947736, balanced_accuracy=0.5551808391594033\n",
      "k=43, f1_score=0.20833333333333334, balanced_accuracy=0.5547753241553481\n",
      "k=44, f1_score=0.20905923344947736, balanced_accuracy=0.5551808391594033\n",
      "k=45, f1_score=0.20979020979020982, balanced_accuracy=0.5555863541634585\n",
      "k=46, f1_score=0.21126760563380284, balanced_accuracy=0.5563973841715688\n"
     ]
    },
    {
     "data": {
      "image/png": "[encoded data removed]",
      "text/plain": [
       "<Figure size 640x480 with 1 Axes>"
      ]
     },
     "metadata": {},
     "output_type": "display_data"
    }
   ],
   "source": [
    "from sklearn.preprocessing import MinMaxScaler\n",
    "from sklearn.feature_selection import SelectKBest, f_classif\n",
    "\n",
    "scaler =  MinMaxScaler()\n",
    "selector = SelectKBest(f_classif)\n",
    "logreg = LogisticRegression()\n",
    "\n",
    "pipe_select_logreg = Pipeline([\n",
    "    ('scaler', scaler),\n",
    "    ('select', selector),\n",
    "    ('logreg', logreg)\n",
    "])\n",
    "\n",
    "# Listas para guardar los resultados de las métricas\n",
    "f1_scores = []\n",
    "balanced_accuracies = []\n",
    "\n",
    "# Probar diferentes valores de k\n",
    "for k in range(1, X_train_processed.shape[1] + 1):\n",
    "    selector.set_params(k=k)\n",
    "    pipe_select_logreg.fit(X_train_processed, y_train)\n",
    "    y_pred_logreg = pipe_select_logreg.predict(X_test_processed)\n",
    "    f1 = f1_score(y_test, y_pred_logreg, average='binary', pos_label='Yes')\n",
    "    balanced_acc = balanced_accuracy_score(y_test, y_pred_logreg)\n",
    "    f1_scores.append(f1)\n",
    "    balanced_accuracies.append(balanced_acc)\n",
    "    print(f\"k={k}, f1_score={f1}, balanced_accuracy={balanced_acc}\")\n",
    "\n",
    "# Graficar los resultados\n",
    "plt.plot(range(1, X_train_processed.shape[1] + 1), f1_scores, label=\"f1_score\")\n",
    "plt.plot(range(1, X_train_processed.shape[1] + 1), balanced_accuracies, label=\"balanced_accuracy\")\n",
    "plt.xlabel(\"Number of features\")\n",
    "plt.ylabel(\"Metric score\")\n",
    "plt.legend()\n",
    "plt.show()"
   ]
  },
  {
   "attachments": {},
   "cell_type": "markdown",
   "metadata": {},
   "source": [
    "Como se puede apreciar en el gráfico, a partir de 14 atributos se puede observar que los valores para f1 score y balanced se empiezan a estabilizar."
   ]
  },
  {
   "cell_type": "code",
   "execution_count": 109,
   "metadata": {},
   "outputs": [
    {
     "data": {
      "text/plain": [
       "{'scale': StandardScaler(),\n",
       " 'select': SelectKBest(k=14),\n",
       " 'logreg': LogisticRegression()}"
      ]
     },
     "execution_count": 109,
     "metadata": {},
     "output_type": "execute_result"
    }
   ],
   "source": [
    "from sklearn.feature_selection import SelectKBest, f_classif\n",
    "from sklearn.pipeline import Pipeline\n",
    "from sklearn.preprocessing import StandardScaler\n",
    "\n",
    "scaler = StandardScaler()\n",
    "logreg = LogisticRegression()\n",
    "# Seleccionar los 10 atributos más importantes usando SelectKBest y f_classif\n",
    "selector = SelectKBest(score_func=f_classif, k=14)\n",
    "\n",
    "\n",
    "pipe_select_scale_log_reg = Pipeline([\n",
    "    ('scale', scaler),\n",
    "    ('select', selector),\n",
    "    ('logreg', logreg)\n",
    "])\n",
    "\n",
    "pipe_select_scale_log_reg.fit(X_train_processed, y_train)\n",
    "\n",
    "pipe_select_scale_log_reg.named_steps"
   ]
  },
  {
   "cell_type": "code",
   "execution_count": 110,
   "metadata": {},
   "outputs": [
    {
     "name": "stdout",
     "output_type": "stream",
     "text": [
      "Features selected: [ True False False False  True  True  True  True False False False False\n",
      " False False False  True  True  True False  True False  True False False\n",
      " False False  True False False False False False False False False False\n",
      " False False False False False False False  True  True  True]\n",
      "Locations where features selected: (array([ 0,  4,  5,  6,  7, 15, 16, 17, 19, 21, 26, 43, 44, 45]),)\n",
      "Feature names after selection: ['num__hrs' 'num__EnvironmentSatisfaction' 'num__JobSatisfaction'\n",
      " 'num__WorkLifeBalance' 'num__Age' 'num__TotalWorkingYears'\n",
      " 'num__TrainingTimesLastYear' 'num__YearsAtCompany'\n",
      " 'num__YearsWithCurrManager' 'cat__BusinessTravel_Travel_Frequently'\n",
      " 'cat__EducationField_Human Resources' 'cat__MaritalStatus_Divorced'\n",
      " 'cat__MaritalStatus_Married' 'cat__MaritalStatus_Single']\n"
     ]
    }
   ],
   "source": [
    "import numpy as np\n",
    "\n",
    "print(f\"Features selected: {pipe_select_scale_log_reg.named_steps['select'].get_support()}\")\n",
    "\n",
    "print(f\"Locations where features selected: {np.where(pipe_select_scale_log_reg.named_steps['select'].get_support())}\")\n",
    "\n",
    "feature_names_before_selection = pipe_select_scale_log_reg.named_steps['scale'].get_feature_names_out()\n",
    "print(f\"Feature names after selection: {pipe_select_scale_log_reg.named_steps['select'].get_feature_names_out(feature_names_before_selection)}\")"
   ]
  },
  {
   "attachments": {},
   "cell_type": "markdown",
   "metadata": {},
   "source": [
    "Evaluación del modelo"
   ]
  },
  {
   "cell_type": "code",
   "execution_count": 111,
   "metadata": {},
   "outputs": [
    {
     "name": "stdout",
     "output_type": "stream",
     "text": [
      "##### F1 ####\n",
      "0.21602787456445993\n",
      "##### BALANCED ACCURACY ####\n",
      "0.5576960588048087\n",
      "##### CONFUSION MATRIX ####\n",
      "[[1214   19]\n",
      " [ 206   31]]\n"
     ]
    }
   ],
   "source": [
    "y_pred_logreg = pipe_select_scale_log_reg.predict(X_test_processed)\n",
    "\n",
    "# Calcular las métricas de clasificación\n",
    "print(\"##### F1 ####\")\n",
    "print(f1_score(y_test, y_pred_logreg, average='binary', pos_label='Yes'))\n",
    "print(\"##### BALANCED ACCURACY ####\")\n",
    "print(balanced_accuracy_score(y_test, y_pred_logreg))\n",
    "print(\"##### CONFUSION MATRIX ####\")\n",
    "print(confusion_matrix(y_test, y_pred_logreg))"
   ]
  },
  {
   "attachments": {},
   "cell_type": "markdown",
   "metadata": {},
   "source": [
    "### Gradient Boosting"
   ]
  },
  {
   "attachments": {},
   "cell_type": "markdown",
   "metadata": {},
   "source": [
    "Calculamos un valor de K con sentido"
   ]
  },
  {
   "cell_type": "code",
   "execution_count": 97,
   "metadata": {},
   "outputs": [
    {
     "name": "stdout",
     "output_type": "stream",
     "text": [
      "k=1, f1_score=0.07874015748031496, balanced_accuracy=0.518258441385116\n",
      "k=2, f1_score=0.19867549668874174, balanced_accuracy=0.549098114098576\n",
      "k=3, f1_score=0.23411371237458195, balanced_accuracy=0.5628907573377684\n",
      "k=4, f1_score=0.255192878338279, balanced_accuracy=0.5676029443469155\n",
      "k=5, f1_score=0.29429429429429427, balanced_accuracy=0.5843163222355683\n",
      "k=6, f1_score=0.3058823529411765, balanced_accuracy=0.5890233761433984\n",
      "k=7, f1_score=0.3567251461988304, balanced_accuracy=0.6108493229439362\n",
      "k=8, f1_score=0.37426900584795314, balanced_accuracy=0.6183949818801523\n",
      "k=9, f1_score=0.375, balanced_accuracy=0.618312852259078\n",
      "k=10, f1_score=0.36734693877551017, balanced_accuracy=0.6154742472306918\n",
      "k=11, f1_score=0.38953488372093026, balanced_accuracy=0.6251296108082581\n",
      "k=12, f1_score=0.4068767908309455, balanced_accuracy=0.6331629143696038\n",
      "k=13, f1_score=0.4127906976744186, balanced_accuracy=0.6351904893898797\n",
      "k=14, f1_score=0.42441860465116277, balanced_accuracy=0.6402209286806904\n",
      "k=15, f1_score=0.45584045584045585, balanced_accuracy=0.6549888611701418\n",
      "k=16, f1_score=0.45797101449275357, balanced_accuracy=0.6549067315490673\n",
      "k=17, f1_score=0.4649859943977591, balanced_accuracy=0.6601014300820269\n",
      "k=18, f1_score=0.4606741573033708, balanced_accuracy=0.6579917254406767\n",
      "k=19, f1_score=0.4412607449856733, balanced_accuracy=0.6482542322420359\n",
      "k=20, f1_score=0.45086705202312133, balanced_accuracy=0.6519859968996068\n",
      "k=21, f1_score=0.4869565217391304, balanced_accuracy=0.6674828297760942\n",
      "k=22, f1_score=0.4913294797687861, balanced_accuracy=0.6695925344174444\n",
      "k=23, f1_score=0.4753623188405797, balanced_accuracy=0.6624523904852834\n",
      "k=24, f1_score=0.472934472934473, balanced_accuracy=0.6625345201063578\n",
      "k=25, f1_score=0.5057471264367817, balanced_accuracy=0.6763271633455501\n",
      "k=26, f1_score=0.48979591836734704, balanced_accuracy=0.6682938597842044\n",
      "k=27, f1_score=0.5352112676056339, balanced_accuracy=0.6910950958350015\n",
      "k=28, f1_score=0.5423728813559322, balanced_accuracy=0.6940158304844621\n",
      "k=29, f1_score=0.5490196078431372, balanced_accuracy=0.6978297247631073\n",
      "k=30, f1_score=0.5434173669467787, balanced_accuracy=0.695314505117702\n",
      "k=31, f1_score=0.5584045584045584, balanced_accuracy=0.7002628147874382\n",
      "k=32, f1_score=0.5314285714285714, balanced_accuracy=0.6880922315644666\n",
      "k=33, f1_score=0.6022099447513811, balanced_accuracy=0.7234695658422906\n",
      "k=34, f1_score=0.5706214689265537, balanced_accuracy=0.7065919287114889\n",
      "k=35, f1_score=0.5625000000000001, balanced_accuracy=0.7023725194287884\n",
      "k=36, f1_score=0.5792349726775956, balanced_accuracy=0.7143018468898539\n",
      "k=37, f1_score=0.5730027548209367, balanced_accuracy=0.7104879526112087\n",
      "k=38, f1_score=0.5485714285714286, balanced_accuracy=0.6956378905006827\n",
      "k=39, f1_score=0.5413105413105413, balanced_accuracy=0.6927171558512222\n",
      "k=40, f1_score=0.5348837209302325, balanced_accuracy=0.6880101019433922\n",
      "k=41, f1_score=0.5428571428571428, balanced_accuracy=0.6931226708552773\n",
      "k=42, f1_score=0.573816155988858, balanced_accuracy=0.7095947929820239\n",
      "k=43, f1_score=0.5485714285714286, balanced_accuracy=0.6956378905006827\n",
      "k=44, f1_score=0.5495750708215298, balanced_accuracy=0.6969365651339225\n",
      "k=45, f1_score=0.5439093484419263, balanced_accuracy=0.6944213454885172\n",
      "k=46, f1_score=0.538243626062323, balanced_accuracy=0.6919061258431118\n"
     ]
    },
    {
     "data": {
      "image/png": "[encoded data removed]",
      "text/plain": [
       "<Figure size 640x480 with 1 Axes>"
      ]
     },
     "metadata": {},
     "output_type": "display_data"
    }
   ],
   "source": [
    "from sklearn.feature_selection import SelectKBest, f_classif\n",
    "from sklearn.pipeline import Pipeline\n",
    "from sklearn.preprocessing import MinMaxScaler\n",
    "from sklearn.metrics import f1_score, balanced_accuracy_score\n",
    "import matplotlib.pyplot as plt\n",
    "\n",
    "scaler =  MinMaxScaler()\n",
    "selector = SelectKBest(f_classif)\n",
    "grad_boosting = GradientBoostingClassifier(max_depth=4, min_samples_split=2, n_estimators=150)\n",
    "\n",
    "pipe_select_gradboost = Pipeline([\n",
    "    ('scaler', scaler),\n",
    "    ('select', selector),\n",
    "    ('gradient', grad_boosting)\n",
    "])\n",
    "\n",
    "# Listas para guardar los resultados de las métricas\n",
    "f1_scores = []\n",
    "balanced_accuracies = []\n",
    "\n",
    "# Probar diferentes valores de k\n",
    "for k in range(1, X_train_processed.shape[1] + 1):\n",
    "    selector.set_params(k=k)\n",
    "    pipe_select_gradboost.fit(X_train_processed, y_train_transformed)\n",
    "    y_pred_grad = pipe_select_gradboost.predict(X_test_processed)\n",
    "    f1 = f1_score(y_test_transformed, y_pred_grad, average='binary', pos_label=1)\n",
    "    balanced_acc = balanced_accuracy_score(y_test_transformed, y_pred_grad)\n",
    "    f1_scores.append(f1)\n",
    "    balanced_accuracies.append(balanced_acc)\n",
    "    print(f\"k={k}, f1_score={f1}, balanced_accuracy={balanced_acc}\")\n",
    "\n",
    "# Graficar los resultados\n",
    "plt.plot(range(1, X_train_processed.shape[1] + 1), f1_scores, label=\"f1_score\")\n",
    "plt.plot(range(1, X_train_processed.shape[1] + 1), balanced_accuracies, label=\"balanced_accuracy\")\n",
    "plt.xlabel(\"Number of features\")\n",
    "plt.ylabel(\"Metric score\")\n",
    "plt.legend()\n",
    "plt.show()"
   ]
  },
  {
   "cell_type": "code",
   "execution_count": 123,
   "metadata": {},
   "outputs": [
    {
     "data": {
      "text/plain": [
       "{'scaler': MinMaxScaler(),\n",
       " 'select': SelectKBest(k=25),\n",
       " 'gradient': GradientBoostingClassifier(max_depth=4, n_estimators=150)}"
      ]
     },
     "execution_count": 123,
     "metadata": {},
     "output_type": "execute_result"
    }
   ],
   "source": [
    "from sklearn.feature_selection import SelectKBest, f_classif\n",
    "from sklearn.pipeline import Pipeline\n",
    "from sklearn.preprocessing import MinMaxScaler\n",
    "\n",
    "scaler =  MinMaxScaler()\n",
    "selector = SelectKBest(f_classif, k=25)\n",
    "grad_boosting = GradientBoostingClassifier(max_depth=4, min_samples_split=2, n_estimators=150)\n",
    "\n",
    "pipe_select_gradboost = Pipeline([\n",
    "    ('scaler', scaler),\n",
    "    ('select', selector),\n",
    "    ('gradient', grad_boosting)\n",
    "])\n",
    "\n",
    "pipe_select_gradboost.fit(X_train_processed, y_train_transformed)\n",
    "\n",
    "pipe_select_gradboost.named_steps\n"
   ]
  },
  {
   "cell_type": "code",
   "execution_count": 124,
   "metadata": {},
   "outputs": [
    {
     "name": "stdout",
     "output_type": "stream",
     "text": [
      "Features selected: [ True  True  True False  True  True  True  True False False False False\n",
      "  True False False  True  True  True  True  True  True  True  True  True\n",
      " False False  True False False False False  True False False  True False\n",
      " False False  True False  True False False  True  True  True]\n",
      "Locations where features selected: (array([ 0,  1,  2,  4,  5,  6,  7, 12, 15, 16, 17, 18, 19, 20, 21, 22, 23,\n",
      "       26, 31, 34, 38, 40, 43, 44, 45]),)\n",
      "Feature names after selection: ['num__hrs' 'num__absences' 'num__JobInvolvement'\n",
      " 'num__EnvironmentSatisfaction' 'num__JobSatisfaction'\n",
      " 'num__WorkLifeBalance' 'num__Age' 'num__NumCompaniesWorked'\n",
      " 'num__TotalWorkingYears' 'num__TrainingTimesLastYear'\n",
      " 'num__YearsAtCompany' 'num__YearsSinceLastPromotion'\n",
      " 'num__YearsWithCurrManager' 'cat__BusinessTravel_Non-Travel'\n",
      " 'cat__BusinessTravel_Travel_Frequently'\n",
      " 'cat__BusinessTravel_Travel_Rarely' 'cat__Department_Human Resources'\n",
      " 'cat__EducationField_Human Resources'\n",
      " 'cat__EducationField_Technical Degree'\n",
      " 'cat__JobRole_Healthcare Representative'\n",
      " 'cat__JobRole_Manufacturing Director' 'cat__JobRole_Research Scientist'\n",
      " 'cat__MaritalStatus_Divorced' 'cat__MaritalStatus_Married'\n",
      " 'cat__MaritalStatus_Single']\n"
     ]
    }
   ],
   "source": [
    "import numpy as np\n",
    "\n",
    "print(f\"Features selected: {pipe_select_gradboost.named_steps['select'].get_support()}\")\n",
    "\n",
    "print(f\"Locations where features selected: {np.where(pipe_select_gradboost.named_steps['select'].get_support())}\")\n",
    "\n",
    "feature_names_before_selection = pipe_select_gradboost.named_steps['scaler'].get_feature_names_out()\n",
    "print(f\"Feature names after selection: {pipe_select_gradboost.named_steps['select'].get_feature_names_out(feature_names_before_selection)}\")"
   ]
  },
  {
   "attachments": {},
   "cell_type": "markdown",
   "metadata": {},
   "source": [
    "Evaluación del modelo"
   ]
  },
  {
   "cell_type": "code",
   "execution_count": 125,
   "metadata": {},
   "outputs": [
    {
     "name": "stdout",
     "output_type": "stream",
     "text": [
      "##### F1 ####\n",
      "0.47398843930635837\n",
      "##### BALANCED ACCURACY ####\n",
      "0.6620468754812283\n",
      "##### CONFUSION MATRIX ####\n",
      "[[1206   27]\n",
      " [ 155   82]]\n"
     ]
    }
   ],
   "source": [
    "y_pred_grad = pipe_select_gradboost.predict(X_test_processed)\n",
    "\n",
    "# Calcular las métricas de clasificación\n",
    "print(\"##### F1 ####\")\n",
    "print(f1_score(y_test_transformed, y_pred_grad, average='binary', pos_label=1))\n",
    "print(\"##### BALANCED ACCURACY ####\")\n",
    "print(balanced_accuracy_score(y_test_transformed, y_pred_grad))\n",
    "print(\"##### CONFUSION MATRIX ####\")\n",
    "print(confusion_matrix(y_test_transformed, y_pred_grad))"
   ]
  },
  {
   "attachments": {},
   "cell_type": "markdown",
   "metadata": {},
   "source": [
    "## XGB"
   ]
  },
  {
   "cell_type": "code",
   "execution_count": 127,
   "metadata": {},
   "outputs": [
    {
     "name": "stdout",
     "output_type": "stream",
     "text": [
      "k=1, f1_score=0.07874015748031496, balanced_accuracy=0.518258441385116\n",
      "k=2, f1_score=0.17508417508417512, balanced_accuracy=0.5410648105372304\n",
      "k=3, f1_score=0.2337662337662338, balanced_accuracy=0.5617563419466773\n",
      "k=4, f1_score=0.27011494252873564, balanced_accuracy=0.5732031578839303\n",
      "k=5, f1_score=0.3468834688346883, balanced_accuracy=0.6074460767706633\n",
      "k=6, f1_score=0.3687150837988827, balanced_accuracy=0.6169371811060806\n",
      "k=7, f1_score=0.4065934065934066, balanced_accuracy=0.6346258482449927\n",
      "k=8, f1_score=0.416, balanced_accuracy=0.6402260617820075\n",
      "k=9, f1_score=0.42048517520215634, balanced_accuracy=0.641848121798228\n",
      "k=10, f1_score=0.43915343915343913, balanced_accuracy=0.6515856149968688\n",
      "k=11, f1_score=0.44686648501362397, balanced_accuracy=0.6535310603960701\n",
      "k=12, f1_score=0.4426229508196721, balanced_accuracy=0.6514213557547199\n",
      "k=13, f1_score=0.448, balanced_accuracy=0.6553173796544396\n",
      "k=14, f1_score=0.4712328767123288, balanced_accuracy=0.6644029689858019\n",
      "k=15, f1_score=0.4840425531914894, balanced_accuracy=0.672518402168222\n",
      "k=16, f1_score=0.4880636604774536, balanced_accuracy=0.6746281068095722\n",
      "k=17, f1_score=0.493368700265252, balanced_accuracy=0.6771433264549775\n",
      "k=18, f1_score=0.5052083333333334, balanced_accuracy=0.684365600008213\n",
      "k=19, f1_score=0.4973821989528796, balanced_accuracy=0.6801461907255125\n",
      "k=20, f1_score=0.45161290322580644, balanced_accuracy=0.6565339246666051\n",
      "k=21, f1_score=0.5277044854881267, balanced_accuracy=0.6939388339647048\n",
      "k=22, f1_score=0.5358090185676393, balanced_accuracy=0.6972650836182205\n",
      "k=23, f1_score=0.5570291777188329, balanced_accuracy=0.7073259621998419\n",
      "k=24, f1_score=0.5212765957446809, balanced_accuracy=0.6901249396860595\n",
      "k=25, f1_score=0.5205479452054794, balanced_accuracy=0.68703994579445\n",
      "k=26, f1_score=0.5013774104683195, balanced_accuracy=0.677790097220939\n",
      "k=27, f1_score=0.592, balanced_accuracy=0.7232283100803844\n",
      "k=28, f1_score=0.5826771653543308, balanced_accuracy=0.7207952200560535\n",
      "k=29, f1_score=0.5828877005347595, balanced_accuracy=0.7186033857936288\n",
      "k=30, f1_score=0.631578947368421, balanced_accuracy=0.7438377118687569\n",
      "k=31, f1_score=0.6563307493540053, balanced_accuracy=0.7586056443582083\n",
      "k=32, f1_score=0.640625, balanced_accuracy=0.7497613107887524\n",
      "k=33, f1_score=0.6270270270270271, balanced_accuracy=0.737831983327687\n",
      "k=34, f1_score=0.65625, balanced_accuracy=0.7573069697249684\n",
      "k=35, f1_score=0.6461538461538461, balanced_accuracy=0.7548738797006376\n",
      "k=36, f1_score=0.6299212598425197, balanced_accuracy=0.7434321968647017\n",
      "k=37, f1_score=0.6299212598425197, balanced_accuracy=0.7434321968647017\n",
      "k=38, f1_score=0.6526315789473685, balanced_accuracy=0.7538985904503783\n",
      "k=39, f1_score=0.6387434554973822, balanced_accuracy=0.7480571211514573\n",
      "k=40, f1_score=0.624, balanced_accuracy=0.7383196279528166\n",
      "k=41, f1_score=0.6351706036745406, balanced_accuracy=0.745947416510107\n",
      "k=42, f1_score=0.6133333333333334, balanced_accuracy=0.7332891886620058\n",
      "k=43, f1_score=0.6490765171503957, balanced_accuracy=0.751788885809028\n",
      "k=44, f1_score=0.6370757180156658, balanced_accuracy=0.7476516061474021\n",
      "k=45, f1_score=0.6243386243386244, balanced_accuracy=0.7396183025860564\n",
      "k=46, f1_score=0.6032608695652174, balanced_accuracy=0.7260669151087704\n"
     ]
    },
    {
     "data": {
      "image/png": "[encoded data removed]",
      "text/plain": [
       "<Figure size 640x480 with 1 Axes>"
      ]
     },
     "metadata": {},
     "output_type": "display_data"
    }
   ],
   "source": [
    "from sklearn.feature_selection import SelectKBest, f_classif\n",
    "from sklearn.pipeline import Pipeline\n",
    "from xgboost import XGBClassifier\n",
    "from sklearn.preprocessing import MinMaxScaler\n",
    "from sklearn.metrics import f1_score, balanced_accuracy_score\n",
    "import matplotlib.pyplot as plt\n",
    "\n",
    "scaler = MinMaxScaler()\n",
    "selector = SelectKBest(f_classif)\n",
    "xgb_clf = XGBClassifier(max_depth=4, min_child_weight=1, n_estimators=150)\n",
    "\n",
    "pipe_select_xgb = Pipeline([\n",
    "    ('scaler', scaler),\n",
    "    ('select', selector),\n",
    "    ('xgb', xgb_clf)\n",
    "])\n",
    "\n",
    "# Listas para guardar los resultados de las métricas\n",
    "f1_scores = []\n",
    "balanced_accuracies = []\n",
    "\n",
    "# Probar diferentes valores de k\n",
    "for k in range(1, X_train_processed.shape[1] + 1):\n",
    "    selector.set_params(k=k)\n",
    "    pipe_select_xgb.fit(X_train_processed, y_train_transformed)\n",
    "    y_pred_xgb = pipe_select_xgb.predict(X_test_processed)\n",
    "    f1 = f1_score(y_test_transformed, y_pred_xgb, average='binary', pos_label=1)\n",
    "    balanced_acc = balanced_accuracy_score(y_test_transformed, y_pred_xgb)\n",
    "    f1_scores.append(f1)\n",
    "    balanced_accuracies.append(balanced_acc)\n",
    "    print(f\"k={k}, f1_score={f1}, balanced_accuracy={balanced_acc}\")\n",
    "\n",
    "# Graficar los resultados\n",
    "plt.plot(range(1, X_train_processed.shape[1] + 1), f1_scores, label=\"f1_score\")\n",
    "plt.plot(range(1, X_train_processed.shape[1] + 1), balanced_accuracies, label=\"balanced_accuracy\")\n",
    "plt.xlabel(\"Number of features\")\n",
    "plt.ylabel(\"Metric score\")\n",
    "plt.legend()\n",
    "plt.show()\n",
    "\n"
   ]
  },
  {
   "cell_type": "code",
   "execution_count": 128,
   "metadata": {},
   "outputs": [
    {
     "data": {
      "text/plain": [
       "{'scaler': MinMaxScaler(),\n",
       " 'select': SelectKBest(k=31),\n",
       " 'xgb': XGBClassifier(base_score=None, booster=None, callbacks=None,\n",
       "               colsample_bylevel=None, colsample_bynode=None,\n",
       "               colsample_bytree=None, early_stopping_rounds=None,\n",
       "               enable_categorical=False, eval_metric=None, feature_types=None,\n",
       "               gamma=None, gpu_id=None, grow_policy=None, importance_type=None,\n",
       "               interaction_constraints=None, learning_rate=None, max_bin=None,\n",
       "               max_cat_threshold=None, max_cat_to_onehot=None,\n",
       "               max_delta_step=None, max_depth=4, max_leaves=None,\n",
       "               min_child_weight=1, missing=nan, monotone_constraints=None,\n",
       "               n_estimators=150, n_jobs=None, num_parallel_tree=None,\n",
       "               predictor=None, random_state=None, ...)}"
      ]
     },
     "execution_count": 128,
     "metadata": {},
     "output_type": "execute_result"
    }
   ],
   "source": [
    "from sklearn.feature_selection import SelectKBest, f_classif\n",
    "from sklearn.pipeline import Pipeline\n",
    "from xgboost import XGBClassifier\n",
    "from sklearn.preprocessing import MinMaxScaler\n",
    "\n",
    "scaler = MinMaxScaler()\n",
    "selector = SelectKBest(f_classif, k=31)\n",
    "xgb_clf = XGBClassifier(max_depth=4, min_child_weight=1, n_estimators=150)\n",
    "\n",
    "pipe_select_xgb = Pipeline([\n",
    "    ('scaler', scaler),\n",
    "    ('select', selector),\n",
    "    ('xgb', xgb_clf)\n",
    "])\n",
    "\n",
    "pipe_select_xgb.fit(X_train_processed, y_train_transformed)\n",
    "\n",
    "pipe_select_xgb.named_steps\n"
   ]
  },
  {
   "cell_type": "code",
   "execution_count": 129,
   "metadata": {},
   "outputs": [
    {
     "name": "stdout",
     "output_type": "stream",
     "text": [
      "Features selected: [ True  True  True  True  True  True  True  True  True  True False  True\n",
      "  True False False  True  True  True  True  True  True  True  True  True\n",
      "  True False  True False False False False  True False False  True False\n",
      " False False  True False  True False  True  True  True  True]\n",
      "Locations where features selected: (array([ 0,  1,  2,  3,  4,  5,  6,  7,  8,  9, 11, 12, 15, 16, 17, 18, 19,\n",
      "       20, 21, 22, 23, 24, 26, 31, 34, 38, 40, 42, 43, 44, 45]),)\n",
      "Feature names after selection: ['num__hrs' 'num__absences' 'num__JobInvolvement' 'num__PerformanceRating'\n",
      " 'num__EnvironmentSatisfaction' 'num__JobSatisfaction'\n",
      " 'num__WorkLifeBalance' 'num__Age' 'num__DistanceFromHome'\n",
      " 'num__Education' 'num__MonthlyIncome' 'num__NumCompaniesWorked'\n",
      " 'num__TotalWorkingYears' 'num__TrainingTimesLastYear'\n",
      " 'num__YearsAtCompany' 'num__YearsSinceLastPromotion'\n",
      " 'num__YearsWithCurrManager' 'cat__BusinessTravel_Non-Travel'\n",
      " 'cat__BusinessTravel_Travel_Frequently'\n",
      " 'cat__BusinessTravel_Travel_Rarely' 'cat__Department_Human Resources'\n",
      " 'cat__Department_Research & Development'\n",
      " 'cat__EducationField_Human Resources'\n",
      " 'cat__EducationField_Technical Degree'\n",
      " 'cat__JobRole_Healthcare Representative'\n",
      " 'cat__JobRole_Manufacturing Director' 'cat__JobRole_Research Scientist'\n",
      " 'cat__JobRole_Sales Representative' 'cat__MaritalStatus_Divorced'\n",
      " 'cat__MaritalStatus_Married' 'cat__MaritalStatus_Single']\n"
     ]
    }
   ],
   "source": [
    "import numpy as np\n",
    "\n",
    "print(f\"Features selected: {pipe_select_xgb.named_steps['select'].get_support()}\")\n",
    "\n",
    "print(f\"Locations where features selected: {np.where(pipe_select_xgb.named_steps['select'].get_support())}\")\n",
    "\n",
    "feature_names_before_selection = pipe_select_xgb.named_steps['scaler'].get_feature_names_out()\n",
    "print(f\"Feature names after selection: {pipe_select_xgb.named_steps['select'].get_feature_names_out(feature_names_before_selection)}\")"
   ]
  },
  {
   "cell_type": "code",
   "execution_count": 130,
   "metadata": {},
   "outputs": [
    {
     "name": "stdout",
     "output_type": "stream",
     "text": [
      "##### F1 ####\n",
      "0.6563307493540053\n",
      "##### BALANCED ACCURACY ####\n",
      "0.7586056443582083\n",
      "##### CONFUSION MATRIX ####\n",
      "[[1210   23]\n",
      " [ 110  127]]\n"
     ]
    }
   ],
   "source": [
    "y_pred_xgb = pipe_select_xgb.predict(X_test_processed)\n",
    "\n",
    "# Calcular las métricas de clasificación\n",
    "print(\"##### F1 ####\")\n",
    "print(f1_score(y_test_transformed, y_pred_xgb, average='binary', pos_label=1))\n",
    "print(\"##### BALANCED ACCURACY ####\")\n",
    "print(balanced_accuracy_score(y_test_transformed, y_pred_xgb))\n",
    "print(\"##### CONFUSION MATRIX ####\")\n",
    "print(confusion_matrix(y_test_transformed, y_pred_xgb))"
   ]
  }
 ],
 "metadata": {
  "kernelspec": {
   "display_name": "Python 3",
   "language": "python",
   "name": "python3"
  },
  "language_info": {
   "codemirror_mode": {
    "name": "ipython",
    "version": 3
   },
   "file_extension": ".py",
   "mimetype": "text/x-python",
   "name": "python",
   "nbconvert_exporter": "python",
   "pygments_lexer": "ipython3",
   "version": "3.10.6"
  },
  "orig_nbformat": 4
 },
 "nbformat": 4,
 "nbformat_minor": 2
}
