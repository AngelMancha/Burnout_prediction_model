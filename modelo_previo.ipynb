{
 "cells": [
  {
   "attachments": {},
   "cell_type": "markdown",
   "metadata": {},
   "source": [
    "# Predicción del abandono (BURNOUT) de empleados"
   ]
  },
  {
   "attachments": {},
   "cell_type": "markdown",
   "metadata": {},
   "source": [
    "## Carga de los datos\n",
    "\n",
    "El primer paso a seguir es cargar los datos para poder trabajar sobre ellos y construir un modelo que prediga si un empleado va a abandonar la empresa."
   ]
  },
  {
   "cell_type": "code",
   "execution_count": 95,
   "metadata": {},
   "outputs": [],
   "source": [
    "import pandas as pd\n",
    "\n",
    "df = pd.read_pickle('attrition_available_12.pkl')\n",
    "#value_counts\n",
    "\n",
    "#jobINvolment = df['JobInvolvement']\n",
    "#print(jobINvolment.value_counts())"
   ]
  },
  {
   "attachments": {},
   "cell_type": "markdown",
   "metadata": {},
   "source": [
    "## Análisis exploratorio de datos\n",
    "\n",
    "Ver las primeras filas del dataframe para tener una idea de cómo están estructurados los datos."
   ]
  },
  {
   "cell_type": "code",
   "execution_count": 96,
   "metadata": {},
   "outputs": [
    {
     "data": {
      "text/html": [
       "<div>\n",
       "<style scoped>\n",
       "    .dataframe tbody tr th:only-of-type {\n",
       "        vertical-align: middle;\n",
       "    }\n",
       "\n",
       "    .dataframe tbody tr th {\n",
       "        vertical-align: top;\n",
       "    }\n",
       "\n",
       "    .dataframe thead th {\n",
       "        text-align: right;\n",
       "    }\n",
       "</style>\n",
       "<table border=\"1\" class=\"dataframe\">\n",
       "  <thead>\n",
       "    <tr style=\"text-align: right;\">\n",
       "      <th></th>\n",
       "      <th>hrs</th>\n",
       "      <th>absences</th>\n",
       "      <th>JobInvolvement</th>\n",
       "      <th>PerformanceRating</th>\n",
       "      <th>EnvironmentSatisfaction</th>\n",
       "      <th>JobSatisfaction</th>\n",
       "      <th>WorkLifeBalance</th>\n",
       "      <th>Age</th>\n",
       "      <th>Attrition</th>\n",
       "      <th>BusinessTravel</th>\n",
       "      <th>...</th>\n",
       "      <th>NumCompaniesWorked</th>\n",
       "      <th>Over18</th>\n",
       "      <th>PercentSalaryHike</th>\n",
       "      <th>StandardHours</th>\n",
       "      <th>StockOptionLevel</th>\n",
       "      <th>TotalWorkingYears</th>\n",
       "      <th>TrainingTimesLastYear</th>\n",
       "      <th>YearsAtCompany</th>\n",
       "      <th>YearsSinceLastPromotion</th>\n",
       "      <th>YearsWithCurrManager</th>\n",
       "    </tr>\n",
       "  </thead>\n",
       "  <tbody>\n",
       "    <tr>\n",
       "      <th>1</th>\n",
       "      <td>7.315971</td>\n",
       "      <td>13.0</td>\n",
       "      <td>2.0</td>\n",
       "      <td>NaN</td>\n",
       "      <td>3.0</td>\n",
       "      <td>2.0</td>\n",
       "      <td>4.0</td>\n",
       "      <td>31.0</td>\n",
       "      <td>Yes</td>\n",
       "      <td>Travel_Frequently</td>\n",
       "      <td>...</td>\n",
       "      <td>0.0</td>\n",
       "      <td>Y</td>\n",
       "      <td>NaN</td>\n",
       "      <td>8.0</td>\n",
       "      <td>1.0</td>\n",
       "      <td>6.0</td>\n",
       "      <td>3</td>\n",
       "      <td>NaN</td>\n",
       "      <td>1.0</td>\n",
       "      <td>4.0</td>\n",
       "    </tr>\n",
       "    <tr>\n",
       "      <th>6</th>\n",
       "      <td>NaN</td>\n",
       "      <td>17.0</td>\n",
       "      <td>3.0</td>\n",
       "      <td>NaN</td>\n",
       "      <td>1.0</td>\n",
       "      <td>3.0</td>\n",
       "      <td>1.0</td>\n",
       "      <td>28.0</td>\n",
       "      <td>Yes</td>\n",
       "      <td>Travel_Rarely</td>\n",
       "      <td>...</td>\n",
       "      <td>2.0</td>\n",
       "      <td>Y</td>\n",
       "      <td>NaN</td>\n",
       "      <td>8.0</td>\n",
       "      <td>1.0</td>\n",
       "      <td>5.0</td>\n",
       "      <td>2</td>\n",
       "      <td>0.0</td>\n",
       "      <td>NaN</td>\n",
       "      <td>0.0</td>\n",
       "    </tr>\n",
       "    <tr>\n",
       "      <th>13</th>\n",
       "      <td>NaN</td>\n",
       "      <td>14.0</td>\n",
       "      <td>2.0</td>\n",
       "      <td>3.0</td>\n",
       "      <td>1.0</td>\n",
       "      <td>2.0</td>\n",
       "      <td>2.0</td>\n",
       "      <td>47.0</td>\n",
       "      <td>Yes</td>\n",
       "      <td>Non-Travel</td>\n",
       "      <td>...</td>\n",
       "      <td>1.0</td>\n",
       "      <td>Y</td>\n",
       "      <td>11.0</td>\n",
       "      <td>NaN</td>\n",
       "      <td>2.0</td>\n",
       "      <td>10.0</td>\n",
       "      <td>4</td>\n",
       "      <td>10.0</td>\n",
       "      <td>9.0</td>\n",
       "      <td>9.0</td>\n",
       "    </tr>\n",
       "    <tr>\n",
       "      <th>28</th>\n",
       "      <td>10.713066</td>\n",
       "      <td>6.0</td>\n",
       "      <td>2.0</td>\n",
       "      <td>3.0</td>\n",
       "      <td>4.0</td>\n",
       "      <td>NaN</td>\n",
       "      <td>1.0</td>\n",
       "      <td>NaN</td>\n",
       "      <td>Yes</td>\n",
       "      <td>NaN</td>\n",
       "      <td>...</td>\n",
       "      <td>3.0</td>\n",
       "      <td>Y</td>\n",
       "      <td>14.0</td>\n",
       "      <td>8.0</td>\n",
       "      <td>1.0</td>\n",
       "      <td>19.0</td>\n",
       "      <td>2</td>\n",
       "      <td>1.0</td>\n",
       "      <td>0.0</td>\n",
       "      <td>NaN</td>\n",
       "    </tr>\n",
       "    <tr>\n",
       "      <th>30</th>\n",
       "      <td>9.662808</td>\n",
       "      <td>NaN</td>\n",
       "      <td>2.0</td>\n",
       "      <td>3.0</td>\n",
       "      <td>1.0</td>\n",
       "      <td>2.0</td>\n",
       "      <td>3.0</td>\n",
       "      <td>26.0</td>\n",
       "      <td>Yes</td>\n",
       "      <td>Travel_Rarely</td>\n",
       "      <td>...</td>\n",
       "      <td>2.0</td>\n",
       "      <td>Y</td>\n",
       "      <td>11.0</td>\n",
       "      <td>8.0</td>\n",
       "      <td>0.0</td>\n",
       "      <td>5.0</td>\n",
       "      <td>5</td>\n",
       "      <td>3.0</td>\n",
       "      <td>0.0</td>\n",
       "      <td>2.0</td>\n",
       "    </tr>\n",
       "  </tbody>\n",
       "</table>\n",
       "<p>5 rows × 31 columns</p>\n",
       "</div>"
      ],
      "text/plain": [
       "          hrs  absences  JobInvolvement  PerformanceRating   \n",
       "1    7.315971      13.0             2.0                NaN  \\\n",
       "6         NaN      17.0             3.0                NaN   \n",
       "13        NaN      14.0             2.0                3.0   \n",
       "28  10.713066       6.0             2.0                3.0   \n",
       "30   9.662808       NaN             2.0                3.0   \n",
       "\n",
       "    EnvironmentSatisfaction  JobSatisfaction  WorkLifeBalance   Age Attrition   \n",
       "1                       3.0              2.0              4.0  31.0       Yes  \\\n",
       "6                       1.0              3.0              1.0  28.0       Yes   \n",
       "13                      1.0              2.0              2.0  47.0       Yes   \n",
       "28                      4.0              NaN              1.0   NaN       Yes   \n",
       "30                      1.0              2.0              3.0  26.0       Yes   \n",
       "\n",
       "       BusinessTravel  ... NumCompaniesWorked  Over18  PercentSalaryHike   \n",
       "1   Travel_Frequently  ...                0.0       Y                NaN  \\\n",
       "6       Travel_Rarely  ...                2.0       Y                NaN   \n",
       "13         Non-Travel  ...                1.0       Y               11.0   \n",
       "28                NaN  ...                3.0       Y               14.0   \n",
       "30      Travel_Rarely  ...                2.0       Y               11.0   \n",
       "\n",
       "   StandardHours  StockOptionLevel  TotalWorkingYears TrainingTimesLastYear   \n",
       "1            8.0               1.0                6.0                     3  \\\n",
       "6            8.0               1.0                5.0                     2   \n",
       "13           NaN               2.0               10.0                     4   \n",
       "28           8.0               1.0               19.0                     2   \n",
       "30           8.0               0.0                5.0                     5   \n",
       "\n",
       "    YearsAtCompany YearsSinceLastPromotion YearsWithCurrManager  \n",
       "1              NaN                     1.0                  4.0  \n",
       "6              0.0                     NaN                  0.0  \n",
       "13            10.0                     9.0                  9.0  \n",
       "28             1.0                     0.0                  NaN  \n",
       "30             3.0                     0.0                  2.0  \n",
       "\n",
       "[5 rows x 31 columns]"
      ]
     },
     "execution_count": 96,
     "metadata": {},
     "output_type": "execute_result"
    }
   ],
   "source": [
    "df.head()"
   ]
  },
  {
   "attachments": {},
   "cell_type": "markdown",
   "metadata": {},
   "source": [
    "Debemos tener en cuenta que lo que queremos predecir es la columna '`attrition`', que mide si el empleado va a dejar el trabajo o no."
   ]
  },
  {
   "attachments": {},
   "cell_type": "markdown",
   "metadata": {},
   "source": [
    "Ver los tipos de datos de las columnas"
   ]
  },
  {
   "cell_type": "code",
   "execution_count": 97,
   "metadata": {},
   "outputs": [
    {
     "data": {
      "text/plain": [
       "hrs                        float64\n",
       "absences                   float64\n",
       "JobInvolvement             float64\n",
       "PerformanceRating          float64\n",
       "EnvironmentSatisfaction    float64\n",
       "JobSatisfaction            float64\n",
       "WorkLifeBalance            float64\n",
       "Age                        float64\n",
       "Attrition                   object\n",
       "BusinessTravel              object\n",
       "Department                  object\n",
       "DistanceFromHome             int64\n",
       "Education                  float64\n",
       "EducationField              object\n",
       "EmployeeCount              float64\n",
       "EmployeeID                 float64\n",
       "Gender                      object\n",
       "JobLevel                     int64\n",
       "JobRole                     object\n",
       "MaritalStatus               object\n",
       "MonthlyIncome              float64\n",
       "NumCompaniesWorked         float64\n",
       "Over18                      object\n",
       "PercentSalaryHike          float64\n",
       "StandardHours              float64\n",
       "StockOptionLevel           float64\n",
       "TotalWorkingYears          float64\n",
       "TrainingTimesLastYear        int64\n",
       "YearsAtCompany             float64\n",
       "YearsSinceLastPromotion    float64\n",
       "YearsWithCurrManager       float64\n",
       "dtype: object"
      ]
     },
     "execution_count": 97,
     "metadata": {},
     "output_type": "execute_result"
    }
   ],
   "source": [
    "df.dtypes"
   ]
  },
  {
   "attachments": {},
   "cell_type": "markdown",
   "metadata": {},
   "source": [
    "Contar el número de instancias y columnas"
   ]
  },
  {
   "cell_type": "code",
   "execution_count": 98,
   "metadata": {},
   "outputs": [
    {
     "name": "stdout",
     "output_type": "stream",
     "text": [
      "Número de instancias:  4410\n",
      "Número de columnas:  31\n"
     ]
    }
   ],
   "source": [
    "num_instances = len(df)\n",
    "num_columns = len(df.columns)\n",
    "\n",
    "print(\"Número de instancias: \", num_instances)\n",
    "print(\"Número de columnas: \", num_columns)"
   ]
  },
  {
   "attachments": {},
   "cell_type": "markdown",
   "metadata": {},
   "source": [
    "Ver si hay columnas constantes"
   ]
  },
  {
   "cell_type": "code",
   "execution_count": 99,
   "metadata": {},
   "outputs": [
    {
     "name": "stdout",
     "output_type": "stream",
     "text": [
      "Columnas constantes:  ['EmployeeCount', 'Over18', 'StandardHours']\n"
     ]
    }
   ],
   "source": [
    "const_cols = [col for col in df.columns if df[col].nunique() == 1]\n",
    "print(\"Columnas constantes: \", const_cols)\n"
   ]
  },
  {
   "attachments": {},
   "cell_type": "markdown",
   "metadata": {},
   "source": [
    "Hemos visto que las columnas constantes son las siguientes: *EmployeeCount, Over18, StandardHours*. Ya que estas columnas no van a aportar ninguna información útil al modelo, debemos eliminarlas. Ahora en vez de 31 columnas, tendremos 28."
   ]
  },
  {
   "cell_type": "code",
   "execution_count": 100,
   "metadata": {},
   "outputs": [],
   "source": [
    "df = df.drop(const_cols, axis=1)"
   ]
  },
  {
   "cell_type": "code",
   "execution_count": 101,
   "metadata": {},
   "outputs": [],
   "source": [
    "df = df.drop('EmployeeID', axis=1)"
   ]
  },
  {
   "attachments": {},
   "cell_type": "markdown",
   "metadata": {},
   "source": [
    "Volvemos a mirar el numero de instancias y columnas"
   ]
  },
  {
   "cell_type": "code",
   "execution_count": 102,
   "metadata": {},
   "outputs": [
    {
     "name": "stdout",
     "output_type": "stream",
     "text": [
      "Número de instancias:  4410\n",
      "Número de columnas:  27\n"
     ]
    }
   ],
   "source": [
    "num_instances = len(df)\n",
    "num_columns = len(df.columns)\n",
    "\n",
    "print(\"Número de instancias: \", num_instances)\n",
    "print(\"Número de columnas: \", num_columns)"
   ]
  },
  {
   "attachments": {},
   "cell_type": "markdown",
   "metadata": {},
   "source": [
    "Ver los valores de las columnas constantes"
   ]
  },
  {
   "cell_type": "code",
   "execution_count": 103,
   "metadata": {},
   "outputs": [
    {
     "name": "stdout",
     "output_type": "stream",
     "text": [
      "Proporción de valores faltantes: \n",
      "hrs                        0.211791\n",
      "absences                   0.213152\n",
      "JobInvolvement             0.169388\n",
      "PerformanceRating          0.193197\n",
      "EnvironmentSatisfaction    0.209524\n",
      "JobSatisfaction            0.170522\n",
      "WorkLifeBalance            0.008617\n",
      "Age                        0.211791\n",
      "Attrition                  0.000000\n",
      "BusinessTravel             0.172336\n",
      "Department                 0.186395\n",
      "DistanceFromHome           0.000000\n",
      "Education                  0.218594\n",
      "EducationField             0.180952\n",
      "Gender                     0.200454\n",
      "JobLevel                   0.000000\n",
      "JobRole                    0.216780\n",
      "MaritalStatus              0.202041\n",
      "MonthlyIncome              0.192517\n",
      "NumCompaniesWorked         0.166440\n",
      "PercentSalaryHike          0.209524\n",
      "StockOptionLevel           0.170748\n",
      "TotalWorkingYears          0.186848\n",
      "TrainingTimesLastYear      0.000000\n",
      "YearsAtCompany             0.172336\n",
      "YearsSinceLastPromotion    0.183447\n",
      "YearsWithCurrManager       0.187075\n",
      "dtype: float64\n"
     ]
    }
   ],
   "source": [
    "missing_vals = df.isnull().sum() / len(df)\n",
    "print(\"Proporción de valores faltantes: \")\n",
    "print(missing_vals)"
   ]
  },
  {
   "attachments": {},
   "cell_type": "markdown",
   "metadata": {},
   "source": [
    "## Preprocesamiento de los datos"
   ]
  },
  {
   "attachments": {},
   "cell_type": "markdown",
   "metadata": {},
   "source": [
    "En esta sección realizaremos el procesamiento de los valores faltantes y la transformación de los datos categóricos."
   ]
  },
  {
   "attachments": {},
   "cell_type": "markdown",
   "metadata": {},
   "source": [
    "Parae ello, primero realizaremos la división de los datos en un conjunto de entrenamiento y test"
   ]
  },
  {
   "cell_type": "code",
   "execution_count": 104,
   "metadata": {},
   "outputs": [],
   "source": [
    "from sklearn.model_selection import train_test_split\n",
    "from sklearn import set_config\n",
    "\n",
    "\n",
    "X = df.drop('Attrition', axis=1) \n",
    "y = df['Attrition']\n",
    "\n",
    "\n",
    "X_train, X_test, y_train, y_test = train_test_split(X, y, test_size = 0.2, random_state=0, stratify=y)\n",
    "set_config(transform_output=\"pandas\")\n"
   ]
  },
  {
   "attachments": {},
   "cell_type": "markdown",
   "metadata": {},
   "source": [
    "A continuación, se procederá a transformar los datos"
   ]
  },
  {
   "cell_type": "code",
   "execution_count": 105,
   "metadata": {},
   "outputs": [
    {
     "name": "stdout",
     "output_type": "stream",
     "text": [
      "Columnas numéricas: ['hrs', 'absences', 'JobInvolvement', 'PerformanceRating', 'EnvironmentSatisfaction', 'JobSatisfaction', 'WorkLifeBalance', 'Age', 'DistanceFromHome', 'Education', 'JobLevel', 'MonthlyIncome', 'NumCompaniesWorked', 'PercentSalaryHike', 'StockOptionLevel', 'TotalWorkingYears', 'TrainingTimesLastYear', 'YearsAtCompany', 'YearsSinceLastPromotion', 'YearsWithCurrManager']\n",
      "Columnas categóricas: ['BusinessTravel', 'Department', 'EducationField', 'Gender', 'JobRole', 'MaritalStatus']\n"
     ]
    },
    {
     "data": {
      "text/html": [
       "<div>\n",
       "<style scoped>\n",
       "    .dataframe tbody tr th:only-of-type {\n",
       "        vertical-align: middle;\n",
       "    }\n",
       "\n",
       "    .dataframe tbody tr th {\n",
       "        vertical-align: top;\n",
       "    }\n",
       "\n",
       "    .dataframe thead th {\n",
       "        text-align: right;\n",
       "    }\n",
       "</style>\n",
       "<table border=\"1\" class=\"dataframe\">\n",
       "  <thead>\n",
       "    <tr style=\"text-align: right;\">\n",
       "      <th></th>\n",
       "      <th>num__hrs</th>\n",
       "      <th>num__absences</th>\n",
       "      <th>num__JobInvolvement</th>\n",
       "      <th>num__PerformanceRating</th>\n",
       "      <th>num__EnvironmentSatisfaction</th>\n",
       "      <th>num__JobSatisfaction</th>\n",
       "      <th>num__WorkLifeBalance</th>\n",
       "      <th>num__Age</th>\n",
       "      <th>num__DistanceFromHome</th>\n",
       "      <th>num__Education</th>\n",
       "      <th>...</th>\n",
       "      <th>cat__JobRole_Laboratory Technician</th>\n",
       "      <th>cat__JobRole_Manager</th>\n",
       "      <th>cat__JobRole_Manufacturing Director</th>\n",
       "      <th>cat__JobRole_Research Director</th>\n",
       "      <th>cat__JobRole_Research Scientist</th>\n",
       "      <th>cat__JobRole_Sales Executive</th>\n",
       "      <th>cat__JobRole_Sales Representative</th>\n",
       "      <th>cat__MaritalStatus_Divorced</th>\n",
       "      <th>cat__MaritalStatus_Married</th>\n",
       "      <th>cat__MaritalStatus_Single</th>\n",
       "    </tr>\n",
       "  </thead>\n",
       "  <tbody>\n",
       "    <tr>\n",
       "      <th>4282</th>\n",
       "      <td>7.608976</td>\n",
       "      <td>12.0</td>\n",
       "      <td>2.72938</td>\n",
       "      <td>3.0</td>\n",
       "      <td>2.730659</td>\n",
       "      <td>3.000000</td>\n",
       "      <td>3.0</td>\n",
       "      <td>43.0</td>\n",
       "      <td>2.0</td>\n",
       "      <td>2.000000</td>\n",
       "      <td>...</td>\n",
       "      <td>0.0</td>\n",
       "      <td>0.0</td>\n",
       "      <td>0.0</td>\n",
       "      <td>0.0</td>\n",
       "      <td>0.0</td>\n",
       "      <td>1.0</td>\n",
       "      <td>0.0</td>\n",
       "      <td>0.0</td>\n",
       "      <td>0.0</td>\n",
       "      <td>1.0</td>\n",
       "    </tr>\n",
       "    <tr>\n",
       "      <th>3087</th>\n",
       "      <td>6.178723</td>\n",
       "      <td>12.0</td>\n",
       "      <td>3.00000</td>\n",
       "      <td>3.0</td>\n",
       "      <td>1.000000</td>\n",
       "      <td>2.722563</td>\n",
       "      <td>3.0</td>\n",
       "      <td>25.0</td>\n",
       "      <td>5.0</td>\n",
       "      <td>2.000000</td>\n",
       "      <td>...</td>\n",
       "      <td>1.0</td>\n",
       "      <td>0.0</td>\n",
       "      <td>0.0</td>\n",
       "      <td>0.0</td>\n",
       "      <td>0.0</td>\n",
       "      <td>0.0</td>\n",
       "      <td>0.0</td>\n",
       "      <td>0.0</td>\n",
       "      <td>1.0</td>\n",
       "      <td>0.0</td>\n",
       "    </tr>\n",
       "    <tr>\n",
       "      <th>3130</th>\n",
       "      <td>7.311617</td>\n",
       "      <td>16.0</td>\n",
       "      <td>3.00000</td>\n",
       "      <td>3.0</td>\n",
       "      <td>2.000000</td>\n",
       "      <td>3.000000</td>\n",
       "      <td>3.0</td>\n",
       "      <td>40.0</td>\n",
       "      <td>15.0</td>\n",
       "      <td>2.907374</td>\n",
       "      <td>...</td>\n",
       "      <td>1.0</td>\n",
       "      <td>0.0</td>\n",
       "      <td>0.0</td>\n",
       "      <td>0.0</td>\n",
       "      <td>0.0</td>\n",
       "      <td>0.0</td>\n",
       "      <td>0.0</td>\n",
       "      <td>0.0</td>\n",
       "      <td>0.0</td>\n",
       "      <td>1.0</td>\n",
       "    </tr>\n",
       "    <tr>\n",
       "      <th>2237</th>\n",
       "      <td>9.617732</td>\n",
       "      <td>2.0</td>\n",
       "      <td>3.00000</td>\n",
       "      <td>3.0</td>\n",
       "      <td>4.000000</td>\n",
       "      <td>3.000000</td>\n",
       "      <td>3.0</td>\n",
       "      <td>24.0</td>\n",
       "      <td>5.0</td>\n",
       "      <td>2.907374</td>\n",
       "      <td>...</td>\n",
       "      <td>0.0</td>\n",
       "      <td>0.0</td>\n",
       "      <td>1.0</td>\n",
       "      <td>0.0</td>\n",
       "      <td>0.0</td>\n",
       "      <td>0.0</td>\n",
       "      <td>0.0</td>\n",
       "      <td>0.0</td>\n",
       "      <td>1.0</td>\n",
       "      <td>0.0</td>\n",
       "    </tr>\n",
       "    <tr>\n",
       "      <th>2559</th>\n",
       "      <td>7.311617</td>\n",
       "      <td>18.0</td>\n",
       "      <td>1.00000</td>\n",
       "      <td>3.0</td>\n",
       "      <td>2.730659</td>\n",
       "      <td>4.000000</td>\n",
       "      <td>2.0</td>\n",
       "      <td>36.0</td>\n",
       "      <td>5.0</td>\n",
       "      <td>3.000000</td>\n",
       "      <td>...</td>\n",
       "      <td>0.0</td>\n",
       "      <td>0.0</td>\n",
       "      <td>0.0</td>\n",
       "      <td>0.0</td>\n",
       "      <td>0.0</td>\n",
       "      <td>1.0</td>\n",
       "      <td>0.0</td>\n",
       "      <td>0.0</td>\n",
       "      <td>0.0</td>\n",
       "      <td>1.0</td>\n",
       "    </tr>\n",
       "  </tbody>\n",
       "</table>\n",
       "<p>5 rows × 46 columns</p>\n",
       "</div>"
      ],
      "text/plain": [
       "      num__hrs  num__absences  num__JobInvolvement  num__PerformanceRating   \n",
       "4282  7.608976           12.0              2.72938                     3.0  \\\n",
       "3087  6.178723           12.0              3.00000                     3.0   \n",
       "3130  7.311617           16.0              3.00000                     3.0   \n",
       "2237  9.617732            2.0              3.00000                     3.0   \n",
       "2559  7.311617           18.0              1.00000                     3.0   \n",
       "\n",
       "      num__EnvironmentSatisfaction  num__JobSatisfaction   \n",
       "4282                      2.730659              3.000000  \\\n",
       "3087                      1.000000              2.722563   \n",
       "3130                      2.000000              3.000000   \n",
       "2237                      4.000000              3.000000   \n",
       "2559                      2.730659              4.000000   \n",
       "\n",
       "      num__WorkLifeBalance  num__Age  num__DistanceFromHome  num__Education   \n",
       "4282                   3.0      43.0                    2.0        2.000000  \\\n",
       "3087                   3.0      25.0                    5.0        2.000000   \n",
       "3130                   3.0      40.0                   15.0        2.907374   \n",
       "2237                   3.0      24.0                    5.0        2.907374   \n",
       "2559                   2.0      36.0                    5.0        3.000000   \n",
       "\n",
       "      ...  cat__JobRole_Laboratory Technician  cat__JobRole_Manager   \n",
       "4282  ...                                 0.0                   0.0  \\\n",
       "3087  ...                                 1.0                   0.0   \n",
       "3130  ...                                 1.0                   0.0   \n",
       "2237  ...                                 0.0                   0.0   \n",
       "2559  ...                                 0.0                   0.0   \n",
       "\n",
       "      cat__JobRole_Manufacturing Director  cat__JobRole_Research Director   \n",
       "4282                                  0.0                             0.0  \\\n",
       "3087                                  0.0                             0.0   \n",
       "3130                                  0.0                             0.0   \n",
       "2237                                  1.0                             0.0   \n",
       "2559                                  0.0                             0.0   \n",
       "\n",
       "      cat__JobRole_Research Scientist  cat__JobRole_Sales Executive   \n",
       "4282                              0.0                           1.0  \\\n",
       "3087                              0.0                           0.0   \n",
       "3130                              0.0                           0.0   \n",
       "2237                              0.0                           0.0   \n",
       "2559                              0.0                           1.0   \n",
       "\n",
       "      cat__JobRole_Sales Representative  cat__MaritalStatus_Divorced   \n",
       "4282                                0.0                          0.0  \\\n",
       "3087                                0.0                          0.0   \n",
       "3130                                0.0                          0.0   \n",
       "2237                                0.0                          0.0   \n",
       "2559                                0.0                          0.0   \n",
       "\n",
       "      cat__MaritalStatus_Married  cat__MaritalStatus_Single  \n",
       "4282                         0.0                        1.0  \n",
       "3087                         1.0                        0.0  \n",
       "3130                         0.0                        1.0  \n",
       "2237                         1.0                        0.0  \n",
       "2559                         0.0                        1.0  \n",
       "\n",
       "[5 rows x 46 columns]"
      ]
     },
     "execution_count": 105,
     "metadata": {},
     "output_type": "execute_result"
    }
   ],
   "source": [
    "# Primero importamos las librerías necesarias\n",
    "from sklearn.compose import ColumnTransformer\n",
    "import numpy as np\n",
    "from sklearn.impute import SimpleImputer\n",
    "from sklearn.pipeline import Pipeline\n",
    "from sklearn.preprocessing import OneHotEncoder\n",
    "\n",
    "\n",
    "# Definimos las columnas que son numéricas y las que son categóricas\n",
    "numerical_features = X.select_dtypes(include=np.number).columns\n",
    "categorical_features = X.select_dtypes(include='object').columns\n",
    "\n",
    "# Imprimimos cuñales de estas columnas son numéricas y cuáles categóricas\n",
    "print(f\"Columnas numéricas: {list(numerical_features)}\")\n",
    "print(f\"Columnas categóricas: {list(categorical_features)}\")\n",
    "\n",
    "\n",
    "# Definimos las transformaciones que se aplicarán a las columnas numéricas\n",
    "numeric_transformer = Pipeline(steps=[\n",
    "    ('imputer', SimpleImputer(strategy='mean'))\n",
    "])\n",
    "\n",
    "# Definimos las transformaciones que se aplicarán a las columnas categóricas\n",
    "categorical_transformer = Pipeline(steps=[\n",
    "    ('imputer', SimpleImputer(strategy='most_frequent')),\n",
    "    ('onehot', OneHotEncoder(categories='auto', sparse_output=False, handle_unknown='ignore'))\n",
    "])\n",
    "\n",
    "\n",
    "# Pre-procesador \"global\"\n",
    "processor = ColumnTransformer(\n",
    "    transformers=[\n",
    "        ('num', numeric_transformer, numerical_features),\n",
    "        ('cat', categorical_transformer, categorical_features)\n",
    "    ]\n",
    ")\n",
    "\n",
    "\n",
    "processor.fit(X_train)\n",
    "# Realizamos la transformación.\n",
    "X_train_processed = processor.fit_transform(X_train)\n",
    "X_test_processed = processor.transform(X_test)\n",
    "X_train_processed.head()\n"
   ]
  },
  {
   "attachments": {},
   "cell_type": "markdown",
   "metadata": {},
   "source": [
    "Comprobamos si se ha hecho bien y no hay missing values. Como se puede comprobar, se han transformado los datos de manera satisfactoria y ya no hay missing values y todos los datos se han convertido a numéricos mediante el uso de la técnica `OneHotEnconding`."
   ]
  },
  {
   "cell_type": "code",
   "execution_count": 106,
   "metadata": {},
   "outputs": [
    {
     "name": "stdout",
     "output_type": "stream",
     "text": [
      "Numero de valores valtantes de entrenamiento: num__hrs                                  0\n",
      "num__absences                             0\n",
      "num__JobInvolvement                       0\n",
      "num__PerformanceRating                    0\n",
      "num__EnvironmentSatisfaction              0\n",
      "num__JobSatisfaction                      0\n",
      "num__WorkLifeBalance                      0\n",
      "num__Age                                  0\n",
      "num__DistanceFromHome                     0\n",
      "num__Education                            0\n",
      "num__JobLevel                             0\n",
      "num__MonthlyIncome                        0\n",
      "num__NumCompaniesWorked                   0\n",
      "num__PercentSalaryHike                    0\n",
      "num__StockOptionLevel                     0\n",
      "num__TotalWorkingYears                    0\n",
      "num__TrainingTimesLastYear                0\n",
      "num__YearsAtCompany                       0\n",
      "num__YearsSinceLastPromotion              0\n",
      "num__YearsWithCurrManager                 0\n",
      "cat__BusinessTravel_Non-Travel            0\n",
      "cat__BusinessTravel_Travel_Frequently     0\n",
      "cat__BusinessTravel_Travel_Rarely         0\n",
      "cat__Department_Human Resources           0\n",
      "cat__Department_Research & Development    0\n",
      "cat__Department_Sales                     0\n",
      "cat__EducationField_Human Resources       0\n",
      "cat__EducationField_Life Sciences         0\n",
      "cat__EducationField_Marketing             0\n",
      "cat__EducationField_Medical               0\n",
      "cat__EducationField_Other                 0\n",
      "cat__EducationField_Technical Degree      0\n",
      "cat__Gender_Female                        0\n",
      "cat__Gender_Male                          0\n",
      "cat__JobRole_Healthcare Representative    0\n",
      "cat__JobRole_Human Resources              0\n",
      "cat__JobRole_Laboratory Technician        0\n",
      "cat__JobRole_Manager                      0\n",
      "cat__JobRole_Manufacturing Director       0\n",
      "cat__JobRole_Research Director            0\n",
      "cat__JobRole_Research Scientist           0\n",
      "cat__JobRole_Sales Executive              0\n",
      "cat__JobRole_Sales Representative         0\n",
      "cat__MaritalStatus_Divorced               0\n",
      "cat__MaritalStatus_Married                0\n",
      "cat__MaritalStatus_Single                 0\n",
      "dtype: int64\n",
      "Numero de valores valtantes de test: num__hrs                                  0\n",
      "num__absences                             0\n",
      "num__JobInvolvement                       0\n",
      "num__PerformanceRating                    0\n",
      "num__EnvironmentSatisfaction              0\n",
      "num__JobSatisfaction                      0\n",
      "num__WorkLifeBalance                      0\n",
      "num__Age                                  0\n",
      "num__DistanceFromHome                     0\n",
      "num__Education                            0\n",
      "num__JobLevel                             0\n",
      "num__MonthlyIncome                        0\n",
      "num__NumCompaniesWorked                   0\n",
      "num__PercentSalaryHike                    0\n",
      "num__StockOptionLevel                     0\n",
      "num__TotalWorkingYears                    0\n",
      "num__TrainingTimesLastYear                0\n",
      "num__YearsAtCompany                       0\n",
      "num__YearsSinceLastPromotion              0\n",
      "num__YearsWithCurrManager                 0\n",
      "cat__BusinessTravel_Non-Travel            0\n",
      "cat__BusinessTravel_Travel_Frequently     0\n",
      "cat__BusinessTravel_Travel_Rarely         0\n",
      "cat__Department_Human Resources           0\n",
      "cat__Department_Research & Development    0\n",
      "cat__Department_Sales                     0\n",
      "cat__EducationField_Human Resources       0\n",
      "cat__EducationField_Life Sciences         0\n",
      "cat__EducationField_Marketing             0\n",
      "cat__EducationField_Medical               0\n",
      "cat__EducationField_Other                 0\n",
      "cat__EducationField_Technical Degree      0\n",
      "cat__Gender_Female                        0\n",
      "cat__Gender_Male                          0\n",
      "cat__JobRole_Healthcare Representative    0\n",
      "cat__JobRole_Human Resources              0\n",
      "cat__JobRole_Laboratory Technician        0\n",
      "cat__JobRole_Manager                      0\n",
      "cat__JobRole_Manufacturing Director       0\n",
      "cat__JobRole_Research Director            0\n",
      "cat__JobRole_Research Scientist           0\n",
      "cat__JobRole_Sales Executive              0\n",
      "cat__JobRole_Sales Representative         0\n",
      "cat__MaritalStatus_Divorced               0\n",
      "cat__MaritalStatus_Married                0\n",
      "cat__MaritalStatus_Single                 0\n",
      "dtype: int64\n"
     ]
    }
   ],
   "source": [
    "print(f\"Numero de valores valtantes de entrenamiento: {np.isnan(X_train_processed).sum()}\")\n",
    "print(f\"Numero de valores valtantes de test: {np.isnan(X_test_processed).sum()}\")"
   ]
  },
  {
   "attachments": {},
   "cell_type": "markdown",
   "metadata": {},
   "source": [
    "## Balanceamiento de la clase   "
   ]
  },
  {
   "attachments": {},
   "cell_type": "markdown",
   "metadata": {},
   "source": [
    "Para saber si el conjunto de datos está desbalanceado, primeramente contaremos el número de observaciones en cada clase de la variable objetivo"
   ]
  },
  {
   "cell_type": "code",
   "execution_count": 107,
   "metadata": {},
   "outputs": [
    {
     "name": "stdout",
     "output_type": "stream",
     "text": [
      "Attrition\n",
      "No     3699\n",
      "Yes     711\n",
      "Name: count, dtype: int64\n"
     ]
    }
   ],
   "source": [
    "# Contar el número de observaciones en cada clase de la variable objetivo\n",
    "counts = df['Attrition'].value_counts()\n",
    "\n",
    "print(counts)"
   ]
  },
  {
   "cell_type": "code",
   "execution_count": 108,
   "metadata": {},
   "outputs": [
    {
     "data": {
      "image/png": "[encoded data removed]",
      "text/plain": [
       "<Figure size 640x480 with 1 Axes>"
      ]
     },
     "metadata": {},
     "output_type": "display_data"
    }
   ],
   "source": [
    "import matplotlib.pyplot as plt\n",
    "\n",
    "# Crear un histograma de la variable objetivo\n",
    "plt.hist(df['Attrition'])\n",
    "plt.show()\n"
   ]
  },
  {
   "attachments": {},
   "cell_type": "markdown",
   "metadata": {},
   "source": [
    "Para estudiarlo más en profundidad, calculamos la proporción de observaciones en cada conjunto de entrenamiento y test."
   ]
  },
  {
   "cell_type": "code",
   "execution_count": 109,
   "metadata": {},
   "outputs": [],
   "source": [
    "N_SAMPLES_NEG = 3699\n",
    "N_SAMPLES_POS = 711\n"
   ]
  },
  {
   "cell_type": "code",
   "execution_count": 110,
   "metadata": {},
   "outputs": [
    {
     "name": "stdout",
     "output_type": "stream",
     "text": [
      "Hay un 16.6 % de instancias positivas en train.\n",
      "Hay un 14.2 % de instancias positivas en test.\n",
      "Hay un 16.1 % de instancias positivas en total.\n"
     ]
    }
   ],
   "source": [
    "from sklearn.model_selection import train_test_split, StratifiedKFold\n",
    "import numpy as np\n",
    "# Vamos a comenzar realizando una división train/test \"normal\".\n",
    "X_train_no_strat, X_test_no_strat, y_train_no_strat, y_test_no_strat = train_test_split(X, y, test_size=0.2)\n",
    "\n",
    "\n",
    "# Comprobemos ahora la distribución de las clases.\n",
    "n_pos_pct = N_SAMPLES_POS / (N_SAMPLES_POS + N_SAMPLES_NEG)\n",
    "n_pos_train_pct = np.sum(y_train_no_strat==\"Yes\") / len(y_train_no_strat)\n",
    "n_pos_test_pct = np.sum(y_test_no_strat==\"Yes\") / len(y_test_no_strat)\n",
    "\n",
    "print(f\"Hay un {100 * n_pos_train_pct:.1f} % de instancias positivas en train.\")\n",
    "print(f\"Hay un {100 * n_pos_test_pct:.1f} % de instancias positivas en test.\")\n",
    "print(f\"Hay un {100 * n_pos_pct:.1f} % de instancias positivas en total.\")"
   ]
  },
  {
   "attachments": {},
   "cell_type": "markdown",
   "metadata": {},
   "source": [
    "Basándonos en los resultados obtenidos, podemos afirmar que los datos están ligeramente desbalanceados. Al analizar la proporción de instancias positivas en el conjunto de train y test, observamos que esta proporción es de alrededor del 16%, lo que significa que la clase minoritaria está ligeramente subrepresentada, por lo que procedemos a hacer una `división estratificada`\n",
    "\n",
    "Aunque en términos estrictos se puede considerar que los datos están desbalanceados, el desequilibrio no es extremo. En este caso, es posible que no se requieran técnicas de muestreo especializadas para equilibrar la distribución de clases y que un modelo de aprendizaje automático pueda entrenarse con éxito en este conjunto de datos.\n",
    "\n",
    "\n",
    "\n",
    "\n"
   ]
  },
  {
   "cell_type": "code",
   "execution_count": 111,
   "metadata": {},
   "outputs": [
    {
     "name": "stdout",
     "output_type": "stream",
     "text": [
      "Hay un 16.1 % de instancias positivas en train.\n",
      "Hay un 16.1 % de instancias positivas en test.\n",
      "Hay un 16.1 % de instancias positivas en total.\n"
     ]
    }
   ],
   "source": [
    "\n",
    "# Comprobemos ahora la distribución de las clases.\n",
    "n_pos_pct = N_SAMPLES_POS / (N_SAMPLES_POS + N_SAMPLES_NEG)\n",
    "n_pos_train_pct = np.sum(y_train==\"Yes\") / len(y_train)\n",
    "n_pos_test_pct = np.sum(y_test==\"Yes\") / len(y_test)\n",
    "\n",
    "print(f\"Hay un {100 * n_pos_train_pct:.1f} % de instancias positivas en train.\")\n",
    "print(f\"Hay un {100 * n_pos_test_pct:.1f} % de instancias positivas en test.\")\n",
    "print(f\"Hay un {100 * n_pos_pct:.1f} % de instancias positivas en total.\")"
   ]
  },
  {
   "attachments": {},
   "cell_type": "markdown",
   "metadata": {},
   "source": [
    "Por lo tanto, se trata de un problema de clasificación binaria ya que el objetivo es predecir si los trabajadores abandonarán su puesto de trabajo o no, es decir, la variable de salida se trata de una variable categórica (*si* o *no*)"
   ]
  },
  {
   "attachments": {},
   "cell_type": "markdown",
   "metadata": {},
   "source": [
    "## Dummy classifier"
   ]
  },
  {
   "cell_type": "code",
   "execution_count": 112,
   "metadata": {},
   "outputs": [],
   "source": [
    "from sklearn.datasets import load_breast_cancer\n",
    "from sklearn.model_selection import train_test_split\n",
    "from sklearn.dummy import DummyClassifier\n",
    "from sklearn.metrics import classification_report\n",
    "\n",
    "\n",
    "\n",
    "# Crear el dummy classifier\n",
    "dummy = DummyClassifier(strategy='most_frequent')\n",
    "dummy.fit(X_train_processed, y_train)\n",
    "\n",
    "# Realizar predicciones en los datos de prueba\n",
    "y_pred = dummy.predict(X_test_processed)\n",
    "\n",
    "# Calcular las métricas de clasificación\n"
   ]
  },
  {
   "cell_type": "code",
   "execution_count": 113,
   "metadata": {},
   "outputs": [
    {
     "name": "stdout",
     "output_type": "stream",
     "text": [
      "##### F1 ####\n",
      "0.0\n",
      "##### BALANCED ACCURACY ####\n",
      "0.5\n",
      "##### CONFUSION MATRIX ####\n",
      "[[740   0]\n",
      " [142   0]]\n"
     ]
    }
   ],
   "source": [
    "from sklearn.metrics import f1_score, balanced_accuracy_score, confusion_matrix\n",
    "print(\"##### F1 ####\")\n",
    "print(f1_score(y_test, y_pred, average='binary', pos_label='Yes'))\n",
    "print(\"##### BALANCED ACCURACY ####\")\n",
    "print(balanced_accuracy_score(y_test, y_pred))\n",
    "print(\"##### CONFUSION MATRIX ####\")\n",
    "print(confusion_matrix(y_test, y_pred))\n",
    "\n",
    "\n"
   ]
  },
  {
   "attachments": {},
   "cell_type": "markdown",
   "metadata": {},
   "source": [
    "Como era de esperar, la métrica de balanced accurary da como resultado el peor valor posible dentro de los valores aceptados, es decir, la media. En cuanto al F1_score, debido a que el F1 score está predicido por un dummy classifier, puede indicar que el conjunto de datos es fácil de clasificar. Sin embargo es importante analizar otras métricas para obtener una evaluación más completa del desempeño del modelo, por lo que además se utilizan más métricas como confusion_matrix, balanced_accurary..."
   ]
  },
  {
   "attachments": {},
   "cell_type": "markdown",
   "metadata": {},
   "source": [
    "## Método base: Logistic Regression"
   ]
  },
  {
   "cell_type": "code",
   "execution_count": 114,
   "metadata": {},
   "outputs": [
    {
     "name": "stdout",
     "output_type": "stream",
     "text": [
      "##### F1 ####\n",
      "0.0\n",
      "##### BALANCED ACCURACY ####\n",
      "0.5\n",
      "##### CONFUSION MATRIX ####\n",
      "[[740   0]\n",
      " [142   0]]\n"
     ]
    }
   ],
   "source": [
    "from sklearn.metrics import f1_score, balanced_accuracy_score, confusion_matrix\n",
    "from sklearn.linear_model import LogisticRegression\n",
    "from sklearn.metrics import classification_report, confusion_matrix\n",
    "\n",
    "\n",
    "# Entrenar el modelo de regresión logística\n",
    "logreg = LogisticRegression()\n",
    "logreg.fit(X_train_processed, y_train)\n",
    "\n",
    "# Realizar predicciones en los datos de prueba\n",
    "y_pred = logreg.predict(X_test_processed)\n",
    "\n",
    "# Calcular las métricas de clasificación\n",
    "\n",
    "\n",
    "\n",
    "print(\"##### F1 ####\")\n",
    "print(f1_score(y_test, y_pred, average='binary', pos_label='Yes'))\n",
    "print(\"##### BALANCED ACCURACY ####\")\n",
    "print(balanced_accuracy_score(y_test, y_pred))\n",
    "print(\"##### CONFUSION MATRIX ####\")\n",
    "print(confusion_matrix(y_test, y_pred))\n",
    "\n"
   ]
  },
  {
   "attachments": {},
   "cell_type": "markdown",
   "metadata": {},
   "source": [
    "## Método avanzado: Gradient Boosting"
   ]
  },
  {
   "attachments": {},
   "cell_type": "markdown",
   "metadata": {},
   "source": [
    "Se ha eligido como método avanzado de boosting, el tipo Gradient, debido a que puede que funcione mejor términos de precisión o capacidad de generalización para este problema"
   ]
  },
  {
   "cell_type": "code",
   "execution_count": 127,
   "metadata": {},
   "outputs": [
    {
     "name": "stdout",
     "output_type": "stream",
     "text": [
      "{'max_depth': 4, 'min_samples_split': 2, 'n_estimators': 150}\n"
     ]
    }
   ],
   "source": [
    "from sklearn.model_selection import GridSearchCV\n",
    "from sklearn.ensemble import GradientBoostingClassifier\n",
    "from sklearn.model_selection import StratifiedKFold\n",
    "\n",
    "\n",
    "# Definir los parámetros a ajustar y sus valores posibles\n",
    "param_grid = {\n",
    "    'n_estimators': [50, 100, 150],\n",
    "    'max_depth': [2, 3, 4],\n",
    "    'min_samples_split': [2, 4]\n",
    "}\n",
    "\n",
    "# Crear un objeto de GradientBoostingClassifier\n",
    "model = GradientBoostingClassifier()\n",
    "\n",
    "# Crear un objeto de StratifiedKFold\n",
    "cv = StratifiedKFold(n_splits=5)\n",
    "\n",
    "# Crear un objeto de GridSearchCV\n",
    "grid_search = GridSearchCV(estimator=model, param_grid=param_grid, cv=cv, scoring='balanced_accuracy')\n",
    "\n",
    "# Ajustar el modelo con los datos de entrenamiento\n",
    "grid_search.fit(X_train_processed, y_train)\n",
    "\n",
    "# Obtener los mejores hiperparámetros\n",
    "best_params = grid_search.best_params_\n",
    "\n",
    "print(best_params)\n",
    "\n"
   ]
  },
  {
   "cell_type": "code",
   "execution_count": 129,
   "metadata": {},
   "outputs": [
    {
     "name": "stdout",
     "output_type": "stream",
     "text": [
      "##### F1 #####\n",
      "0.5887850467289719\n",
      "##### BALANCED ACCURACY #####\n",
      "0.7157499048344119\n",
      "##### CONFUSION MATRIX #####\n",
      "[[731   9]\n",
      " [ 79  63]]\n"
     ]
    }
   ],
   "source": [
    "from sklearn.model_selection import GridSearchCV\n",
    "from sklearn.ensemble import GradientBoostingClassifier\n",
    "from sklearn.model_selection import StratifiedKFold\n",
    "\n",
    "\n",
    "# Crear un objeto de GradientBoostingClassifier\n",
    "model = GradientBoostingClassifier(max_depth=4, min_samples_split=2, n_estimators=150)\n",
    "model.fit(X_train_processed, y_train)\n",
    "y_pred= model.predict(X_test_processed)\n",
    "\n",
    "print(\"##### F1 #####\")\n",
    "print(f1_score(y_test, y_pred, average='binary', pos_label='Yes'))\n",
    "print(\"##### BALANCED ACCURACY #####\")\n",
    "print(balanced_accuracy_score(y_test, y_pred))\n",
    "print(\"##### CONFUSION MATRIX #####\")\n",
    "print(confusion_matrix(y_test, y_pred))\n"
   ]
  },
  {
   "attachments": {},
   "cell_type": "markdown",
   "metadata": {},
   "source": [
    "## Método avanzado: Xgboost Gradient"
   ]
  },
  {
   "cell_type": "code",
   "execution_count": 130,
   "metadata": {},
   "outputs": [
    {
     "name": "stdout",
     "output_type": "stream",
     "text": [
      "{'colsample_bytree': 0.8, 'max_depth': 5, 'min_child_weight': 1}\n"
     ]
    }
   ],
   "source": [
    "import xgboost as xgb\n",
    "from sklearn.metrics import f1_score, balanced_accuracy_score, confusion_matrix\n",
    "from sklearn.model_selection import GridSearchCV\n",
    "from sklearn.preprocessing import LabelEncoder\n",
    "\n",
    "\n",
    "le = LabelEncoder()\n",
    "y_train_transformed = le.fit_transform(y_train)\n",
    "y_test_transformed= le.fit_transform(y_test)\n",
    "\n",
    "\n",
    "#Crear un objeto DMatrix a partir de los datos de entrenamiento y prueba\n",
    "dtrain = xgb.DMatrix(X_train_processed, label=y_train_transformed)\n",
    "dtest = xgb.DMatrix(X_test_processed, label=y_test_transformed)\n",
    "\n",
    "# Definir los hiperparámetros del modelo y los valores a explorar en la búsqueda por grilla\n",
    "params = {\n",
    "    'max_depth': [3, 4, 5],\n",
    "    'min_child_weight': [1, 2, 3],\n",
    "    'colsample_bytree': [0.6, 0.8, 1.0]\n",
    "}\n",
    "\n",
    "# Crear un objeto XGBoost clasificador\n",
    "xgb_model = xgb.XGBClassifier(objective='binary:logistic', seed=42)\n",
    "\n",
    "# Realizar la búsqueda por grilla\n",
    "grid_search = GridSearchCV(xgb_model, param_grid=params, scoring='balanced_accuracy', cv=cv, n_jobs=-1)\n",
    "grid_search.fit(X_train_processed, y_train_transformed)\n",
    "\n",
    "# Obtener los mejores hiperparámetros encontrados por la búsqueda por grilla\n",
    "best_params = grid_search.best_params_\n",
    "\n",
    "print(best_params)\n",
    "\n"
   ]
  },
  {
   "cell_type": "code",
   "execution_count": 131,
   "metadata": {},
   "outputs": [
    {
     "name": "stdout",
     "output_type": "stream",
     "text": [
      "##### F1 ####\n",
      "0.7142857142857142\n",
      "##### BALANCED ACCURACY ####\n",
      "0.7918633422154548\n",
      "##### CONFUSION MATRIX ####\n",
      "[[729  11]\n",
      " [ 57  85]]\n"
     ]
    }
   ],
   "source": [
    "import xgboost as xgb\n",
    "from sklearn.metrics import f1_score, balanced_accuracy_score, confusion_matrix\n",
    "\n",
    "# Crear un objeto DMatrix a partir de los datos de entrenamiento y prueba\n",
    "dtrain = xgb.DMatrix(X_train_processed, label=y_train_transformed)\n",
    "dtest = xgb.DMatrix(X_test_processed, label=y_test_transformed)\n",
    "\n",
    "# Definir los hiperparámetros del modelo\n",
    "params = {\n",
    "    'objective': 'binary:logistic',\n",
    "    'max_depth': 5,\n",
    "    'min_child_weight': 1,\n",
    "    'colsample_bytree': 0.8,\n",
    "}\n",
    "\n",
    "# Entrenar el modelo\n",
    "num_rounds = 100\n",
    "xgb_model = xgb.train(params, dtrain, num_rounds)\n",
    "\n",
    "# Realizar predicciones en los datos de prueba\n",
    "y_pred = xgb_model.predict(dtest)\n",
    "y_pred = [round(value) for value in y_pred]\n",
    "\n",
    "# Calcular las métricas de clasificación\n",
    "print(\"##### F1 ####\")\n",
    "print(f1_score(y_test_transformed, y_pred))\n",
    "print(\"##### BALANCED ACCURACY ####\")\n",
    "print(balanced_accuracy_score(y_test_transformed, y_pred))\n",
    "print(\"##### CONFUSION MATRIX ####\")\n",
    "print(confusion_matrix(y_test_transformed, y_pred))\n"
   ]
  }
 ],
 "metadata": {
  "kernelspec": {
   "display_name": "Python 3",
   "language": "python",
   "name": "python3"
  },
  "language_info": {
   "codemirror_mode": {
    "name": "ipython",
    "version": 3
   },
   "file_extension": ".py",
   "mimetype": "text/x-python",
   "name": "python",
   "nbconvert_exporter": "python",
   "pygments_lexer": "ipython3",
   "version": "3.10.6"
  },
  "orig_nbformat": 4
 },
 "nbformat": 4,
 "nbformat_minor": 2
}
