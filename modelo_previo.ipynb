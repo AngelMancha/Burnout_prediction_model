{
 "cells": [
  {
   "attachments": {},
   "cell_type": "markdown",
   "metadata": {},
   "source": [
    "# Predicción del abandono (BURNOUT) de empleados"
   ]
  },
  {
   "attachments": {},
   "cell_type": "markdown",
   "metadata": {},
   "source": [
    "## Carga de los datos\n",
    "\n",
    "El primer paso a seguir es cargar los datos para poder trabajar sobre ellos y construir un modelo que prediga si un empleado va a abandonar la empresa."
   ]
  },
  {
   "cell_type": "code",
   "execution_count": 403,
   "metadata": {},
   "outputs": [],
   "source": [
    "import pandas as pd\n",
    "\n",
    "df = pd.read_pickle('attrition_available_12.pkl')\n",
    "#value_counts\n",
    "\n",
    "#jobINvolment = df['JobInvolvement']\n",
    "#print(jobINvolment.value_counts())"
   ]
  },
  {
   "attachments": {},
   "cell_type": "markdown",
   "metadata": {},
   "source": [
    "## Análisis exploratorio de datos\n",
    "\n",
    "Ver las primeras filas del dataframe para tener una idea de cómo están estructurados los datos."
   ]
  },
  {
   "cell_type": "code",
   "execution_count": 404,
   "metadata": {},
   "outputs": [
    {
     "data": {
      "text/html": [
       "<div>\n",
       "<style scoped>\n",
       "    .dataframe tbody tr th:only-of-type {\n",
       "        vertical-align: middle;\n",
       "    }\n",
       "\n",
       "    .dataframe tbody tr th {\n",
       "        vertical-align: top;\n",
       "    }\n",
       "\n",
       "    .dataframe thead th {\n",
       "        text-align: right;\n",
       "    }\n",
       "</style>\n",
       "<table border=\"1\" class=\"dataframe\">\n",
       "  <thead>\n",
       "    <tr style=\"text-align: right;\">\n",
       "      <th></th>\n",
       "      <th>hrs</th>\n",
       "      <th>absences</th>\n",
       "      <th>JobInvolvement</th>\n",
       "      <th>PerformanceRating</th>\n",
       "      <th>EnvironmentSatisfaction</th>\n",
       "      <th>JobSatisfaction</th>\n",
       "      <th>WorkLifeBalance</th>\n",
       "      <th>Age</th>\n",
       "      <th>Attrition</th>\n",
       "      <th>BusinessTravel</th>\n",
       "      <th>...</th>\n",
       "      <th>NumCompaniesWorked</th>\n",
       "      <th>Over18</th>\n",
       "      <th>PercentSalaryHike</th>\n",
       "      <th>StandardHours</th>\n",
       "      <th>StockOptionLevel</th>\n",
       "      <th>TotalWorkingYears</th>\n",
       "      <th>TrainingTimesLastYear</th>\n",
       "      <th>YearsAtCompany</th>\n",
       "      <th>YearsSinceLastPromotion</th>\n",
       "      <th>YearsWithCurrManager</th>\n",
       "    </tr>\n",
       "  </thead>\n",
       "  <tbody>\n",
       "    <tr>\n",
       "      <th>1</th>\n",
       "      <td>7.315971</td>\n",
       "      <td>13.0</td>\n",
       "      <td>2.0</td>\n",
       "      <td>NaN</td>\n",
       "      <td>3.0</td>\n",
       "      <td>2.0</td>\n",
       "      <td>4.0</td>\n",
       "      <td>31.0</td>\n",
       "      <td>Yes</td>\n",
       "      <td>Travel_Frequently</td>\n",
       "      <td>...</td>\n",
       "      <td>0.0</td>\n",
       "      <td>Y</td>\n",
       "      <td>NaN</td>\n",
       "      <td>8.0</td>\n",
       "      <td>1.0</td>\n",
       "      <td>6.0</td>\n",
       "      <td>3</td>\n",
       "      <td>NaN</td>\n",
       "      <td>1.0</td>\n",
       "      <td>4.0</td>\n",
       "    </tr>\n",
       "    <tr>\n",
       "      <th>6</th>\n",
       "      <td>NaN</td>\n",
       "      <td>17.0</td>\n",
       "      <td>3.0</td>\n",
       "      <td>NaN</td>\n",
       "      <td>1.0</td>\n",
       "      <td>3.0</td>\n",
       "      <td>1.0</td>\n",
       "      <td>28.0</td>\n",
       "      <td>Yes</td>\n",
       "      <td>Travel_Rarely</td>\n",
       "      <td>...</td>\n",
       "      <td>2.0</td>\n",
       "      <td>Y</td>\n",
       "      <td>NaN</td>\n",
       "      <td>8.0</td>\n",
       "      <td>1.0</td>\n",
       "      <td>5.0</td>\n",
       "      <td>2</td>\n",
       "      <td>0.0</td>\n",
       "      <td>NaN</td>\n",
       "      <td>0.0</td>\n",
       "    </tr>\n",
       "    <tr>\n",
       "      <th>13</th>\n",
       "      <td>NaN</td>\n",
       "      <td>14.0</td>\n",
       "      <td>2.0</td>\n",
       "      <td>3.0</td>\n",
       "      <td>1.0</td>\n",
       "      <td>2.0</td>\n",
       "      <td>2.0</td>\n",
       "      <td>47.0</td>\n",
       "      <td>Yes</td>\n",
       "      <td>Non-Travel</td>\n",
       "      <td>...</td>\n",
       "      <td>1.0</td>\n",
       "      <td>Y</td>\n",
       "      <td>11.0</td>\n",
       "      <td>NaN</td>\n",
       "      <td>2.0</td>\n",
       "      <td>10.0</td>\n",
       "      <td>4</td>\n",
       "      <td>10.0</td>\n",
       "      <td>9.0</td>\n",
       "      <td>9.0</td>\n",
       "    </tr>\n",
       "    <tr>\n",
       "      <th>28</th>\n",
       "      <td>10.713066</td>\n",
       "      <td>6.0</td>\n",
       "      <td>2.0</td>\n",
       "      <td>3.0</td>\n",
       "      <td>4.0</td>\n",
       "      <td>NaN</td>\n",
       "      <td>1.0</td>\n",
       "      <td>NaN</td>\n",
       "      <td>Yes</td>\n",
       "      <td>NaN</td>\n",
       "      <td>...</td>\n",
       "      <td>3.0</td>\n",
       "      <td>Y</td>\n",
       "      <td>14.0</td>\n",
       "      <td>8.0</td>\n",
       "      <td>1.0</td>\n",
       "      <td>19.0</td>\n",
       "      <td>2</td>\n",
       "      <td>1.0</td>\n",
       "      <td>0.0</td>\n",
       "      <td>NaN</td>\n",
       "    </tr>\n",
       "    <tr>\n",
       "      <th>30</th>\n",
       "      <td>9.662808</td>\n",
       "      <td>NaN</td>\n",
       "      <td>2.0</td>\n",
       "      <td>3.0</td>\n",
       "      <td>1.0</td>\n",
       "      <td>2.0</td>\n",
       "      <td>3.0</td>\n",
       "      <td>26.0</td>\n",
       "      <td>Yes</td>\n",
       "      <td>Travel_Rarely</td>\n",
       "      <td>...</td>\n",
       "      <td>2.0</td>\n",
       "      <td>Y</td>\n",
       "      <td>11.0</td>\n",
       "      <td>8.0</td>\n",
       "      <td>0.0</td>\n",
       "      <td>5.0</td>\n",
       "      <td>5</td>\n",
       "      <td>3.0</td>\n",
       "      <td>0.0</td>\n",
       "      <td>2.0</td>\n",
       "    </tr>\n",
       "  </tbody>\n",
       "</table>\n",
       "<p>5 rows × 31 columns</p>\n",
       "</div>"
      ],
      "text/plain": [
       "          hrs  absences  JobInvolvement  PerformanceRating  \\\n",
       "1    7.315971      13.0             2.0                NaN   \n",
       "6         NaN      17.0             3.0                NaN   \n",
       "13        NaN      14.0             2.0                3.0   \n",
       "28  10.713066       6.0             2.0                3.0   \n",
       "30   9.662808       NaN             2.0                3.0   \n",
       "\n",
       "    EnvironmentSatisfaction  JobSatisfaction  WorkLifeBalance   Age Attrition  \\\n",
       "1                       3.0              2.0              4.0  31.0       Yes   \n",
       "6                       1.0              3.0              1.0  28.0       Yes   \n",
       "13                      1.0              2.0              2.0  47.0       Yes   \n",
       "28                      4.0              NaN              1.0   NaN       Yes   \n",
       "30                      1.0              2.0              3.0  26.0       Yes   \n",
       "\n",
       "       BusinessTravel  ... NumCompaniesWorked  Over18  PercentSalaryHike  \\\n",
       "1   Travel_Frequently  ...                0.0       Y                NaN   \n",
       "6       Travel_Rarely  ...                2.0       Y                NaN   \n",
       "13         Non-Travel  ...                1.0       Y               11.0   \n",
       "28                NaN  ...                3.0       Y               14.0   \n",
       "30      Travel_Rarely  ...                2.0       Y               11.0   \n",
       "\n",
       "   StandardHours  StockOptionLevel  TotalWorkingYears TrainingTimesLastYear  \\\n",
       "1            8.0               1.0                6.0                     3   \n",
       "6            8.0               1.0                5.0                     2   \n",
       "13           NaN               2.0               10.0                     4   \n",
       "28           8.0               1.0               19.0                     2   \n",
       "30           8.0               0.0                5.0                     5   \n",
       "\n",
       "    YearsAtCompany YearsSinceLastPromotion YearsWithCurrManager  \n",
       "1              NaN                     1.0                  4.0  \n",
       "6              0.0                     NaN                  0.0  \n",
       "13            10.0                     9.0                  9.0  \n",
       "28             1.0                     0.0                  NaN  \n",
       "30             3.0                     0.0                  2.0  \n",
       "\n",
       "[5 rows x 31 columns]"
      ]
     },
     "execution_count": 404,
     "metadata": {},
     "output_type": "execute_result"
    }
   ],
   "source": [
    "df.head()"
   ]
  },
  {
   "attachments": {},
   "cell_type": "markdown",
   "metadata": {},
   "source": [
    "Debemos tener en cuenta que lo que queremos predecir es la columna '`attrition`', que mide si el empleado va a dejar el trabajo o no."
   ]
  },
  {
   "attachments": {},
   "cell_type": "markdown",
   "metadata": {},
   "source": [
    "Ver los tipos de datos de las columnas"
   ]
  },
  {
   "cell_type": "code",
   "execution_count": 405,
   "metadata": {},
   "outputs": [
    {
     "data": {
      "text/plain": [
       "hrs                        float64\n",
       "absences                   float64\n",
       "JobInvolvement             float64\n",
       "PerformanceRating          float64\n",
       "EnvironmentSatisfaction    float64\n",
       "JobSatisfaction            float64\n",
       "WorkLifeBalance            float64\n",
       "Age                        float64\n",
       "Attrition                   object\n",
       "BusinessTravel              object\n",
       "Department                  object\n",
       "DistanceFromHome             int64\n",
       "Education                  float64\n",
       "EducationField              object\n",
       "EmployeeCount              float64\n",
       "EmployeeID                 float64\n",
       "Gender                      object\n",
       "JobLevel                     int64\n",
       "JobRole                     object\n",
       "MaritalStatus               object\n",
       "MonthlyIncome              float64\n",
       "NumCompaniesWorked         float64\n",
       "Over18                      object\n",
       "PercentSalaryHike          float64\n",
       "StandardHours              float64\n",
       "StockOptionLevel           float64\n",
       "TotalWorkingYears          float64\n",
       "TrainingTimesLastYear        int64\n",
       "YearsAtCompany             float64\n",
       "YearsSinceLastPromotion    float64\n",
       "YearsWithCurrManager       float64\n",
       "dtype: object"
      ]
     },
     "execution_count": 405,
     "metadata": {},
     "output_type": "execute_result"
    }
   ],
   "source": [
    "df.dtypes"
   ]
  },
  {
   "attachments": {},
   "cell_type": "markdown",
   "metadata": {},
   "source": [
    "Contar el número de instancias y columnas"
   ]
  },
  {
   "cell_type": "code",
   "execution_count": 406,
   "metadata": {},
   "outputs": [
    {
     "name": "stdout",
     "output_type": "stream",
     "text": [
      "Número de instancias:  4410\n",
      "Número de columnas:  31\n"
     ]
    }
   ],
   "source": [
    "num_instances = len(df)\n",
    "num_columns = len(df.columns)\n",
    "\n",
    "print(\"Número de instancias: \", num_instances)\n",
    "print(\"Número de columnas: \", num_columns)"
   ]
  },
  {
   "attachments": {},
   "cell_type": "markdown",
   "metadata": {},
   "source": [
    "Ver si hay columnas constantes"
   ]
  },
  {
   "cell_type": "code",
   "execution_count": 407,
   "metadata": {},
   "outputs": [
    {
     "name": "stdout",
     "output_type": "stream",
     "text": [
      "Columnas constantes:  ['EmployeeCount', 'Over18', 'StandardHours']\n"
     ]
    }
   ],
   "source": [
    "const_cols = [col for col in df.columns if df[col].nunique() == 1]\n",
    "print(\"Columnas constantes: \", const_cols)\n"
   ]
  },
  {
   "attachments": {},
   "cell_type": "markdown",
   "metadata": {},
   "source": [
    "Hemos visto que las columnas constantes son las siguientes: *EmployeeCount, Over18, StandardHours*. Ya que estas columnas no van a aportar ninguna información útil al modelo, debemos eliminarlas. Ahora en vez de 31 columnas, tendremos 28."
   ]
  },
  {
   "cell_type": "code",
   "execution_count": 408,
   "metadata": {},
   "outputs": [],
   "source": [
    "df = df.drop(const_cols, axis=1)"
   ]
  },
  {
   "cell_type": "code",
   "execution_count": 409,
   "metadata": {},
   "outputs": [],
   "source": [
    "df = df.drop('EmployeeID', axis=1)"
   ]
  },
  {
   "attachments": {},
   "cell_type": "markdown",
   "metadata": {},
   "source": [
    "Volvemos a mirar el numero de instancias y columnas"
   ]
  },
  {
   "cell_type": "code",
   "execution_count": 410,
   "metadata": {},
   "outputs": [
    {
     "name": "stdout",
     "output_type": "stream",
     "text": [
      "Número de instancias:  4410\n",
      "Número de columnas:  27\n"
     ]
    }
   ],
   "source": [
    "num_instances = len(df)\n",
    "num_columns = len(df.columns)\n",
    "\n",
    "print(\"Número de instancias: \", num_instances)\n",
    "print(\"Número de columnas: \", num_columns)"
   ]
  },
  {
   "attachments": {},
   "cell_type": "markdown",
   "metadata": {},
   "source": [
    "Ver los valores de las columnas constantes"
   ]
  },
  {
   "cell_type": "code",
   "execution_count": 411,
   "metadata": {},
   "outputs": [
    {
     "name": "stdout",
     "output_type": "stream",
     "text": [
      "Proporción de valores faltantes: \n",
      "hrs                        0.211791\n",
      "absences                   0.213152\n",
      "JobInvolvement             0.169388\n",
      "PerformanceRating          0.193197\n",
      "EnvironmentSatisfaction    0.209524\n",
      "JobSatisfaction            0.170522\n",
      "WorkLifeBalance            0.008617\n",
      "Age                        0.211791\n",
      "Attrition                  0.000000\n",
      "BusinessTravel             0.172336\n",
      "Department                 0.186395\n",
      "DistanceFromHome           0.000000\n",
      "Education                  0.218594\n",
      "EducationField             0.180952\n",
      "Gender                     0.200454\n",
      "JobLevel                   0.000000\n",
      "JobRole                    0.216780\n",
      "MaritalStatus              0.202041\n",
      "MonthlyIncome              0.192517\n",
      "NumCompaniesWorked         0.166440\n",
      "PercentSalaryHike          0.209524\n",
      "StockOptionLevel           0.170748\n",
      "TotalWorkingYears          0.186848\n",
      "TrainingTimesLastYear      0.000000\n",
      "YearsAtCompany             0.172336\n",
      "YearsSinceLastPromotion    0.183447\n",
      "YearsWithCurrManager       0.187075\n",
      "dtype: float64\n"
     ]
    }
   ],
   "source": [
    "missing_vals = df.isnull().sum() / len(df)\n",
    "print(\"Proporción de valores faltantes: \")\n",
    "print(missing_vals)"
   ]
  },
  {
   "attachments": {},
   "cell_type": "markdown",
   "metadata": {},
   "source": [
    "## Preprocesamiento de los datos"
   ]
  },
  {
   "attachments": {},
   "cell_type": "markdown",
   "metadata": {},
   "source": [
    "En esta sección realizaremos el procesamiento de los valores faltantes y la transformación de los datos categóricos."
   ]
  },
  {
   "attachments": {},
   "cell_type": "markdown",
   "metadata": {},
   "source": [
    "Parae ello, primero realizaremos la división de los datos en un conjunto de entrenamiento y test"
   ]
  },
  {
   "cell_type": "code",
   "execution_count": 412,
   "metadata": {},
   "outputs": [],
   "source": [
    "from sklearn.model_selection import train_test_split\n",
    "from sklearn import set_config\n",
    "\n",
    "\n",
    "X = df.drop('Attrition', axis=1) \n",
    "y = df['Attrition']\n",
    "\n",
    "\n",
    "X_train, X_test, y_train, y_test = train_test_split(X, y, test_size = 0.2, random_state=0, stratify=y)\n",
    "set_config(transform_output=\"pandas\")\n"
   ]
  },
  {
   "attachments": {},
   "cell_type": "markdown",
   "metadata": {},
   "source": [
    "Para transformar los valores categóricos en numéricos, utilizaremos la técnica One hot encoding."
   ]
  },
  {
   "cell_type": "code",
   "execution_count": 413,
   "metadata": {},
   "outputs": [],
   "source": [
    "# import pandas as pd\n",
    "\n",
    "\n",
    "# # seleccionar la columna que quieres codificar\n",
    "# column_to_encode = ['Attrition', 'BusinessTravel', 'Department', 'EducationField', 'Gender', 'JobRole', 'MaritalStatus']\n",
    "\n",
    "# # aplicar One Hot Encoding\n",
    "# one_hot_encoded = pd.get_dummies(df[column_to_encode])\n",
    "\n",
    "# # combinar el nuevo DataFrame codificado con el original\n",
    "# df_encoded = pd.concat([df, one_hot_encoded], axis=1)\n",
    "\n",
    "# # eliminar la columna original\n",
    "# df_encoded.drop(column_to_encode, axis=1, inplace=True)\n",
    "\n",
    "# # mostrar el nuevo DataFrame codificado\n",
    "# df_encoded.head()\n"
   ]
  },
  {
   "cell_type": "code",
   "execution_count": 414,
   "metadata": {},
   "outputs": [],
   "source": [
    "\n",
    "# import numpy as np\n",
    "\n",
    "# # Supongamos que la columna 0 contiene las variables categóricas que queremos convertir a numéricas\n",
    "# categorical_cols = [0]  \n",
    "\n",
    "# # Creamos una instancia de OneHotEncoder y especificamos las columnas que queremos codificar\n",
    "# encoder = OneHotEncoder(categories='auto', sparse=False, handle_unknown='ignore')\n",
    "# encoder.fit(df[:, categorical_cols])\n",
    "\n",
    "# # Transformamos las variables categóricas en variables numéricas\n",
    "# encoded = encoder.transform(df[:, categorical_cols])\n",
    "\n",
    "# # Concatenamos las variables numéricas con las demás columnas del conjunto de datos\n",
    "# data_encoded = np.concatenate([df[:, :categorical_cols[0]], encoded, df[:, categorical_cols[0]+1:]], axis=1)\n"
   ]
  },
  {
   "attachments": {},
   "cell_type": "markdown",
   "metadata": {},
   "source": [
    "A continuación, se procederá a transformar los datos"
   ]
  },
  {
   "cell_type": "code",
   "execution_count": 415,
   "metadata": {},
   "outputs": [
    {
     "name": "stdout",
     "output_type": "stream",
     "text": [
      "Columnas numéricas: ['hrs', 'absences', 'JobInvolvement', 'PerformanceRating', 'EnvironmentSatisfaction', 'JobSatisfaction', 'WorkLifeBalance', 'Age', 'DistanceFromHome', 'Education', 'JobLevel', 'MonthlyIncome', 'NumCompaniesWorked', 'PercentSalaryHike', 'StockOptionLevel', 'TotalWorkingYears', 'TrainingTimesLastYear', 'YearsAtCompany', 'YearsSinceLastPromotion', 'YearsWithCurrManager']\n",
      "Columnas categóricas: ['BusinessTravel', 'Department', 'EducationField', 'Gender', 'JobRole', 'MaritalStatus']\n"
     ]
    },
    {
     "data": {
      "text/html": [
       "<div>\n",
       "<style scoped>\n",
       "    .dataframe tbody tr th:only-of-type {\n",
       "        vertical-align: middle;\n",
       "    }\n",
       "\n",
       "    .dataframe tbody tr th {\n",
       "        vertical-align: top;\n",
       "    }\n",
       "\n",
       "    .dataframe thead th {\n",
       "        text-align: right;\n",
       "    }\n",
       "</style>\n",
       "<table border=\"1\" class=\"dataframe\">\n",
       "  <thead>\n",
       "    <tr style=\"text-align: right;\">\n",
       "      <th></th>\n",
       "      <th>num__hrs</th>\n",
       "      <th>num__absences</th>\n",
       "      <th>num__JobInvolvement</th>\n",
       "      <th>num__PerformanceRating</th>\n",
       "      <th>num__EnvironmentSatisfaction</th>\n",
       "      <th>num__JobSatisfaction</th>\n",
       "      <th>num__WorkLifeBalance</th>\n",
       "      <th>num__Age</th>\n",
       "      <th>num__DistanceFromHome</th>\n",
       "      <th>num__Education</th>\n",
       "      <th>...</th>\n",
       "      <th>cat__JobRole_Laboratory Technician</th>\n",
       "      <th>cat__JobRole_Manager</th>\n",
       "      <th>cat__JobRole_Manufacturing Director</th>\n",
       "      <th>cat__JobRole_Research Director</th>\n",
       "      <th>cat__JobRole_Research Scientist</th>\n",
       "      <th>cat__JobRole_Sales Executive</th>\n",
       "      <th>cat__JobRole_Sales Representative</th>\n",
       "      <th>cat__MaritalStatus_Divorced</th>\n",
       "      <th>cat__MaritalStatus_Married</th>\n",
       "      <th>cat__MaritalStatus_Single</th>\n",
       "    </tr>\n",
       "  </thead>\n",
       "  <tbody>\n",
       "    <tr>\n",
       "      <th>4282</th>\n",
       "      <td>7.608976</td>\n",
       "      <td>12.0</td>\n",
       "      <td>2.72938</td>\n",
       "      <td>3.0</td>\n",
       "      <td>2.730659</td>\n",
       "      <td>3.000000</td>\n",
       "      <td>3.0</td>\n",
       "      <td>43.0</td>\n",
       "      <td>2.0</td>\n",
       "      <td>2.000000</td>\n",
       "      <td>...</td>\n",
       "      <td>0.0</td>\n",
       "      <td>0.0</td>\n",
       "      <td>0.0</td>\n",
       "      <td>0.0</td>\n",
       "      <td>0.0</td>\n",
       "      <td>1.0</td>\n",
       "      <td>0.0</td>\n",
       "      <td>0.0</td>\n",
       "      <td>0.0</td>\n",
       "      <td>1.0</td>\n",
       "    </tr>\n",
       "    <tr>\n",
       "      <th>3087</th>\n",
       "      <td>6.178723</td>\n",
       "      <td>12.0</td>\n",
       "      <td>3.00000</td>\n",
       "      <td>3.0</td>\n",
       "      <td>1.000000</td>\n",
       "      <td>2.722563</td>\n",
       "      <td>3.0</td>\n",
       "      <td>25.0</td>\n",
       "      <td>5.0</td>\n",
       "      <td>2.000000</td>\n",
       "      <td>...</td>\n",
       "      <td>1.0</td>\n",
       "      <td>0.0</td>\n",
       "      <td>0.0</td>\n",
       "      <td>0.0</td>\n",
       "      <td>0.0</td>\n",
       "      <td>0.0</td>\n",
       "      <td>0.0</td>\n",
       "      <td>0.0</td>\n",
       "      <td>1.0</td>\n",
       "      <td>0.0</td>\n",
       "    </tr>\n",
       "    <tr>\n",
       "      <th>3130</th>\n",
       "      <td>7.311617</td>\n",
       "      <td>16.0</td>\n",
       "      <td>3.00000</td>\n",
       "      <td>3.0</td>\n",
       "      <td>2.000000</td>\n",
       "      <td>3.000000</td>\n",
       "      <td>3.0</td>\n",
       "      <td>40.0</td>\n",
       "      <td>15.0</td>\n",
       "      <td>2.907374</td>\n",
       "      <td>...</td>\n",
       "      <td>1.0</td>\n",
       "      <td>0.0</td>\n",
       "      <td>0.0</td>\n",
       "      <td>0.0</td>\n",
       "      <td>0.0</td>\n",
       "      <td>0.0</td>\n",
       "      <td>0.0</td>\n",
       "      <td>0.0</td>\n",
       "      <td>0.0</td>\n",
       "      <td>1.0</td>\n",
       "    </tr>\n",
       "    <tr>\n",
       "      <th>2237</th>\n",
       "      <td>9.617732</td>\n",
       "      <td>2.0</td>\n",
       "      <td>3.00000</td>\n",
       "      <td>3.0</td>\n",
       "      <td>4.000000</td>\n",
       "      <td>3.000000</td>\n",
       "      <td>3.0</td>\n",
       "      <td>24.0</td>\n",
       "      <td>5.0</td>\n",
       "      <td>2.907374</td>\n",
       "      <td>...</td>\n",
       "      <td>0.0</td>\n",
       "      <td>0.0</td>\n",
       "      <td>1.0</td>\n",
       "      <td>0.0</td>\n",
       "      <td>0.0</td>\n",
       "      <td>0.0</td>\n",
       "      <td>0.0</td>\n",
       "      <td>0.0</td>\n",
       "      <td>1.0</td>\n",
       "      <td>0.0</td>\n",
       "    </tr>\n",
       "    <tr>\n",
       "      <th>2559</th>\n",
       "      <td>7.311617</td>\n",
       "      <td>18.0</td>\n",
       "      <td>1.00000</td>\n",
       "      <td>3.0</td>\n",
       "      <td>2.730659</td>\n",
       "      <td>4.000000</td>\n",
       "      <td>2.0</td>\n",
       "      <td>36.0</td>\n",
       "      <td>5.0</td>\n",
       "      <td>3.000000</td>\n",
       "      <td>...</td>\n",
       "      <td>0.0</td>\n",
       "      <td>0.0</td>\n",
       "      <td>0.0</td>\n",
       "      <td>0.0</td>\n",
       "      <td>0.0</td>\n",
       "      <td>1.0</td>\n",
       "      <td>0.0</td>\n",
       "      <td>0.0</td>\n",
       "      <td>0.0</td>\n",
       "      <td>1.0</td>\n",
       "    </tr>\n",
       "  </tbody>\n",
       "</table>\n",
       "<p>5 rows × 46 columns</p>\n",
       "</div>"
      ],
      "text/plain": [
       "      num__hrs  num__absences  num__JobInvolvement  num__PerformanceRating  \\\n",
       "4282  7.608976           12.0              2.72938                     3.0   \n",
       "3087  6.178723           12.0              3.00000                     3.0   \n",
       "3130  7.311617           16.0              3.00000                     3.0   \n",
       "2237  9.617732            2.0              3.00000                     3.0   \n",
       "2559  7.311617           18.0              1.00000                     3.0   \n",
       "\n",
       "      num__EnvironmentSatisfaction  num__JobSatisfaction  \\\n",
       "4282                      2.730659              3.000000   \n",
       "3087                      1.000000              2.722563   \n",
       "3130                      2.000000              3.000000   \n",
       "2237                      4.000000              3.000000   \n",
       "2559                      2.730659              4.000000   \n",
       "\n",
       "      num__WorkLifeBalance  num__Age  num__DistanceFromHome  num__Education  \\\n",
       "4282                   3.0      43.0                    2.0        2.000000   \n",
       "3087                   3.0      25.0                    5.0        2.000000   \n",
       "3130                   3.0      40.0                   15.0        2.907374   \n",
       "2237                   3.0      24.0                    5.0        2.907374   \n",
       "2559                   2.0      36.0                    5.0        3.000000   \n",
       "\n",
       "      ...  cat__JobRole_Laboratory Technician  cat__JobRole_Manager  \\\n",
       "4282  ...                                 0.0                   0.0   \n",
       "3087  ...                                 1.0                   0.0   \n",
       "3130  ...                                 1.0                   0.0   \n",
       "2237  ...                                 0.0                   0.0   \n",
       "2559  ...                                 0.0                   0.0   \n",
       "\n",
       "      cat__JobRole_Manufacturing Director  cat__JobRole_Research Director  \\\n",
       "4282                                  0.0                             0.0   \n",
       "3087                                  0.0                             0.0   \n",
       "3130                                  0.0                             0.0   \n",
       "2237                                  1.0                             0.0   \n",
       "2559                                  0.0                             0.0   \n",
       "\n",
       "      cat__JobRole_Research Scientist  cat__JobRole_Sales Executive  \\\n",
       "4282                              0.0                           1.0   \n",
       "3087                              0.0                           0.0   \n",
       "3130                              0.0                           0.0   \n",
       "2237                              0.0                           0.0   \n",
       "2559                              0.0                           1.0   \n",
       "\n",
       "      cat__JobRole_Sales Representative  cat__MaritalStatus_Divorced  \\\n",
       "4282                                0.0                          0.0   \n",
       "3087                                0.0                          0.0   \n",
       "3130                                0.0                          0.0   \n",
       "2237                                0.0                          0.0   \n",
       "2559                                0.0                          0.0   \n",
       "\n",
       "      cat__MaritalStatus_Married  cat__MaritalStatus_Single  \n",
       "4282                         0.0                        1.0  \n",
       "3087                         1.0                        0.0  \n",
       "3130                         0.0                        1.0  \n",
       "2237                         1.0                        0.0  \n",
       "2559                         0.0                        1.0  \n",
       "\n",
       "[5 rows x 46 columns]"
      ]
     },
     "execution_count": 415,
     "metadata": {},
     "output_type": "execute_result"
    }
   ],
   "source": [
    "# Primero importamos las librerías necesarias\n",
    "from sklearn.compose import ColumnTransformer\n",
    "import numpy as np\n",
    "from sklearn.impute import SimpleImputer\n",
    "from sklearn.pipeline import Pipeline\n",
    "from sklearn.preprocessing import OneHotEncoder\n",
    "\n",
    "\n",
    "# Definimos las columnas que son numéricas y las que son categóricas\n",
    "numerical_features = X.select_dtypes(include=np.number).columns\n",
    "categorical_features = X.select_dtypes(include='object').columns\n",
    "\n",
    "# Imprimimos cuñales de estas columnas son numéricas y cuáles categóricas\n",
    "print(f\"Columnas numéricas: {list(numerical_features)}\")\n",
    "print(f\"Columnas categóricas: {list(categorical_features)}\")\n",
    "\n",
    "\n",
    "# Definimos las transformaciones que se aplicarán a las columnas numéricas\n",
    "numeric_transformer = Pipeline(steps=[\n",
    "    ('imputer', SimpleImputer(strategy='mean'))\n",
    "])\n",
    "\n",
    "# Definimos las transformaciones que se aplicarán a las columnas categóricas\n",
    "categorical_transformer = Pipeline(steps=[\n",
    "    ('imputer', SimpleImputer(strategy='most_frequent')),\n",
    "    ('onehot', OneHotEncoder(categories='auto', sparse_output=False, handle_unknown='ignore'))\n",
    "])\n",
    "\n",
    "\n",
    "# Pre-procesador \"global\"\n",
    "processor = ColumnTransformer(\n",
    "    transformers=[\n",
    "        ('num', numeric_transformer, numerical_features),\n",
    "        ('cat', categorical_transformer, categorical_features)\n",
    "    ]\n",
    ")\n",
    "\n",
    "\n",
    "processor.fit(X_train)\n",
    "# Realizamos la transformación.\n",
    "X_train_processed = processor.fit_transform(X_train)\n",
    "X_test_processed = processor.transform(X_test)\n",
    "X_train_processed.head()\n"
   ]
  },
  {
   "attachments": {},
   "cell_type": "markdown",
   "metadata": {},
   "source": [
    "Comprobamos si se ha hecho bien y no hay missing values. Como se puede comprobar, se han transformado los datos de manera satisfactoria y ya no hay missing values y todos los datos se han convertido a numéricos mediante el uso de la técnica `OneHotEnconding`."
   ]
  },
  {
   "cell_type": "code",
   "execution_count": 416,
   "metadata": {},
   "outputs": [
    {
     "name": "stdout",
     "output_type": "stream",
     "text": [
      "Numero de valores valtantes de entrenamiento: num__hrs                                  0\n",
      "num__absences                             0\n",
      "num__JobInvolvement                       0\n",
      "num__PerformanceRating                    0\n",
      "num__EnvironmentSatisfaction              0\n",
      "num__JobSatisfaction                      0\n",
      "num__WorkLifeBalance                      0\n",
      "num__Age                                  0\n",
      "num__DistanceFromHome                     0\n",
      "num__Education                            0\n",
      "num__JobLevel                             0\n",
      "num__MonthlyIncome                        0\n",
      "num__NumCompaniesWorked                   0\n",
      "num__PercentSalaryHike                    0\n",
      "num__StockOptionLevel                     0\n",
      "num__TotalWorkingYears                    0\n",
      "num__TrainingTimesLastYear                0\n",
      "num__YearsAtCompany                       0\n",
      "num__YearsSinceLastPromotion              0\n",
      "num__YearsWithCurrManager                 0\n",
      "cat__BusinessTravel_Non-Travel            0\n",
      "cat__BusinessTravel_Travel_Frequently     0\n",
      "cat__BusinessTravel_Travel_Rarely         0\n",
      "cat__Department_Human Resources           0\n",
      "cat__Department_Research & Development    0\n",
      "cat__Department_Sales                     0\n",
      "cat__EducationField_Human Resources       0\n",
      "cat__EducationField_Life Sciences         0\n",
      "cat__EducationField_Marketing             0\n",
      "cat__EducationField_Medical               0\n",
      "cat__EducationField_Other                 0\n",
      "cat__EducationField_Technical Degree      0\n",
      "cat__Gender_Female                        0\n",
      "cat__Gender_Male                          0\n",
      "cat__JobRole_Healthcare Representative    0\n",
      "cat__JobRole_Human Resources              0\n",
      "cat__JobRole_Laboratory Technician        0\n",
      "cat__JobRole_Manager                      0\n",
      "cat__JobRole_Manufacturing Director       0\n",
      "cat__JobRole_Research Director            0\n",
      "cat__JobRole_Research Scientist           0\n",
      "cat__JobRole_Sales Executive              0\n",
      "cat__JobRole_Sales Representative         0\n",
      "cat__MaritalStatus_Divorced               0\n",
      "cat__MaritalStatus_Married                0\n",
      "cat__MaritalStatus_Single                 0\n",
      "dtype: int64\n",
      "Numero de valores valtantes de test: num__hrs                                  0\n",
      "num__absences                             0\n",
      "num__JobInvolvement                       0\n",
      "num__PerformanceRating                    0\n",
      "num__EnvironmentSatisfaction              0\n",
      "num__JobSatisfaction                      0\n",
      "num__WorkLifeBalance                      0\n",
      "num__Age                                  0\n",
      "num__DistanceFromHome                     0\n",
      "num__Education                            0\n",
      "num__JobLevel                             0\n",
      "num__MonthlyIncome                        0\n",
      "num__NumCompaniesWorked                   0\n",
      "num__PercentSalaryHike                    0\n",
      "num__StockOptionLevel                     0\n",
      "num__TotalWorkingYears                    0\n",
      "num__TrainingTimesLastYear                0\n",
      "num__YearsAtCompany                       0\n",
      "num__YearsSinceLastPromotion              0\n",
      "num__YearsWithCurrManager                 0\n",
      "cat__BusinessTravel_Non-Travel            0\n",
      "cat__BusinessTravel_Travel_Frequently     0\n",
      "cat__BusinessTravel_Travel_Rarely         0\n",
      "cat__Department_Human Resources           0\n",
      "cat__Department_Research & Development    0\n",
      "cat__Department_Sales                     0\n",
      "cat__EducationField_Human Resources       0\n",
      "cat__EducationField_Life Sciences         0\n",
      "cat__EducationField_Marketing             0\n",
      "cat__EducationField_Medical               0\n",
      "cat__EducationField_Other                 0\n",
      "cat__EducationField_Technical Degree      0\n",
      "cat__Gender_Female                        0\n",
      "cat__Gender_Male                          0\n",
      "cat__JobRole_Healthcare Representative    0\n",
      "cat__JobRole_Human Resources              0\n",
      "cat__JobRole_Laboratory Technician        0\n",
      "cat__JobRole_Manager                      0\n",
      "cat__JobRole_Manufacturing Director       0\n",
      "cat__JobRole_Research Director            0\n",
      "cat__JobRole_Research Scientist           0\n",
      "cat__JobRole_Sales Executive              0\n",
      "cat__JobRole_Sales Representative         0\n",
      "cat__MaritalStatus_Divorced               0\n",
      "cat__MaritalStatus_Married                0\n",
      "cat__MaritalStatus_Single                 0\n",
      "dtype: int64\n"
     ]
    }
   ],
   "source": [
    "print(f\"Numero de valores valtantes de entrenamiento: {np.isnan(X_train_processed).sum()}\")\n",
    "print(f\"Numero de valores valtantes de test: {np.isnan(X_test_processed).sum()}\")"
   ]
  },
  {
   "attachments": {},
   "cell_type": "markdown",
   "metadata": {},
   "source": [
    "## Balanceamiento de la clase   "
   ]
  },
  {
   "attachments": {},
   "cell_type": "markdown",
   "metadata": {},
   "source": [
    "Para saber si el conjunto de datos está desbalanceado, primeramente contaremos el número de observaciones en cada clase de la variable objetivo"
   ]
  },
  {
   "cell_type": "code",
   "execution_count": 417,
   "metadata": {},
   "outputs": [
    {
     "name": "stdout",
     "output_type": "stream",
     "text": [
      "No     3699\n",
      "Yes     711\n",
      "Name: Attrition, dtype: int64\n"
     ]
    }
   ],
   "source": [
    "# Contar el número de observaciones en cada clase de la variable objetivo\n",
    "counts = df['Attrition'].value_counts()\n",
    "\n",
    "print(counts)"
   ]
  },
  {
   "cell_type": "code",
   "execution_count": 418,
   "metadata": {},
   "outputs": [
    {
     "data": {
      "image/png": "[encoded data removed]",
      "text/plain": [
       "<Figure size 640x480 with 1 Axes>"
      ]
     },
     "metadata": {},
     "output_type": "display_data"
    }
   ],
   "source": [
    "import matplotlib.pyplot as plt\n",
    "\n",
    "# Crear un histograma de la variable objetivo\n",
    "plt.hist(df['Attrition'])\n",
    "plt.show()\n"
   ]
  },
  {
   "attachments": {},
   "cell_type": "markdown",
   "metadata": {},
   "source": [
    "Para estudiarlo más en profundidad, calculamos la proporción de observaciones en cada conjunto de entrenamiento y test."
   ]
  },
  {
   "cell_type": "code",
   "execution_count": 419,
   "metadata": {},
   "outputs": [],
   "source": [
    "N_SAMPLES_NEG = 3699\n",
    "N_SAMPLES_POS = 711\n"
   ]
  },
  {
   "cell_type": "code",
   "execution_count": 420,
   "metadata": {},
   "outputs": [
    {
     "name": "stdout",
     "output_type": "stream",
     "text": [
      "Hay un 16.4 % de instancias positivas en train.\n",
      "Hay un 15.0 % de instancias positivas en test.\n",
      "Hay un 16.1 % de instancias positivas en total.\n"
     ]
    }
   ],
   "source": [
    "from sklearn.model_selection import train_test_split, StratifiedKFold\n",
    "import numpy as np\n",
    "# Vamos a comenzar realizando una división train/test \"normal\".\n",
    "X_train_no_strat, X_test_no_strat, y_train_no_strat, y_test_no_strat = train_test_split(X, y, test_size=0.2)\n",
    "\n",
    "\n",
    "# Comprobemos ahora la distribución de las clases.\n",
    "n_pos_pct = N_SAMPLES_POS / (N_SAMPLES_POS + N_SAMPLES_NEG)\n",
    "n_pos_train_pct = np.sum(y_train_no_strat==\"Yes\") / len(y_train_no_strat)\n",
    "n_pos_test_pct = np.sum(y_test_no_strat==\"Yes\") / len(y_test_no_strat)\n",
    "\n",
    "print(f\"Hay un {100 * n_pos_train_pct:.1f} % de instancias positivas en train.\")\n",
    "print(f\"Hay un {100 * n_pos_test_pct:.1f} % de instancias positivas en test.\")\n",
    "print(f\"Hay un {100 * n_pos_pct:.1f} % de instancias positivas en total.\")"
   ]
  },
  {
   "attachments": {},
   "cell_type": "markdown",
   "metadata": {},
   "source": [
    "Basándonos en los resultados obtenidos, podemos afirmar que los datos están ligeramente desbalanceados. Al analizar la proporción de instancias positivas en el conjunto de train y test, observamos que esta proporción es de alrededor del 16%, lo que significa que la clase minoritaria está ligeramente subrepresentada, por lo que procedemos a hacer una `división estratificada`\n",
    "\n",
    "Aunque en términos estrictos se puede considerar que los datos están desbalanceados, el desequilibrio no es extremo. En este caso, es posible que no se requieran técnicas de muestreo especializadas para equilibrar la distribución de clases y que un modelo de aprendizaje automático pueda entrenarse con éxito en este conjunto de datos.\n",
    "\n",
    "\n",
    "\n",
    "\n"
   ]
  },
  {
   "cell_type": "code",
   "execution_count": 421,
   "metadata": {},
   "outputs": [
    {
     "name": "stdout",
     "output_type": "stream",
     "text": [
      "Hay un 16.1 % de instancias positivas en train.\n",
      "Hay un 16.1 % de instancias positivas en test.\n",
      "Hay un 16.1 % de instancias positivas en total.\n"
     ]
    }
   ],
   "source": [
    "# Ahora realizaremos una división estratificada.\n",
    "\n",
    "# Comprobemos ahora la distribución de las clases.\n",
    "n_pos_pct = N_SAMPLES_POS / (N_SAMPLES_POS + N_SAMPLES_NEG)\n",
    "n_pos_train_pct = np.sum(y_train==\"Yes\") / len(y_train)\n",
    "n_pos_test_pct = np.sum(y_test==\"Yes\") / len(y_test)\n",
    "\n",
    "print(f\"Hay un {100 * n_pos_train_pct:.1f} % de instancias positivas en train.\")\n",
    "print(f\"Hay un {100 * n_pos_test_pct:.1f} % de instancias positivas en test.\")\n",
    "print(f\"Hay un {100 * n_pos_pct:.1f} % de instancias positivas en total.\")"
   ]
  },
  {
   "attachments": {},
   "cell_type": "markdown",
   "metadata": {},
   "source": [
    "Y seguidamente, se realiza un proceso de validación cruzada estratificada"
   ]
  },
  {
   "cell_type": "code",
   "execution_count": 422,
   "metadata": {},
   "outputs": [
    {
     "ename": "KeyError",
     "evalue": "'[697, 704, 716, 727, 729, 730, 731, 732, 751, 752, 754, 756, 768, 770, 771, 774, 783, 786, 795, 802, 804, 812, 814, 822, 835, 838, 840, 842, 843, 850, 857, 862, 879, 881, 885, 887, 888, 890, 897, 899, 903, 905, 906, 907, 916, 920, 923, 927, 934, 940, 954, 958, 960, 962, 967, 969, 976, 978, 983, 990, 994, 1000, 1001, 1003, 1004, 1010, 1012, 1017, 1020, 1025, 1030, 1031, 1032, 1038, 1040, 1044, 1047, 1048, 1054, 1062, 1065, 1072, 1084, 1085, 1090, 1095, 1110, 1114, 1115, 1118, 1119, 1129, 1134, 1138, 1141, 1143, 1145, 1147, 1158, 1163, 1164, 1166, 1167, 1182, 1199, 1201, 1202, 1207, 1218, 1220, 1226, 1227, 1232, 1242, 1245, 1246, 1251, 1253, 1257, 1260, 1263, 1280, 1281, 1295, 1300, 1312, 1317, 1321, 1326, 1327, 1328, 1351, 1352, 1353, 1355, 1356, 1363, 1366, 1371, 1374, 1375, 1377, 1381, 1385, 1386, 1391, 1397, 1401, 1402, 1405, 1407, 1417, 1422, 1423, 1430, 1433, 1434, 1436, 1438, 1439, 1440, 1441, 1442, 1450, 1455, 1457, 1480, 1482, 1487, 1489, 1490, 1491, 1493, 1498, 1516, 1522, 1534, 1544, 1545, 1548, 1552, 1553, 1554, 1556, 1562, 1564, 1569, 1581, 1584, 1586, 1590, 1591, 1601, 1602, 1604, 1606, 1608, 1609, 1626, 1628, 1642, 1645, 1654, 1658, 1661, 1664, 1667, 1678, 1683, 1686, 1698, 1702, 1708, 1709, 1712, 1715, 1718, 1720, 1722, 1739, 1745, 1747, 1748, 1749, 1751, 1759, 1760, 1761, 1764, 1769, 1781, 1800, 1823, 1824, 1829, 1834, 1835, 1844, 1845, 1850, 1852, 1855, 1856, 1858, 1860, 1861, 1870, 1875, 1877, 1880, 1884, 1891, 1899, 1900, 1912, 1913, 1916, 1921, 1928, 1930, 1932, 1935, 1937, 1949, 1955, 1956, 1957, 1961, 1963, 1964, 1972, 1981, 1990, 1996, 1997, 2001, 2003, 2017, 2023, 2033, 2035, 2039, 2044, 2058, 2060, 2061, 2063, 2064, 2072, 2074, 2078, 2083, 2085, 2089, 2092, 2095, 2115, 2124, 2126, 2140, 2142, 2144, 2146, 2152, 2153, 2158, 2160, 2165, 2178, 2180, 2181, 2186, 2187, 2193, 2195, 2197, 2200, 2206, 2210, 2212, 2218, 2219, 2229, 2230, 2236, 2239, 2243, 2249, 2252, 2256, 2262, 2273, 2276, 2282, 2283, 2286, 2288, 2292, 2294, 2297, 2301, 2305, 2306, 2311, 2314, 2320, 2322, 2324, 2325, 2326, 2339, 2341, 2349, 2352, 2353, 2356, 2357, 2359, 2361, 2364, 2375, 2379, 2382, 2393, 2396, 2399, 2400, 2402, 2412, 2413, 2414, 2415, 2418, 2431, 2437, 2439, 2443, 2450, 2458, 2459, 2474, 2475, 2480, 2483, 2486, 2487, 2490, 2497, 2499, 2502, 2517, 2519, 2525, 2531, 2534, 2535, 2544, 2554, 2558, 2560, 2567, 2571, 2573, 2575, 2581, 2582, 2586, 2587, 2591, 2594, 2596, 2598, 2601, 2603, 2607, 2608, 2610, 2613, 2614, 2615, 2623, 2625, 2642, 2645, 2649, 2650, 2651, 2654, 2669, 2673, 2680, 2686, 2692, 2695, 2697, 2707, 2708, 2713, 2718, 2722, 2725, 2738, 2742, 2744, 2750, 2769, 2782, 2783, 2785, 2788, 2790, 2796, 2804, 2807, 2818, 2820, 2830, 2834, 2842, 2843, 2846, 2847, 2848, 2850, 2853, 2865, 2867, 2880, 2881, 2886, 2890, 2896, 2900, 2904, 2909, 2914, 2917, 2937, 2942, 2946, 2947, 2954, 2971, 2976, 2979, 2983, 2984, 2992, 2997, 3012, 3021, 3031, 3032, 3035, 3044, 3051, 3052, 3060, 3075, 3084, 3089, 3093, 3097, 3099, 3105, 3108, 3117, 3122, 3137, 3148, 3151, 3153, 3154, 3155, 3161, 3169, 3170, 3175, 3177, 3182, 3188, 3191, 3193, 3197, 3198, 3199, 3201, 3208, 3217, 3228, 3229, 3230, 3239, 3241, 3248, 3250, 3253, 3260, 3264, 3266, 3268, 3272, 3274, 3275, 3279, 3284, 3285, 3292, 3295, 3297, 3305, 3308, 3312, 3313, 3316, 3317, 3330, 3344, 3347, 3352, 3353, 3357, 3364, 3366, 3367, 3372, 3378, 3384, 3398, 3399, 3400, 3403, 3410, 3415, 3419, 3426, 3436, 3437, 3438, 3440, 3451, 3455, 3456, 3457, 3458, 3460, 3461, 3465, 3466, 3470, 3483, 3486, 3494, 3501, 3505, 3508, 3509, 3520, 3524] not in index'",
     "output_type": "error",
     "traceback": [
      "\u001b[0;31m---------------------------------------------------------------------------\u001b[0m",
      "\u001b[0;31mKeyError\u001b[0m                                  Traceback (most recent call last)",
      "Cell \u001b[0;32mIn[422], line 6\u001b[0m\n\u001b[1;32m      4\u001b[0m n_fold \u001b[39m=\u001b[39m \u001b[39m1\u001b[39m\n\u001b[1;32m      5\u001b[0m \u001b[39mfor\u001b[39;00m train_ix, test_ix \u001b[39min\u001b[39;00m cv\u001b[39m.\u001b[39msplit(X_train_strat, y_train_strat):\n\u001b[0;32m----> 6\u001b[0m     y_train_train \u001b[39m=\u001b[39m y_train[train_ix]\n\u001b[1;32m      7\u001b[0m     y_train_test \u001b[39m=\u001b[39m y_train[test_ix]\n\u001b[1;32m      8\u001b[0m     n_pos_traintrain_pct \u001b[39m=\u001b[39m np\u001b[39m.\u001b[39msum(y_train_train) \u001b[39m/\u001b[39m \u001b[39mlen\u001b[39m(y_train_train)\n",
      "File \u001b[0;32m~/.local/lib/python3.10/site-packages/pandas/core/series.py:1007\u001b[0m, in \u001b[0;36mSeries.__getitem__\u001b[0;34m(self, key)\u001b[0m\n\u001b[1;32m   1004\u001b[0m     key \u001b[39m=\u001b[39m np\u001b[39m.\u001b[39masarray(key, dtype\u001b[39m=\u001b[39m\u001b[39mbool\u001b[39m)\n\u001b[1;32m   1005\u001b[0m     \u001b[39mreturn\u001b[39;00m \u001b[39mself\u001b[39m\u001b[39m.\u001b[39m_get_values(key)\n\u001b[0;32m-> 1007\u001b[0m \u001b[39mreturn\u001b[39;00m \u001b[39mself\u001b[39;49m\u001b[39m.\u001b[39;49m_get_with(key)\n",
      "File \u001b[0;32m~/.local/lib/python3.10/site-packages/pandas/core/series.py:1042\u001b[0m, in \u001b[0;36mSeries._get_with\u001b[0;34m(self, key)\u001b[0m\n\u001b[1;32m   1038\u001b[0m \u001b[39mif\u001b[39;00m key_type \u001b[39m==\u001b[39m \u001b[39m\"\u001b[39m\u001b[39minteger\u001b[39m\u001b[39m\"\u001b[39m:\n\u001b[1;32m   1039\u001b[0m     \u001b[39m# We need to decide whether to treat this as a positional indexer\u001b[39;00m\n\u001b[1;32m   1040\u001b[0m     \u001b[39m#  (i.e. self.iloc) or label-based (i.e. self.loc)\u001b[39;00m\n\u001b[1;32m   1041\u001b[0m     \u001b[39mif\u001b[39;00m \u001b[39mnot\u001b[39;00m \u001b[39mself\u001b[39m\u001b[39m.\u001b[39mindex\u001b[39m.\u001b[39m_should_fallback_to_positional:\n\u001b[0;32m-> 1042\u001b[0m         \u001b[39mreturn\u001b[39;00m \u001b[39mself\u001b[39;49m\u001b[39m.\u001b[39;49mloc[key]\n\u001b[1;32m   1043\u001b[0m     \u001b[39melse\u001b[39;00m:\n\u001b[1;32m   1044\u001b[0m         \u001b[39mreturn\u001b[39;00m \u001b[39mself\u001b[39m\u001b[39m.\u001b[39miloc[key]\n",
      "File \u001b[0;32m~/.local/lib/python3.10/site-packages/pandas/core/indexing.py:1073\u001b[0m, in \u001b[0;36m_LocationIndexer.__getitem__\u001b[0;34m(self, key)\u001b[0m\n\u001b[1;32m   1070\u001b[0m axis \u001b[39m=\u001b[39m \u001b[39mself\u001b[39m\u001b[39m.\u001b[39maxis \u001b[39mor\u001b[39;00m \u001b[39m0\u001b[39m\n\u001b[1;32m   1072\u001b[0m maybe_callable \u001b[39m=\u001b[39m com\u001b[39m.\u001b[39mapply_if_callable(key, \u001b[39mself\u001b[39m\u001b[39m.\u001b[39mobj)\n\u001b[0;32m-> 1073\u001b[0m \u001b[39mreturn\u001b[39;00m \u001b[39mself\u001b[39;49m\u001b[39m.\u001b[39;49m_getitem_axis(maybe_callable, axis\u001b[39m=\u001b[39;49maxis)\n",
      "File \u001b[0;32m~/.local/lib/python3.10/site-packages/pandas/core/indexing.py:1301\u001b[0m, in \u001b[0;36m_LocIndexer._getitem_axis\u001b[0;34m(self, key, axis)\u001b[0m\n\u001b[1;32m   1298\u001b[0m     \u001b[39mif\u001b[39;00m \u001b[39mhasattr\u001b[39m(key, \u001b[39m\"\u001b[39m\u001b[39mndim\u001b[39m\u001b[39m\"\u001b[39m) \u001b[39mand\u001b[39;00m key\u001b[39m.\u001b[39mndim \u001b[39m>\u001b[39m \u001b[39m1\u001b[39m:\n\u001b[1;32m   1299\u001b[0m         \u001b[39mraise\u001b[39;00m \u001b[39mValueError\u001b[39;00m(\u001b[39m\"\u001b[39m\u001b[39mCannot index with multidimensional key\u001b[39m\u001b[39m\"\u001b[39m)\n\u001b[0;32m-> 1301\u001b[0m     \u001b[39mreturn\u001b[39;00m \u001b[39mself\u001b[39;49m\u001b[39m.\u001b[39;49m_getitem_iterable(key, axis\u001b[39m=\u001b[39;49maxis)\n\u001b[1;32m   1303\u001b[0m \u001b[39m# nested tuple slicing\u001b[39;00m\n\u001b[1;32m   1304\u001b[0m \u001b[39mif\u001b[39;00m is_nested_tuple(key, labels):\n",
      "File \u001b[0;32m~/.local/lib/python3.10/site-packages/pandas/core/indexing.py:1239\u001b[0m, in \u001b[0;36m_LocIndexer._getitem_iterable\u001b[0;34m(self, key, axis)\u001b[0m\n\u001b[1;32m   1236\u001b[0m \u001b[39mself\u001b[39m\u001b[39m.\u001b[39m_validate_key(key, axis)\n\u001b[1;32m   1238\u001b[0m \u001b[39m# A collection of keys\u001b[39;00m\n\u001b[0;32m-> 1239\u001b[0m keyarr, indexer \u001b[39m=\u001b[39m \u001b[39mself\u001b[39;49m\u001b[39m.\u001b[39;49m_get_listlike_indexer(key, axis)\n\u001b[1;32m   1240\u001b[0m \u001b[39mreturn\u001b[39;00m \u001b[39mself\u001b[39m\u001b[39m.\u001b[39mobj\u001b[39m.\u001b[39m_reindex_with_indexers(\n\u001b[1;32m   1241\u001b[0m     {axis: [keyarr, indexer]}, copy\u001b[39m=\u001b[39m\u001b[39mTrue\u001b[39;00m, allow_dups\u001b[39m=\u001b[39m\u001b[39mTrue\u001b[39;00m\n\u001b[1;32m   1242\u001b[0m )\n",
      "File \u001b[0;32m~/.local/lib/python3.10/site-packages/pandas/core/indexing.py:1432\u001b[0m, in \u001b[0;36m_LocIndexer._get_listlike_indexer\u001b[0;34m(self, key, axis)\u001b[0m\n\u001b[1;32m   1429\u001b[0m ax \u001b[39m=\u001b[39m \u001b[39mself\u001b[39m\u001b[39m.\u001b[39mobj\u001b[39m.\u001b[39m_get_axis(axis)\n\u001b[1;32m   1430\u001b[0m axis_name \u001b[39m=\u001b[39m \u001b[39mself\u001b[39m\u001b[39m.\u001b[39mobj\u001b[39m.\u001b[39m_get_axis_name(axis)\n\u001b[0;32m-> 1432\u001b[0m keyarr, indexer \u001b[39m=\u001b[39m ax\u001b[39m.\u001b[39;49m_get_indexer_strict(key, axis_name)\n\u001b[1;32m   1434\u001b[0m \u001b[39mreturn\u001b[39;00m keyarr, indexer\n",
      "File \u001b[0;32m~/.local/lib/python3.10/site-packages/pandas/core/indexes/base.py:6070\u001b[0m, in \u001b[0;36mIndex._get_indexer_strict\u001b[0;34m(self, key, axis_name)\u001b[0m\n\u001b[1;32m   6067\u001b[0m \u001b[39melse\u001b[39;00m:\n\u001b[1;32m   6068\u001b[0m     keyarr, indexer, new_indexer \u001b[39m=\u001b[39m \u001b[39mself\u001b[39m\u001b[39m.\u001b[39m_reindex_non_unique(keyarr)\n\u001b[0;32m-> 6070\u001b[0m \u001b[39mself\u001b[39;49m\u001b[39m.\u001b[39;49m_raise_if_missing(keyarr, indexer, axis_name)\n\u001b[1;32m   6072\u001b[0m keyarr \u001b[39m=\u001b[39m \u001b[39mself\u001b[39m\u001b[39m.\u001b[39mtake(indexer)\n\u001b[1;32m   6073\u001b[0m \u001b[39mif\u001b[39;00m \u001b[39misinstance\u001b[39m(key, Index):\n\u001b[1;32m   6074\u001b[0m     \u001b[39m# GH 42790 - Preserve name from an Index\u001b[39;00m\n",
      "File \u001b[0;32m~/.local/lib/python3.10/site-packages/pandas/core/indexes/base.py:6133\u001b[0m, in \u001b[0;36mIndex._raise_if_missing\u001b[0;34m(self, key, indexer, axis_name)\u001b[0m\n\u001b[1;32m   6130\u001b[0m     \u001b[39mraise\u001b[39;00m \u001b[39mKeyError\u001b[39;00m(\u001b[39mf\u001b[39m\u001b[39m\"\u001b[39m\u001b[39mNone of [\u001b[39m\u001b[39m{\u001b[39;00mkey\u001b[39m}\u001b[39;00m\u001b[39m] are in the [\u001b[39m\u001b[39m{\u001b[39;00maxis_name\u001b[39m}\u001b[39;00m\u001b[39m]\u001b[39m\u001b[39m\"\u001b[39m)\n\u001b[1;32m   6132\u001b[0m not_found \u001b[39m=\u001b[39m \u001b[39mlist\u001b[39m(ensure_index(key)[missing_mask\u001b[39m.\u001b[39mnonzero()[\u001b[39m0\u001b[39m]]\u001b[39m.\u001b[39munique())\n\u001b[0;32m-> 6133\u001b[0m \u001b[39mraise\u001b[39;00m \u001b[39mKeyError\u001b[39;00m(\u001b[39mf\u001b[39m\u001b[39m\"\u001b[39m\u001b[39m{\u001b[39;00mnot_found\u001b[39m}\u001b[39;00m\u001b[39m not in index\u001b[39m\u001b[39m\"\u001b[39m)\n",
      "\u001b[0;31mKeyError\u001b[0m: '[697, 704, 716, 727, 729, 730, 731, 732, 751, 752, 754, 756, 768, 770, 771, 774, 783, 786, 795, 802, 804, 812, 814, 822, 835, 838, 840, 842, 843, 850, 857, 862, 879, 881, 885, 887, 888, 890, 897, 899, 903, 905, 906, 907, 916, 920, 923, 927, 934, 940, 954, 958, 960, 962, 967, 969, 976, 978, 983, 990, 994, 1000, 1001, 1003, 1004, 1010, 1012, 1017, 1020, 1025, 1030, 1031, 1032, 1038, 1040, 1044, 1047, 1048, 1054, 1062, 1065, 1072, 1084, 1085, 1090, 1095, 1110, 1114, 1115, 1118, 1119, 1129, 1134, 1138, 1141, 1143, 1145, 1147, 1158, 1163, 1164, 1166, 1167, 1182, 1199, 1201, 1202, 1207, 1218, 1220, 1226, 1227, 1232, 1242, 1245, 1246, 1251, 1253, 1257, 1260, 1263, 1280, 1281, 1295, 1300, 1312, 1317, 1321, 1326, 1327, 1328, 1351, 1352, 1353, 1355, 1356, 1363, 1366, 1371, 1374, 1375, 1377, 1381, 1385, 1386, 1391, 1397, 1401, 1402, 1405, 1407, 1417, 1422, 1423, 1430, 1433, 1434, 1436, 1438, 1439, 1440, 1441, 1442, 1450, 1455, 1457, 1480, 1482, 1487, 1489, 1490, 1491, 1493, 1498, 1516, 1522, 1534, 1544, 1545, 1548, 1552, 1553, 1554, 1556, 1562, 1564, 1569, 1581, 1584, 1586, 1590, 1591, 1601, 1602, 1604, 1606, 1608, 1609, 1626, 1628, 1642, 1645, 1654, 1658, 1661, 1664, 1667, 1678, 1683, 1686, 1698, 1702, 1708, 1709, 1712, 1715, 1718, 1720, 1722, 1739, 1745, 1747, 1748, 1749, 1751, 1759, 1760, 1761, 1764, 1769, 1781, 1800, 1823, 1824, 1829, 1834, 1835, 1844, 1845, 1850, 1852, 1855, 1856, 1858, 1860, 1861, 1870, 1875, 1877, 1880, 1884, 1891, 1899, 1900, 1912, 1913, 1916, 1921, 1928, 1930, 1932, 1935, 1937, 1949, 1955, 1956, 1957, 1961, 1963, 1964, 1972, 1981, 1990, 1996, 1997, 2001, 2003, 2017, 2023, 2033, 2035, 2039, 2044, 2058, 2060, 2061, 2063, 2064, 2072, 2074, 2078, 2083, 2085, 2089, 2092, 2095, 2115, 2124, 2126, 2140, 2142, 2144, 2146, 2152, 2153, 2158, 2160, 2165, 2178, 2180, 2181, 2186, 2187, 2193, 2195, 2197, 2200, 2206, 2210, 2212, 2218, 2219, 2229, 2230, 2236, 2239, 2243, 2249, 2252, 2256, 2262, 2273, 2276, 2282, 2283, 2286, 2288, 2292, 2294, 2297, 2301, 2305, 2306, 2311, 2314, 2320, 2322, 2324, 2325, 2326, 2339, 2341, 2349, 2352, 2353, 2356, 2357, 2359, 2361, 2364, 2375, 2379, 2382, 2393, 2396, 2399, 2400, 2402, 2412, 2413, 2414, 2415, 2418, 2431, 2437, 2439, 2443, 2450, 2458, 2459, 2474, 2475, 2480, 2483, 2486, 2487, 2490, 2497, 2499, 2502, 2517, 2519, 2525, 2531, 2534, 2535, 2544, 2554, 2558, 2560, 2567, 2571, 2573, 2575, 2581, 2582, 2586, 2587, 2591, 2594, 2596, 2598, 2601, 2603, 2607, 2608, 2610, 2613, 2614, 2615, 2623, 2625, 2642, 2645, 2649, 2650, 2651, 2654, 2669, 2673, 2680, 2686, 2692, 2695, 2697, 2707, 2708, 2713, 2718, 2722, 2725, 2738, 2742, 2744, 2750, 2769, 2782, 2783, 2785, 2788, 2790, 2796, 2804, 2807, 2818, 2820, 2830, 2834, 2842, 2843, 2846, 2847, 2848, 2850, 2853, 2865, 2867, 2880, 2881, 2886, 2890, 2896, 2900, 2904, 2909, 2914, 2917, 2937, 2942, 2946, 2947, 2954, 2971, 2976, 2979, 2983, 2984, 2992, 2997, 3012, 3021, 3031, 3032, 3035, 3044, 3051, 3052, 3060, 3075, 3084, 3089, 3093, 3097, 3099, 3105, 3108, 3117, 3122, 3137, 3148, 3151, 3153, 3154, 3155, 3161, 3169, 3170, 3175, 3177, 3182, 3188, 3191, 3193, 3197, 3198, 3199, 3201, 3208, 3217, 3228, 3229, 3230, 3239, 3241, 3248, 3250, 3253, 3260, 3264, 3266, 3268, 3272, 3274, 3275, 3279, 3284, 3285, 3292, 3295, 3297, 3305, 3308, 3312, 3313, 3316, 3317, 3330, 3344, 3347, 3352, 3353, 3357, 3364, 3366, 3367, 3372, 3378, 3384, 3398, 3399, 3400, 3403, 3410, 3415, 3419, 3426, 3436, 3437, 3438, 3440, 3451, 3455, 3456, 3457, 3458, 3460, 3461, 3465, 3466, 3470, 3483, 3486, 3494, 3501, 3505, 3508, 3509, 3520, 3524] not in index'"
     ]
    }
   ],
   "source": [
    "# Ahora vamos a realizar un proceso de validación cruzada estratificada.\n",
    "cv = StratifiedKFold(n_splits=5)\n",
    "\n",
    "n_fold = 1\n",
    "for train_ix, test_ix in cv.split(X_train_strat, y_train_strat):\n",
    "    y_train_train = y_train[train_ix]\n",
    "    y_train_test = y_train[test_ix]\n",
    "    n_pos_traintrain_pct = np.sum(y_train_train) / len(y_train_train)\n",
    "    n_pos_traintest_pct = np.sum(y_train_test) / len(y_train_test)\n",
    "    print(f\"FOLD {n_fold}:\")\n",
    "    print(f\"Hay un {100 * n_pos_traintrain_pct:.1f} % de instancias positivas en train-train.\")\n",
    "    print(f\"Hay un {100 * n_pos_traintest_pct:.1f} % de instancias positivas en train-test.\")\n",
    "    n_fold += 1"
   ]
  }
 ],
 "metadata": {
  "kernelspec": {
   "display_name": "Python 3",
   "language": "python",
   "name": "python3"
  },
  "language_info": {
   "codemirror_mode": {
    "name": "ipython",
    "version": 3
   },
   "file_extension": ".py",
   "mimetype": "text/x-python",
   "name": "python",
   "nbconvert_exporter": "python",
   "pygments_lexer": "ipython3",
   "version": "3.10.6"
  },
  "orig_nbformat": 4
 },
 "nbformat": 4,
 "nbformat_minor": 2
}
