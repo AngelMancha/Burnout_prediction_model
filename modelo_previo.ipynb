{
 "cells": [
  {
   "attachments": {},
   "cell_type": "markdown",
   "metadata": {},
   "source": [
    "# Predicción del abandono (BURNOUT) de empleados"
   ]
  },
  {
   "attachments": {},
   "cell_type": "markdown",
   "metadata": {},
   "source": [
    "## Carga de los datos\n",
    "\n",
    "El primer paso a seguir es cargar los datos para poder trabajar sobre ellos y construir un modelo que prediga si un empleado va a abandonar la empresa."
   ]
  },
  {
   "cell_type": "code",
   "execution_count": 16,
   "metadata": {},
   "outputs": [],
   "source": [
    "import pandas as pd\n",
    "\n",
    "df = pd.read_pickle('attrition_available_12.pkl')\n",
    "#value_counts\n",
    "\n",
    "#jobINvolment = df['JobInvolvement']\n",
    "#print(jobINvolment.value_counts())"
   ]
  },
  {
   "attachments": {},
   "cell_type": "markdown",
   "metadata": {},
   "source": [
    "## Análisis exploratorio de datos\n",
    "\n",
    "Ver las primeras filas del dataframe para tener una idea de cómo están estructurados los datos."
   ]
  },
  {
   "cell_type": "code",
   "execution_count": 17,
   "metadata": {},
   "outputs": [
    {
     "data": {
      "text/html": [
       "<div>\n",
       "<style scoped>\n",
       "    .dataframe tbody tr th:only-of-type {\n",
       "        vertical-align: middle;\n",
       "    }\n",
       "\n",
       "    .dataframe tbody tr th {\n",
       "        vertical-align: top;\n",
       "    }\n",
       "\n",
       "    .dataframe thead th {\n",
       "        text-align: right;\n",
       "    }\n",
       "</style>\n",
       "<table border=\"1\" class=\"dataframe\">\n",
       "  <thead>\n",
       "    <tr style=\"text-align: right;\">\n",
       "      <th></th>\n",
       "      <th>hrs</th>\n",
       "      <th>absences</th>\n",
       "      <th>JobInvolvement</th>\n",
       "      <th>PerformanceRating</th>\n",
       "      <th>EnvironmentSatisfaction</th>\n",
       "      <th>JobSatisfaction</th>\n",
       "      <th>WorkLifeBalance</th>\n",
       "      <th>Age</th>\n",
       "      <th>Attrition</th>\n",
       "      <th>BusinessTravel</th>\n",
       "      <th>...</th>\n",
       "      <th>NumCompaniesWorked</th>\n",
       "      <th>Over18</th>\n",
       "      <th>PercentSalaryHike</th>\n",
       "      <th>StandardHours</th>\n",
       "      <th>StockOptionLevel</th>\n",
       "      <th>TotalWorkingYears</th>\n",
       "      <th>TrainingTimesLastYear</th>\n",
       "      <th>YearsAtCompany</th>\n",
       "      <th>YearsSinceLastPromotion</th>\n",
       "      <th>YearsWithCurrManager</th>\n",
       "    </tr>\n",
       "  </thead>\n",
       "  <tbody>\n",
       "    <tr>\n",
       "      <th>1</th>\n",
       "      <td>7.315971</td>\n",
       "      <td>13.0</td>\n",
       "      <td>2.0</td>\n",
       "      <td>NaN</td>\n",
       "      <td>3.0</td>\n",
       "      <td>2.0</td>\n",
       "      <td>4.0</td>\n",
       "      <td>31.0</td>\n",
       "      <td>Yes</td>\n",
       "      <td>Travel_Frequently</td>\n",
       "      <td>...</td>\n",
       "      <td>0.0</td>\n",
       "      <td>Y</td>\n",
       "      <td>NaN</td>\n",
       "      <td>8.0</td>\n",
       "      <td>1.0</td>\n",
       "      <td>6.0</td>\n",
       "      <td>3</td>\n",
       "      <td>NaN</td>\n",
       "      <td>1.0</td>\n",
       "      <td>4.0</td>\n",
       "    </tr>\n",
       "    <tr>\n",
       "      <th>6</th>\n",
       "      <td>NaN</td>\n",
       "      <td>17.0</td>\n",
       "      <td>3.0</td>\n",
       "      <td>NaN</td>\n",
       "      <td>1.0</td>\n",
       "      <td>3.0</td>\n",
       "      <td>1.0</td>\n",
       "      <td>28.0</td>\n",
       "      <td>Yes</td>\n",
       "      <td>Travel_Rarely</td>\n",
       "      <td>...</td>\n",
       "      <td>2.0</td>\n",
       "      <td>Y</td>\n",
       "      <td>NaN</td>\n",
       "      <td>8.0</td>\n",
       "      <td>1.0</td>\n",
       "      <td>5.0</td>\n",
       "      <td>2</td>\n",
       "      <td>0.0</td>\n",
       "      <td>NaN</td>\n",
       "      <td>0.0</td>\n",
       "    </tr>\n",
       "    <tr>\n",
       "      <th>13</th>\n",
       "      <td>NaN</td>\n",
       "      <td>14.0</td>\n",
       "      <td>2.0</td>\n",
       "      <td>3.0</td>\n",
       "      <td>1.0</td>\n",
       "      <td>2.0</td>\n",
       "      <td>2.0</td>\n",
       "      <td>47.0</td>\n",
       "      <td>Yes</td>\n",
       "      <td>Non-Travel</td>\n",
       "      <td>...</td>\n",
       "      <td>1.0</td>\n",
       "      <td>Y</td>\n",
       "      <td>11.0</td>\n",
       "      <td>NaN</td>\n",
       "      <td>2.0</td>\n",
       "      <td>10.0</td>\n",
       "      <td>4</td>\n",
       "      <td>10.0</td>\n",
       "      <td>9.0</td>\n",
       "      <td>9.0</td>\n",
       "    </tr>\n",
       "    <tr>\n",
       "      <th>28</th>\n",
       "      <td>10.713066</td>\n",
       "      <td>6.0</td>\n",
       "      <td>2.0</td>\n",
       "      <td>3.0</td>\n",
       "      <td>4.0</td>\n",
       "      <td>NaN</td>\n",
       "      <td>1.0</td>\n",
       "      <td>NaN</td>\n",
       "      <td>Yes</td>\n",
       "      <td>NaN</td>\n",
       "      <td>...</td>\n",
       "      <td>3.0</td>\n",
       "      <td>Y</td>\n",
       "      <td>14.0</td>\n",
       "      <td>8.0</td>\n",
       "      <td>1.0</td>\n",
       "      <td>19.0</td>\n",
       "      <td>2</td>\n",
       "      <td>1.0</td>\n",
       "      <td>0.0</td>\n",
       "      <td>NaN</td>\n",
       "    </tr>\n",
       "    <tr>\n",
       "      <th>30</th>\n",
       "      <td>9.662808</td>\n",
       "      <td>NaN</td>\n",
       "      <td>2.0</td>\n",
       "      <td>3.0</td>\n",
       "      <td>1.0</td>\n",
       "      <td>2.0</td>\n",
       "      <td>3.0</td>\n",
       "      <td>26.0</td>\n",
       "      <td>Yes</td>\n",
       "      <td>Travel_Rarely</td>\n",
       "      <td>...</td>\n",
       "      <td>2.0</td>\n",
       "      <td>Y</td>\n",
       "      <td>11.0</td>\n",
       "      <td>8.0</td>\n",
       "      <td>0.0</td>\n",
       "      <td>5.0</td>\n",
       "      <td>5</td>\n",
       "      <td>3.0</td>\n",
       "      <td>0.0</td>\n",
       "      <td>2.0</td>\n",
       "    </tr>\n",
       "  </tbody>\n",
       "</table>\n",
       "<p>5 rows × 31 columns</p>\n",
       "</div>"
      ],
      "text/plain": [
       "          hrs  absences  JobInvolvement  PerformanceRating   \n",
       "1    7.315971      13.0             2.0                NaN  \\\n",
       "6         NaN      17.0             3.0                NaN   \n",
       "13        NaN      14.0             2.0                3.0   \n",
       "28  10.713066       6.0             2.0                3.0   \n",
       "30   9.662808       NaN             2.0                3.0   \n",
       "\n",
       "    EnvironmentSatisfaction  JobSatisfaction  WorkLifeBalance   Age Attrition   \n",
       "1                       3.0              2.0              4.0  31.0       Yes  \\\n",
       "6                       1.0              3.0              1.0  28.0       Yes   \n",
       "13                      1.0              2.0              2.0  47.0       Yes   \n",
       "28                      4.0              NaN              1.0   NaN       Yes   \n",
       "30                      1.0              2.0              3.0  26.0       Yes   \n",
       "\n",
       "       BusinessTravel  ... NumCompaniesWorked  Over18  PercentSalaryHike   \n",
       "1   Travel_Frequently  ...                0.0       Y                NaN  \\\n",
       "6       Travel_Rarely  ...                2.0       Y                NaN   \n",
       "13         Non-Travel  ...                1.0       Y               11.0   \n",
       "28                NaN  ...                3.0       Y               14.0   \n",
       "30      Travel_Rarely  ...                2.0       Y               11.0   \n",
       "\n",
       "   StandardHours  StockOptionLevel  TotalWorkingYears TrainingTimesLastYear   \n",
       "1            8.0               1.0                6.0                     3  \\\n",
       "6            8.0               1.0                5.0                     2   \n",
       "13           NaN               2.0               10.0                     4   \n",
       "28           8.0               1.0               19.0                     2   \n",
       "30           8.0               0.0                5.0                     5   \n",
       "\n",
       "    YearsAtCompany YearsSinceLastPromotion YearsWithCurrManager  \n",
       "1              NaN                     1.0                  4.0  \n",
       "6              0.0                     NaN                  0.0  \n",
       "13            10.0                     9.0                  9.0  \n",
       "28             1.0                     0.0                  NaN  \n",
       "30             3.0                     0.0                  2.0  \n",
       "\n",
       "[5 rows x 31 columns]"
      ]
     },
     "execution_count": 17,
     "metadata": {},
     "output_type": "execute_result"
    }
   ],
   "source": [
    "df.head()"
   ]
  },
  {
   "attachments": {},
   "cell_type": "markdown",
   "metadata": {},
   "source": [
    "Debemos tener en cuenta que lo que queremos predecir es la columna '`attrition`', que mide si el empleado va a dejar el trabajo o no."
   ]
  },
  {
   "attachments": {},
   "cell_type": "markdown",
   "metadata": {},
   "source": [
    "Ver los tipos de datos de las columnas"
   ]
  },
  {
   "cell_type": "code",
   "execution_count": 18,
   "metadata": {},
   "outputs": [
    {
     "data": {
      "text/plain": [
       "hrs                        float64\n",
       "absences                   float64\n",
       "JobInvolvement             float64\n",
       "PerformanceRating          float64\n",
       "EnvironmentSatisfaction    float64\n",
       "JobSatisfaction            float64\n",
       "WorkLifeBalance            float64\n",
       "Age                        float64\n",
       "Attrition                   object\n",
       "BusinessTravel              object\n",
       "Department                  object\n",
       "DistanceFromHome             int64\n",
       "Education                  float64\n",
       "EducationField              object\n",
       "EmployeeCount              float64\n",
       "EmployeeID                 float64\n",
       "Gender                      object\n",
       "JobLevel                     int64\n",
       "JobRole                     object\n",
       "MaritalStatus               object\n",
       "MonthlyIncome              float64\n",
       "NumCompaniesWorked         float64\n",
       "Over18                      object\n",
       "PercentSalaryHike          float64\n",
       "StandardHours              float64\n",
       "StockOptionLevel           float64\n",
       "TotalWorkingYears          float64\n",
       "TrainingTimesLastYear        int64\n",
       "YearsAtCompany             float64\n",
       "YearsSinceLastPromotion    float64\n",
       "YearsWithCurrManager       float64\n",
       "dtype: object"
      ]
     },
     "execution_count": 18,
     "metadata": {},
     "output_type": "execute_result"
    }
   ],
   "source": [
    "df.dtypes"
   ]
  },
  {
   "attachments": {},
   "cell_type": "markdown",
   "metadata": {},
   "source": [
    "Contar el número de instancias y columnas"
   ]
  },
  {
   "cell_type": "code",
   "execution_count": 19,
   "metadata": {},
   "outputs": [
    {
     "name": "stdout",
     "output_type": "stream",
     "text": [
      "Número de instancias:  4410\n",
      "Número de columnas:  31\n"
     ]
    }
   ],
   "source": [
    "num_instances = len(df)\n",
    "num_columns = len(df.columns)\n",
    "\n",
    "print(\"Número de instancias: \", num_instances)\n",
    "print(\"Número de columnas: \", num_columns)"
   ]
  },
  {
   "attachments": {},
   "cell_type": "markdown",
   "metadata": {},
   "source": [
    "Ver si hay columnas constantes"
   ]
  },
  {
   "cell_type": "code",
   "execution_count": 20,
   "metadata": {},
   "outputs": [
    {
     "name": "stdout",
     "output_type": "stream",
     "text": [
      "Columnas constantes:  ['EmployeeCount', 'Over18', 'StandardHours']\n"
     ]
    }
   ],
   "source": [
    "const_cols = [col for col in df.columns if df[col].nunique() == 1]\n",
    "print(\"Columnas constantes: \", const_cols)\n"
   ]
  },
  {
   "attachments": {},
   "cell_type": "markdown",
   "metadata": {},
   "source": [
    "Hemos visto que las columnas constantes son las siguientes: *EmployeeCount, Over18, StandardHours*. Ya que estas columnas no van a aportar ninguna información útil al modelo, debemos eliminarlas. Ahora en vez de 31 columnas, tendremos 28."
   ]
  },
  {
   "cell_type": "code",
   "execution_count": 21,
   "metadata": {},
   "outputs": [],
   "source": [
    "df = df.drop(const_cols, axis=1)"
   ]
  },
  {
   "attachments": {},
   "cell_type": "markdown",
   "metadata": {},
   "source": [
    "Además, es conveniente quitar la columna 'EmployeeID' ya que es una columna que no es constante pero que no va a aportar ningún valor significativo al modelo, ya que es único para cada trabajador."
   ]
  },
  {
   "cell_type": "code",
   "execution_count": 22,
   "metadata": {},
   "outputs": [],
   "source": [
    "df = df.drop('EmployeeID', axis=1)"
   ]
  },
  {
   "attachments": {},
   "cell_type": "markdown",
   "metadata": {},
   "source": [
    "Volvemos a mirar el numero de instancias y columnas"
   ]
  },
  {
   "cell_type": "code",
   "execution_count": 23,
   "metadata": {},
   "outputs": [
    {
     "name": "stdout",
     "output_type": "stream",
     "text": [
      "Número de instancias:  4410\n",
      "Número de columnas:  27\n"
     ]
    }
   ],
   "source": [
    "num_instances = len(df)\n",
    "num_columns = len(df.columns)\n",
    "\n",
    "print(\"Número de instancias: \", num_instances)\n",
    "print(\"Número de columnas: \", num_columns)"
   ]
  },
  {
   "attachments": {},
   "cell_type": "markdown",
   "metadata": {},
   "source": [
    "Ver los valores de las columnas constantes"
   ]
  },
  {
   "cell_type": "code",
   "execution_count": 24,
   "metadata": {},
   "outputs": [
    {
     "name": "stdout",
     "output_type": "stream",
     "text": [
      "Proporción de valores faltantes: \n",
      "hrs                        0.211791\n",
      "absences                   0.213152\n",
      "JobInvolvement             0.169388\n",
      "PerformanceRating          0.193197\n",
      "EnvironmentSatisfaction    0.209524\n",
      "JobSatisfaction            0.170522\n",
      "WorkLifeBalance            0.008617\n",
      "Age                        0.211791\n",
      "Attrition                  0.000000\n",
      "BusinessTravel             0.172336\n",
      "Department                 0.186395\n",
      "DistanceFromHome           0.000000\n",
      "Education                  0.218594\n",
      "EducationField             0.180952\n",
      "Gender                     0.200454\n",
      "JobLevel                   0.000000\n",
      "JobRole                    0.216780\n",
      "MaritalStatus              0.202041\n",
      "MonthlyIncome              0.192517\n",
      "NumCompaniesWorked         0.166440\n",
      "PercentSalaryHike          0.209524\n",
      "StockOptionLevel           0.170748\n",
      "TotalWorkingYears          0.186848\n",
      "TrainingTimesLastYear      0.000000\n",
      "YearsAtCompany             0.172336\n",
      "YearsSinceLastPromotion    0.183447\n",
      "YearsWithCurrManager       0.187075\n",
      "dtype: float64\n"
     ]
    }
   ],
   "source": [
    "missing_vals = df.isnull().sum() / len(df)\n",
    "print(\"Proporción de valores faltantes: \")\n",
    "print(missing_vals)"
   ]
  },
  {
   "attachments": {},
   "cell_type": "markdown",
   "metadata": {},
   "source": [
    "---\n",
    "## Preprocesamiento de los datos"
   ]
  },
  {
   "attachments": {},
   "cell_type": "markdown",
   "metadata": {},
   "source": [
    "En esta sección realizaremos el procesamiento de los valores faltantes y la transformación de los datos categóricos."
   ]
  },
  {
   "attachments": {},
   "cell_type": "markdown",
   "metadata": {},
   "source": [
    "Parae ello, primero realizaremos la división de los datos en un conjunto de entrenamiento y test"
   ]
  },
  {
   "cell_type": "code",
   "execution_count": 25,
   "metadata": {},
   "outputs": [],
   "source": [
    "from sklearn.model_selection import train_test_split\n",
    "from sklearn import set_config\n",
    "\n",
    "\n",
    "X = df.drop('Attrition', axis=1) \n",
    "y = df['Attrition']\n",
    "\n",
    "\n",
    "X_train, X_test, y_train, y_test = train_test_split(X, y, test_size = 1/3, random_state=0, stratify=y)\n",
    "set_config(transform_output=\"pandas\")\n"
   ]
  },
  {
   "attachments": {},
   "cell_type": "markdown",
   "metadata": {},
   "source": [
    "A continuación, se procederá a transformar los datos"
   ]
  },
  {
   "cell_type": "code",
   "execution_count": 26,
   "metadata": {},
   "outputs": [
    {
     "name": "stdout",
     "output_type": "stream",
     "text": [
      "Columnas numéricas: ['hrs', 'absences', 'JobInvolvement', 'PerformanceRating', 'EnvironmentSatisfaction', 'JobSatisfaction', 'WorkLifeBalance', 'Age', 'DistanceFromHome', 'Education', 'JobLevel', 'MonthlyIncome', 'NumCompaniesWorked', 'PercentSalaryHike', 'StockOptionLevel', 'TotalWorkingYears', 'TrainingTimesLastYear', 'YearsAtCompany', 'YearsSinceLastPromotion', 'YearsWithCurrManager']\n",
      "Columnas categóricas: ['BusinessTravel', 'Department', 'EducationField', 'Gender', 'JobRole', 'MaritalStatus']\n"
     ]
    },
    {
     "data": {
      "text/html": [
       "<div>\n",
       "<style scoped>\n",
       "    .dataframe tbody tr th:only-of-type {\n",
       "        vertical-align: middle;\n",
       "    }\n",
       "\n",
       "    .dataframe tbody tr th {\n",
       "        vertical-align: top;\n",
       "    }\n",
       "\n",
       "    .dataframe thead th {\n",
       "        text-align: right;\n",
       "    }\n",
       "</style>\n",
       "<table border=\"1\" class=\"dataframe\">\n",
       "  <thead>\n",
       "    <tr style=\"text-align: right;\">\n",
       "      <th></th>\n",
       "      <th>num__hrs</th>\n",
       "      <th>num__absences</th>\n",
       "      <th>num__JobInvolvement</th>\n",
       "      <th>num__PerformanceRating</th>\n",
       "      <th>num__EnvironmentSatisfaction</th>\n",
       "      <th>num__JobSatisfaction</th>\n",
       "      <th>num__WorkLifeBalance</th>\n",
       "      <th>num__Age</th>\n",
       "      <th>num__DistanceFromHome</th>\n",
       "      <th>num__Education</th>\n",
       "      <th>...</th>\n",
       "      <th>cat__JobRole_Laboratory Technician</th>\n",
       "      <th>cat__JobRole_Manager</th>\n",
       "      <th>cat__JobRole_Manufacturing Director</th>\n",
       "      <th>cat__JobRole_Research Director</th>\n",
       "      <th>cat__JobRole_Research Scientist</th>\n",
       "      <th>cat__JobRole_Sales Executive</th>\n",
       "      <th>cat__JobRole_Sales Representative</th>\n",
       "      <th>cat__MaritalStatus_Divorced</th>\n",
       "      <th>cat__MaritalStatus_Married</th>\n",
       "      <th>cat__MaritalStatus_Single</th>\n",
       "    </tr>\n",
       "  </thead>\n",
       "  <tbody>\n",
       "    <tr>\n",
       "      <th>473</th>\n",
       "      <td>8.047625</td>\n",
       "      <td>8.000000</td>\n",
       "      <td>3.0</td>\n",
       "      <td>3.0</td>\n",
       "      <td>4.0</td>\n",
       "      <td>1.000000</td>\n",
       "      <td>3.0</td>\n",
       "      <td>20.000000</td>\n",
       "      <td>2.0</td>\n",
       "      <td>2.00000</td>\n",
       "      <td>...</td>\n",
       "      <td>0.0</td>\n",
       "      <td>0.0</td>\n",
       "      <td>0.0</td>\n",
       "      <td>0.0</td>\n",
       "      <td>1.0</td>\n",
       "      <td>0.0</td>\n",
       "      <td>0.0</td>\n",
       "      <td>0.0</td>\n",
       "      <td>0.0</td>\n",
       "      <td>1.0</td>\n",
       "    </tr>\n",
       "    <tr>\n",
       "      <th>66</th>\n",
       "      <td>5.762560</td>\n",
       "      <td>17.000000</td>\n",
       "      <td>3.0</td>\n",
       "      <td>3.0</td>\n",
       "      <td>4.0</td>\n",
       "      <td>4.000000</td>\n",
       "      <td>3.0</td>\n",
       "      <td>30.000000</td>\n",
       "      <td>13.0</td>\n",
       "      <td>3.00000</td>\n",
       "      <td>...</td>\n",
       "      <td>0.0</td>\n",
       "      <td>0.0</td>\n",
       "      <td>0.0</td>\n",
       "      <td>1.0</td>\n",
       "      <td>0.0</td>\n",
       "      <td>0.0</td>\n",
       "      <td>0.0</td>\n",
       "      <td>0.0</td>\n",
       "      <td>1.0</td>\n",
       "      <td>0.0</td>\n",
       "    </tr>\n",
       "    <tr>\n",
       "      <th>1256</th>\n",
       "      <td>6.269080</td>\n",
       "      <td>20.000000</td>\n",
       "      <td>1.0</td>\n",
       "      <td>3.0</td>\n",
       "      <td>3.0</td>\n",
       "      <td>2.719248</td>\n",
       "      <td>3.0</td>\n",
       "      <td>30.000000</td>\n",
       "      <td>1.0</td>\n",
       "      <td>2.89895</td>\n",
       "      <td>...</td>\n",
       "      <td>0.0</td>\n",
       "      <td>0.0</td>\n",
       "      <td>0.0</td>\n",
       "      <td>0.0</td>\n",
       "      <td>1.0</td>\n",
       "      <td>0.0</td>\n",
       "      <td>0.0</td>\n",
       "      <td>0.0</td>\n",
       "      <td>0.0</td>\n",
       "      <td>1.0</td>\n",
       "    </tr>\n",
       "    <tr>\n",
       "      <th>87</th>\n",
       "      <td>7.302132</td>\n",
       "      <td>12.000000</td>\n",
       "      <td>2.0</td>\n",
       "      <td>4.0</td>\n",
       "      <td>3.0</td>\n",
       "      <td>4.000000</td>\n",
       "      <td>2.0</td>\n",
       "      <td>23.000000</td>\n",
       "      <td>20.0</td>\n",
       "      <td>4.00000</td>\n",
       "      <td>...</td>\n",
       "      <td>0.0</td>\n",
       "      <td>0.0</td>\n",
       "      <td>1.0</td>\n",
       "      <td>0.0</td>\n",
       "      <td>0.0</td>\n",
       "      <td>0.0</td>\n",
       "      <td>0.0</td>\n",
       "      <td>1.0</td>\n",
       "      <td>0.0</td>\n",
       "      <td>0.0</td>\n",
       "    </tr>\n",
       "    <tr>\n",
       "      <th>703</th>\n",
       "      <td>8.932334</td>\n",
       "      <td>12.617455</td>\n",
       "      <td>2.0</td>\n",
       "      <td>3.0</td>\n",
       "      <td>3.0</td>\n",
       "      <td>3.000000</td>\n",
       "      <td>3.0</td>\n",
       "      <td>36.604003</td>\n",
       "      <td>1.0</td>\n",
       "      <td>2.00000</td>\n",
       "      <td>...</td>\n",
       "      <td>0.0</td>\n",
       "      <td>0.0</td>\n",
       "      <td>0.0</td>\n",
       "      <td>0.0</td>\n",
       "      <td>1.0</td>\n",
       "      <td>0.0</td>\n",
       "      <td>0.0</td>\n",
       "      <td>0.0</td>\n",
       "      <td>0.0</td>\n",
       "      <td>1.0</td>\n",
       "    </tr>\n",
       "  </tbody>\n",
       "</table>\n",
       "<p>5 rows × 46 columns</p>\n",
       "</div>"
      ],
      "text/plain": [
       "      num__hrs  num__absences  num__JobInvolvement  num__PerformanceRating   \n",
       "473   8.047625       8.000000                  3.0                     3.0  \\\n",
       "66    5.762560      17.000000                  3.0                     3.0   \n",
       "1256  6.269080      20.000000                  1.0                     3.0   \n",
       "87    7.302132      12.000000                  2.0                     4.0   \n",
       "703   8.932334      12.617455                  2.0                     3.0   \n",
       "\n",
       "      num__EnvironmentSatisfaction  num__JobSatisfaction   \n",
       "473                            4.0              1.000000  \\\n",
       "66                             4.0              4.000000   \n",
       "1256                           3.0              2.719248   \n",
       "87                             3.0              4.000000   \n",
       "703                            3.0              3.000000   \n",
       "\n",
       "      num__WorkLifeBalance   num__Age  num__DistanceFromHome  num__Education   \n",
       "473                    3.0  20.000000                    2.0         2.00000  \\\n",
       "66                     3.0  30.000000                   13.0         3.00000   \n",
       "1256                   3.0  30.000000                    1.0         2.89895   \n",
       "87                     2.0  23.000000                   20.0         4.00000   \n",
       "703                    3.0  36.604003                    1.0         2.00000   \n",
       "\n",
       "      ...  cat__JobRole_Laboratory Technician  cat__JobRole_Manager   \n",
       "473   ...                                 0.0                   0.0  \\\n",
       "66    ...                                 0.0                   0.0   \n",
       "1256  ...                                 0.0                   0.0   \n",
       "87    ...                                 0.0                   0.0   \n",
       "703   ...                                 0.0                   0.0   \n",
       "\n",
       "      cat__JobRole_Manufacturing Director  cat__JobRole_Research Director   \n",
       "473                                   0.0                             0.0  \\\n",
       "66                                    0.0                             1.0   \n",
       "1256                                  0.0                             0.0   \n",
       "87                                    1.0                             0.0   \n",
       "703                                   0.0                             0.0   \n",
       "\n",
       "      cat__JobRole_Research Scientist  cat__JobRole_Sales Executive   \n",
       "473                               1.0                           0.0  \\\n",
       "66                                0.0                           0.0   \n",
       "1256                              1.0                           0.0   \n",
       "87                                0.0                           0.0   \n",
       "703                               1.0                           0.0   \n",
       "\n",
       "      cat__JobRole_Sales Representative  cat__MaritalStatus_Divorced   \n",
       "473                                 0.0                          0.0  \\\n",
       "66                                  0.0                          0.0   \n",
       "1256                                0.0                          0.0   \n",
       "87                                  0.0                          1.0   \n",
       "703                                 0.0                          0.0   \n",
       "\n",
       "      cat__MaritalStatus_Married  cat__MaritalStatus_Single  \n",
       "473                          0.0                        1.0  \n",
       "66                           1.0                        0.0  \n",
       "1256                         0.0                        1.0  \n",
       "87                           0.0                        0.0  \n",
       "703                          0.0                        1.0  \n",
       "\n",
       "[5 rows x 46 columns]"
      ]
     },
     "execution_count": 26,
     "metadata": {},
     "output_type": "execute_result"
    }
   ],
   "source": [
    "# Primero importamos las librerías necesarias\n",
    "from sklearn.compose import ColumnTransformer\n",
    "import numpy as np\n",
    "from sklearn.impute import SimpleImputer\n",
    "from sklearn.pipeline import Pipeline\n",
    "from sklearn.preprocessing import OneHotEncoder\n",
    "\n",
    "\n",
    "# Definimos las columnas que son numéricas y las que son categóricas\n",
    "numerical_features = X.select_dtypes(include=np.number).columns\n",
    "categorical_features = X.select_dtypes(include='object').columns\n",
    "\n",
    "# Imprimimos cuñales de estas columnas son numéricas y cuáles categóricas\n",
    "print(f\"Columnas numéricas: {list(numerical_features)}\")\n",
    "print(f\"Columnas categóricas: {list(categorical_features)}\")\n",
    "\n",
    "\n",
    "# Definimos las transformaciones que se aplicarán a las columnas numéricas\n",
    "numeric_transformer = Pipeline(steps=[\n",
    "    ('imputer', SimpleImputer(strategy='mean'))\n",
    "])\n",
    "\n",
    "# Definimos las transformaciones que se aplicarán a las columnas categóricas\n",
    "categorical_transformer = Pipeline(steps=[\n",
    "    ('imputer', SimpleImputer(strategy='most_frequent')),\n",
    "    ('onehot', OneHotEncoder(categories='auto', sparse_output=False, handle_unknown='ignore'))\n",
    "])\n",
    "\n",
    "\n",
    "# Pre-procesador \"global\"\n",
    "processor = ColumnTransformer(\n",
    "    transformers=[\n",
    "        ('num', numeric_transformer, numerical_features),\n",
    "        ('cat', categorical_transformer, categorical_features)\n",
    "    ]\n",
    ")\n",
    "\n",
    "\n",
    "processor.fit(X_train)\n",
    "# Realizamos la transformación.\n",
    "X_train_processed = processor.fit_transform(X_train)\n",
    "X_test_processed = processor.transform(X_test)\n",
    "X_train_processed.head()\n"
   ]
  },
  {
   "attachments": {},
   "cell_type": "markdown",
   "metadata": {},
   "source": [
    "Comprobamos si se ha hecho bien y no hay missing values. Como se puede comprobar, se han transformado los datos de manera satisfactoria y ya no hay missing values y todos los datos se han convertido a numéricos mediante el uso de la técnica `OneHotEnconding`."
   ]
  },
  {
   "cell_type": "code",
   "execution_count": 27,
   "metadata": {},
   "outputs": [
    {
     "name": "stdout",
     "output_type": "stream",
     "text": [
      "Numero de valores valtantes de entrenamiento: num__hrs                                  0\n",
      "num__absences                             0\n",
      "num__JobInvolvement                       0\n",
      "num__PerformanceRating                    0\n",
      "num__EnvironmentSatisfaction              0\n",
      "num__JobSatisfaction                      0\n",
      "num__WorkLifeBalance                      0\n",
      "num__Age                                  0\n",
      "num__DistanceFromHome                     0\n",
      "num__Education                            0\n",
      "num__JobLevel                             0\n",
      "num__MonthlyIncome                        0\n",
      "num__NumCompaniesWorked                   0\n",
      "num__PercentSalaryHike                    0\n",
      "num__StockOptionLevel                     0\n",
      "num__TotalWorkingYears                    0\n",
      "num__TrainingTimesLastYear                0\n",
      "num__YearsAtCompany                       0\n",
      "num__YearsSinceLastPromotion              0\n",
      "num__YearsWithCurrManager                 0\n",
      "cat__BusinessTravel_Non-Travel            0\n",
      "cat__BusinessTravel_Travel_Frequently     0\n",
      "cat__BusinessTravel_Travel_Rarely         0\n",
      "cat__Department_Human Resources           0\n",
      "cat__Department_Research & Development    0\n",
      "cat__Department_Sales                     0\n",
      "cat__EducationField_Human Resources       0\n",
      "cat__EducationField_Life Sciences         0\n",
      "cat__EducationField_Marketing             0\n",
      "cat__EducationField_Medical               0\n",
      "cat__EducationField_Other                 0\n",
      "cat__EducationField_Technical Degree      0\n",
      "cat__Gender_Female                        0\n",
      "cat__Gender_Male                          0\n",
      "cat__JobRole_Healthcare Representative    0\n",
      "cat__JobRole_Human Resources              0\n",
      "cat__JobRole_Laboratory Technician        0\n",
      "cat__JobRole_Manager                      0\n",
      "cat__JobRole_Manufacturing Director       0\n",
      "cat__JobRole_Research Director            0\n",
      "cat__JobRole_Research Scientist           0\n",
      "cat__JobRole_Sales Executive              0\n",
      "cat__JobRole_Sales Representative         0\n",
      "cat__MaritalStatus_Divorced               0\n",
      "cat__MaritalStatus_Married                0\n",
      "cat__MaritalStatus_Single                 0\n",
      "dtype: int64\n",
      "Numero de valores valtantes de test: num__hrs                                  0\n",
      "num__absences                             0\n",
      "num__JobInvolvement                       0\n",
      "num__PerformanceRating                    0\n",
      "num__EnvironmentSatisfaction              0\n",
      "num__JobSatisfaction                      0\n",
      "num__WorkLifeBalance                      0\n",
      "num__Age                                  0\n",
      "num__DistanceFromHome                     0\n",
      "num__Education                            0\n",
      "num__JobLevel                             0\n",
      "num__MonthlyIncome                        0\n",
      "num__NumCompaniesWorked                   0\n",
      "num__PercentSalaryHike                    0\n",
      "num__StockOptionLevel                     0\n",
      "num__TotalWorkingYears                    0\n",
      "num__TrainingTimesLastYear                0\n",
      "num__YearsAtCompany                       0\n",
      "num__YearsSinceLastPromotion              0\n",
      "num__YearsWithCurrManager                 0\n",
      "cat__BusinessTravel_Non-Travel            0\n",
      "cat__BusinessTravel_Travel_Frequently     0\n",
      "cat__BusinessTravel_Travel_Rarely         0\n",
      "cat__Department_Human Resources           0\n",
      "cat__Department_Research & Development    0\n",
      "cat__Department_Sales                     0\n",
      "cat__EducationField_Human Resources       0\n",
      "cat__EducationField_Life Sciences         0\n",
      "cat__EducationField_Marketing             0\n",
      "cat__EducationField_Medical               0\n",
      "cat__EducationField_Other                 0\n",
      "cat__EducationField_Technical Degree      0\n",
      "cat__Gender_Female                        0\n",
      "cat__Gender_Male                          0\n",
      "cat__JobRole_Healthcare Representative    0\n",
      "cat__JobRole_Human Resources              0\n",
      "cat__JobRole_Laboratory Technician        0\n",
      "cat__JobRole_Manager                      0\n",
      "cat__JobRole_Manufacturing Director       0\n",
      "cat__JobRole_Research Director            0\n",
      "cat__JobRole_Research Scientist           0\n",
      "cat__JobRole_Sales Executive              0\n",
      "cat__JobRole_Sales Representative         0\n",
      "cat__MaritalStatus_Divorced               0\n",
      "cat__MaritalStatus_Married                0\n",
      "cat__MaritalStatus_Single                 0\n",
      "dtype: int64\n"
     ]
    }
   ],
   "source": [
    "print(f\"Numero de valores valtantes de entrenamiento: {np.isnan(X_train_processed).sum()}\")\n",
    "print(f\"Numero de valores valtantes de test: {np.isnan(X_test_processed).sum()}\")"
   ]
  },
  {
   "attachments": {},
   "cell_type": "markdown",
   "metadata": {},
   "source": [
    "---\n",
    "## Balanceamiento de la clase   "
   ]
  },
  {
   "attachments": {},
   "cell_type": "markdown",
   "metadata": {},
   "source": [
    "Para saber si el conjunto de datos está desbalanceado, primeramente contaremos el número de observaciones en cada clase de la variable objetivo"
   ]
  },
  {
   "cell_type": "code",
   "execution_count": 28,
   "metadata": {},
   "outputs": [
    {
     "name": "stdout",
     "output_type": "stream",
     "text": [
      "Attrition\n",
      "No     3699\n",
      "Yes     711\n",
      "Name: count, dtype: int64\n"
     ]
    }
   ],
   "source": [
    "# Contar el número de observaciones en cada clase de la variable objetivo\n",
    "counts = df['Attrition'].value_counts()\n",
    "\n",
    "print(counts)"
   ]
  },
  {
   "cell_type": "code",
   "execution_count": 29,
   "metadata": {},
   "outputs": [
    {
     "data": {
      "image/png": "[encoded data removed]",
      "text/plain": [
       "<Figure size 640x480 with 1 Axes>"
      ]
     },
     "metadata": {},
     "output_type": "display_data"
    }
   ],
   "source": [
    "import matplotlib.pyplot as plt\n",
    "\n",
    "# Crear un histograma de la variable objetivo\n",
    "plt.hist(df['Attrition'])\n",
    "plt.show()\n"
   ]
  },
  {
   "attachments": {},
   "cell_type": "markdown",
   "metadata": {},
   "source": [
    "Tal y como se muestra en el gráfico, hay una mayor proporción de `No` que de `Yes`, por lo que estamos ante un problema desbalanceado. Sin embargo, para estudiarlo más en profundidad, calculamos la proporción de observaciones en cada conjunto de entrenamiento y test."
   ]
  },
  {
   "cell_type": "code",
   "execution_count": 30,
   "metadata": {},
   "outputs": [],
   "source": [
    "N_SAMPLES_NEG = 3699\n",
    "N_SAMPLES_POS = 711"
   ]
  },
  {
   "cell_type": "code",
   "execution_count": 31,
   "metadata": {},
   "outputs": [
    {
     "name": "stdout",
     "output_type": "stream",
     "text": [
      "Hay un 16.2 % de instancias positivas en train.\n",
      "Hay un 16.1 % de instancias positivas en test.\n",
      "Hay un 16.1 % de instancias positivas en total.\n"
     ]
    }
   ],
   "source": [
    "from sklearn.model_selection import train_test_split, StratifiedKFold\n",
    "import numpy as np\n",
    "# Vamos a comenzar realizando una división train/test \"normal\".\n",
    "X_train_no_strat, X_test_no_strat, y_train_no_strat, y_test_no_strat = train_test_split(X, y, test_size=1/3)\n",
    "\n",
    "\n",
    "# Comprobemos ahora la distribución de las clases.\n",
    "n_pos_pct = N_SAMPLES_POS / (N_SAMPLES_POS + N_SAMPLES_NEG)\n",
    "n_pos_train_pct = np.sum(y_train_no_strat==\"Yes\") / len(y_train_no_strat)\n",
    "n_pos_test_pct = np.sum(y_test_no_strat==\"Yes\") / len(y_test_no_strat)\n",
    "\n",
    "print(f\"Hay un {100 * n_pos_train_pct:.1f} % de instancias positivas en train.\")\n",
    "print(f\"Hay un {100 * n_pos_test_pct:.1f} % de instancias positivas en test.\")\n",
    "print(f\"Hay un {100 * n_pos_pct:.1f} % de instancias positivas en total.\")"
   ]
  },
  {
   "attachments": {},
   "cell_type": "markdown",
   "metadata": {},
   "source": [
    "Basándonos en los resultados obtenidos, podemos afirmar que los datos están desbalanceados. Al analizar la proporción de instancias positivas en el conjunto de train y test, observamos que esta proporción es de alrededor del 16%, lo que significa que la clase minoritaria está subrepresentada, por lo que procedemos a hacer una `división estratificada`\n"
   ]
  },
  {
   "cell_type": "code",
   "execution_count": 32,
   "metadata": {},
   "outputs": [
    {
     "name": "stdout",
     "output_type": "stream",
     "text": [
      "Hay un 16.1 % de instancias positivas en train.\n",
      "Hay un 16.1 % de instancias positivas en test.\n",
      "Hay un 16.1 % de instancias positivas en total.\n"
     ]
    }
   ],
   "source": [
    "\n",
    "# Comprobemos ahora la distribución de las clases.\n",
    "n_pos_pct = N_SAMPLES_POS / (N_SAMPLES_POS + N_SAMPLES_NEG)\n",
    "n_pos_train_pct = np.sum(y_train==\"Yes\") / len(y_train)\n",
    "n_pos_test_pct = np.sum(y_test==\"Yes\") / len(y_test)\n",
    "\n",
    "print(f\"Hay un {100 * n_pos_train_pct:.1f} % de instancias positivas en train.\")\n",
    "print(f\"Hay un {100 * n_pos_test_pct:.1f} % de instancias positivas en test.\")\n",
    "print(f\"Hay un {100 * n_pos_pct:.1f} % de instancias positivas en total.\")"
   ]
  },
  {
   "attachments": {},
   "cell_type": "markdown",
   "metadata": {},
   "source": [
    "Por lo tanto, se trata de un problema de clasificación binaria ya que el objetivo es predecir si los trabajadores abandonarán su puesto de trabajo o no, es decir, la variable de salida se trata de una variable categórica (*si* o *no*)"
   ]
  },
  {
   "attachments": {},
   "cell_type": "markdown",
   "metadata": {},
   "source": [
    "---\n",
    "# **Evaluación de modelos**\n",
    "\n",
    "Los modelos que se van a utilizar son: `LogisticRegression`, `HistGradientBoosting` y `XGBoosting`. Además, las métricas para la evaluación de estos son los siguientes.\n",
    "\n",
    "* ``f1_score``: combina la precisión y la exhaustividad en una sola métrica para evaluar la calidad de un modelo de clasificación.\n",
    "* ``balanced_accuracy``: una métrica de evaluación que tiene en cuenta el desequilibrio de clases en un conjunto de datos.\n",
    "* ``confusion_matrix``: una tabla que muestra el número de verdaderos positivos, verdaderos negativos, falsos positivos y falsos negativos de un modelo de clasificación.\n",
    "\n",
    "El objetivo tras esta evaluación es predecir la cantidad de gente que experimenta el ``Burnout` y dadas unas características predecir si se van a ir o no de la empresa y ver qué método es el más adecuado.\n",
    "\n",
    "## Dummy classifier"
   ]
  },
  {
   "attachments": {},
   "cell_type": "markdown",
   "metadata": {},
   "source": [
    "Antes de pasar a evaluar los modelos adecuados, hacemos un ``DummyClassifier`` para partir de los peores datos que se pueden obtener de f2score, balanced accuracy y matriz de confusión."
   ]
  },
  {
   "cell_type": "code",
   "execution_count": 33,
   "metadata": {},
   "outputs": [],
   "source": [
    "from sklearn.dummy import DummyClassifier\n",
    "\n",
    "\n",
    "\n",
    "\n",
    "# Crear el dummy classifier\n",
    "dummy = DummyClassifier(strategy='most_frequent')\n",
    "dummy.fit(X_train_processed, y_train)\n",
    "\n",
    "# Realizar predicciones en los datos de prueba\n",
    "y_pred = dummy.predict(X_test_processed)\n",
    "\n",
    "# Calcular las métricas de clasificación\n"
   ]
  },
  {
   "cell_type": "code",
   "execution_count": 34,
   "metadata": {},
   "outputs": [
    {
     "name": "stdout",
     "output_type": "stream",
     "text": [
      "##### F1 ####\n",
      "0.0\n",
      "##### BALANCED ACCURACY ####\n",
      "0.5\n",
      "##### CONFUSION MATRIX ####\n",
      "[[1233    0]\n",
      " [ 237    0]]\n"
     ]
    }
   ],
   "source": [
    "from sklearn.metrics import f1_score, balanced_accuracy_score, confusion_matrix\n",
    "print(\"##### F1 ####\")\n",
    "print(f1_score(y_test, y_pred, average='binary', pos_label='Yes'))\n",
    "print(\"##### BALANCED ACCURACY ####\")\n",
    "print(balanced_accuracy_score(y_test, y_pred))\n",
    "print(\"##### CONFUSION MATRIX ####\")\n",
    "print(confusion_matrix(y_test, y_pred))\n",
    "\n",
    "\n"
   ]
  },
  {
   "attachments": {},
   "cell_type": "markdown",
   "metadata": {},
   "source": [
    "Como era de esperar, la métrica de balanced accurary da como resultado el peor valor posible dentro de los valores aceptados, es decir, la media. En cuanto al F1_score, debido a que el F1 score está predicido por un dummy classifier, puede indicar que el conjunto de datos es fácil de clasificar. Sin embargo es importante analizar otras métricas para obtener una evaluación más completa del desempeño del modelo, por lo que además se utilizan más métricas como confusion_matrix, balanced_accurary..."
   ]
  },
  {
   "attachments": {},
   "cell_type": "markdown",
   "metadata": {},
   "source": [
    "## Método base: Logistic Regression"
   ]
  },
  {
   "attachments": {},
   "cell_type": "markdown",
   "metadata": {},
   "source": [
    "El método de `Regresión Logística` se utiliza para predecir la probabilidad de pertenencia a una de dos clases posibles, en este caso sería *Yes* o *No* de la columna que queremos predecir (Attrition). El modelo de regresión logística se ajusta a los datos de entrenamiento mediante la minimización de una función de costo que mide la discrepancia entre las probabilidades predichas por el modelo y las etiquetas reales de los datos de entrenamiento. Una vez que el modelo se ha ajustado a los datos de entrenamiento, se puede utilizar para hacer predicciones sobre datos nuevos o no vistos anteriormente.\n"
   ]
  },
  {
   "cell_type": "code",
   "execution_count": 72,
   "metadata": {},
   "outputs": [
    {
     "name": "stdout",
     "output_type": "stream",
     "text": [
      "##### F1 ####\n",
      "0.4260515603799186\n",
      "##### BALANCED ACCURACY ####\n",
      "0.6921319823010667\n",
      "##### CONFUSION MATRIX ####\n",
      "[[890 343]\n",
      " [ 80 157]]\n"
     ]
    }
   ],
   "source": [
    "from sklearn.metrics import f1_score, balanced_accuracy_score, confusion_matrix\n",
    "from sklearn.linear_model import LogisticRegression\n",
    "from sklearn.preprocessing import StandardScaler\n",
    "\n",
    "# Normalizar los datos de entrenamiento y prueba\n",
    "scaler = StandardScaler()\n",
    "X_train_scaled = scaler.fit_transform(X_train_processed)\n",
    "X_test_scaled = scaler.transform(X_test_processed)\n",
    "\n",
    "# Entrenar el modelo de regresión logística\n",
    "logreg = LogisticRegression(class_weight='balanced')\n",
    "logreg.fit(X_train_scaled, y_train)\n",
    "\n",
    "# Realizar predicciones en los datos de prueba\n",
    "y_pred = logreg.predict(X_test_scaled)\n",
    "\n",
    "# Calcular las métricas de clasificación\n",
    "print(\"##### F1 ####\")\n",
    "print(f1_score(y_test, y_pred, average='binary', pos_label='Yes'))\n",
    "print(\"##### BALANCED ACCURACY ####\")\n",
    "print(balanced_accuracy_score(y_test, y_pred))\n",
    "print(\"##### CONFUSION MATRIX ####\")\n",
    "print(confusion_matrix(y_test, y_pred))\n"
   ]
  },
  {
   "attachments": {},
   "cell_type": "markdown",
   "metadata": {},
   "source": [
    "Como se puede apreciar, los resultados obtenidos son notablemente mejores que en los obtenidos con el Dummy. Sin embargo, estos datos seguramente puedan mejorarse de forma significativa, ya que la cantidad de datos realmente positivos clasificados como negativos es relativamente alta, y en este problema es interesante evaluar la cantidad de gente que sí quiere irse de la empresa."
   ]
  },
  {
   "attachments": {},
   "cell_type": "markdown",
   "metadata": {},
   "source": [
    "## Método avanzado: Histogram Gradient Boosting"
   ]
  },
  {
   "attachments": {},
   "cell_type": "markdown",
   "metadata": {},
   "source": [
    "Se ha eligido como método avanzado de boosting, el tipo Histogram Gradient, debido a que puede que funcione mejor términos de precisión o capacidad de generalización para este problema y además nos permite trabajar con problemas desbalanceados, como lo es este. \n",
    "\n",
    "Primero ajustamos hiperparámetros. Los hiperparámetros que vamos a ajsutar son los siguientes:\n",
    "\n",
    "* ``learning_rate``: es la tasa de aprendizaje, que controla la magnitud de los ajustes de los pesos de los árboles de decisión en cada iteración del algoritmo. Un valor más bajo puede permitir un mejor ajuste, pero aumenta el tiempo de entrenamiento y el riesgo de sobreajuste.\n",
    "* ``max_depth``: es la profundidad máxima permitida para cada árbol de decisión. Un valor más alto puede permitir un mejor ajuste, pero aumenta el riesgo de sobreajuste.\n",
    "* ``max_leaf_nodes``: es el número máximo de nodos hoja permitidos en cada árbol de decisión. Un valor más alto puede permitir un mejor ajuste, pero aumenta el riesgo de sobreajuste.\n",
    "* ``min_samples_leaf``: es el número mínimo de muestras requeridas para cada nodo hoja en cada árbol de decisión. Un valor más alto puede ayudar a evitar el sobreajuste y mejorar la generalización, pero puede reducir la capacidad del modelo para capturar patrones subyacentes en los datos.\n"
   ]
  },
  {
   "cell_type": "code",
   "execution_count": 49,
   "metadata": {},
   "outputs": [
    {
     "name": "stdout",
     "output_type": "stream",
     "text": [
      "{'learning_rate': 0.1, 'max_depth': 7, 'max_leaf_nodes': 20, 'min_samples_leaf': 1}\n"
     ]
    }
   ],
   "source": [
    "from sklearn.model_selection import GridSearchCV\n",
    "from sklearn.ensemble import HistGradientBoostingClassifier\n",
    "from sklearn.model_selection import StratifiedKFold\n",
    "\n",
    "\n",
    "# Definir los parámetros a ajustar y sus valores posibles\n",
    "param_grid = {\n",
    "    'learning_rate': [0.01, 0.1, 0.5],\n",
    "    'max_depth': [3, 5, 7],\n",
    "    'min_samples_leaf': [1, 5, 10],\n",
    "    'max_leaf_nodes': [None, 10, 20]\n",
    "}\n",
    "# Crear un objeto de GradientBoostingClassifier\n",
    "model = HistGradientBoostingClassifier(class_weight='balanced')\n",
    "\n",
    "# Crear un objeto de StratifiedKFold\n",
    "cv = StratifiedKFold(n_splits=5)\n",
    "\n",
    "# Crear un objeto de GridSearchCV\n",
    "grid_search = GridSearchCV(estimator=model, param_grid=param_grid, cv=cv, scoring='balanced_accuracy')\n",
    "\n",
    "# Ajustar el modelo con los datos de entrenamiento\n",
    "grid_search.fit(X_train_processed, y_train)\n",
    "\n",
    "# Obtener los mejores hiperparámetros\n",
    "best_params = grid_search.best_params_\n",
    "\n",
    "print(best_params)\n",
    "\n"
   ]
  },
  {
   "attachments": {},
   "cell_type": "markdown",
   "metadata": {},
   "source": [
    "Una vez obtenidos los hiperparámetros que son óptimos para nuestro modelo, pasamos a evaluarlo."
   ]
  },
  {
   "cell_type": "code",
   "execution_count": 50,
   "metadata": {},
   "outputs": [
    {
     "name": "stdout",
     "output_type": "stream",
     "text": [
      "##### F1 #####\n",
      "0.6529774127310062\n",
      "##### BALANCED ACCURACY #####\n",
      "0.7985411726056649\n",
      "##### CONFUSION MATRIX #####\n",
      "[[1142   91]\n",
      " [  78  159]]\n"
     ]
    }
   ],
   "source": [
    "\n",
    "# Crear un objeto de GradientBoostingClassifier\n",
    "model = HistGradientBoostingClassifier(class_weight='balanced', learning_rate=0.1, max_depth=7, max_leaf_nodes=20, min_samples_leaf=1)\n",
    "model.fit(X_train_processed, y_train)\n",
    "y_pred= model.predict(X_test_processed)\n",
    "\n",
    "print(\"##### F1 #####\")\n",
    "print(f1_score(y_test, y_pred, average='binary', pos_label='Yes'))\n",
    "print(\"##### BALANCED ACCURACY #####\")\n",
    "print(balanced_accuracy_score(y_test, y_pred))\n",
    "print(\"##### CONFUSION MATRIX #####\")\n",
    "print(confusion_matrix(y_test, y_pred))\n"
   ]
  },
  {
   "attachments": {},
   "cell_type": "markdown",
   "metadata": {},
   "source": [
    "Los resultados obtenidos son notablemente mejores que el anterior método de `LogisticRegression`. Ya que mejora tanto en las predicciones de instancias realmente positivas clasificadas como positivas y en instancias realmente negativas clasificadasd comom negativas."
   ]
  },
  {
   "attachments": {},
   "cell_type": "markdown",
   "metadata": {},
   "source": [
    "## Método avanzado: Xgboost Gradient"
   ]
  },
  {
   "attachments": {},
   "cell_type": "markdown",
   "metadata": {},
   "source": [
    "Se ha decidido utilizar el método avanzado `Xgboost` con el fin de tener un modelo más para poder obtener más variedad de resultados a la hora de poder escoger el que será el modelo final. Es un algoritmo de boosting basado en árboles de decisión que utiliza gradientes para mejorar la precisión de las predicciones. El enfoque de XGBoost combina la idea de boosting y la regularización para reducir el sobreajuste y mejorar la generalización del modelo."
   ]
  },
  {
   "cell_type": "code",
   "execution_count": 53,
   "metadata": {},
   "outputs": [
    {
     "name": "stdout",
     "output_type": "stream",
     "text": [
      "{'colsample_bytree': 1.0, 'max_depth': 5, 'min_child_weight': 1}\n"
     ]
    }
   ],
   "source": [
    "import xgboost as xgb\n",
    "from sklearn.model_selection import GridSearchCV\n",
    "from sklearn.preprocessing import LabelEncoder\n",
    "\n",
    "\n",
    "le = LabelEncoder()\n",
    "y_train_transformed = le.fit_transform(y_train)\n",
    "y_test_transformed= le.fit_transform(y_test)\n",
    "\n",
    "\n",
    "#Crear un objeto DMatrix a partir de los datos de entrenamiento y prueba\n",
    "dtrain = xgb.DMatrix(X_train_processed, label=y_train_transformed)\n",
    "dtest = xgb.DMatrix(X_test_processed, label=y_test_transformed)\n",
    "\n",
    "# Definir los hiperparámetros del modelo y los valores a explorar en la búsqueda por grilla\n",
    "params = {\n",
    "    'max_depth': [3, 4, 5],\n",
    "    'min_child_weight': [1, 2, 3],\n",
    "    'colsample_bytree': [0.6, 0.8, 1.0]\n",
    "}\n",
    "\n",
    "# Crear un objeto XGBoost clasificador\n",
    "xgb_model = xgb.XGBClassifier(objective='binary:logistic', seed=42)\n",
    "\n",
    "# Realizar la búsqueda por grilla\n",
    "grid_search = GridSearchCV(xgb_model, param_grid=params, scoring='balanced_accuracy', cv=cv, n_jobs=-1)\n",
    "grid_search.fit(X_train_processed, y_train_transformed)\n",
    "\n",
    "# Obtener los mejores hiperparámetros encontrados por la búsqueda por grilla\n",
    "best_params = grid_search.best_params_\n",
    "\n",
    "print(best_params)\n",
    "\n"
   ]
  },
  {
   "cell_type": "code",
   "execution_count": 75,
   "metadata": {},
   "outputs": [
    {
     "name": "stdout",
     "output_type": "stream",
     "text": [
      "##### F1 ####\n",
      "0.7077625570776255\n",
      "##### BALANCED ACCURACY ####\n",
      "0.8083505292227458\n",
      "##### CONFUSION MATRIX ####\n",
      "[[1187   46]\n",
      " [  82  155]]\n"
     ]
    }
   ],
   "source": [
    "import xgboost as xgb\n",
    "from sklearn.metrics import f1_score, balanced_accuracy_score, confusion_matrix\n",
    "import numpy as np\n",
    "\n",
    "# Calcular la proporción de la clase mayoritaria y la clase minoritaria\n",
    "prop_majority = np.sum(y_train_transformed == 0) / len(y_train_transformed)\n",
    "prop_minority = np.sum(y_train_transformed == 1) / len(y_train_transformed)\n",
    "\n",
    "# Crear un objeto DMatrix a partir de los datos de entrenamiento y prueba\n",
    "dtrain = xgb.DMatrix(X_train_processed, label=y_train_transformed)\n",
    "dtest = xgb.DMatrix(X_test_processed, label=y_test_transformed)\n",
    "\n",
    "# Definir los hiperparámetros del modelo\n",
    "params = {\n",
    "    'objective': 'binary:logistic',\n",
    "    'max_depth': 5,\n",
    "    'min_child_weight': 1,\n",
    "    'colsample_bytree': 1.0,\n",
    "    'scale_pos_weight': prop_majority / prop_minority\n",
    "}\n",
    "\n",
    "# Entrenar el modelo\n",
    "num_rounds = 100\n",
    "xgb_model = xgb.train(params, dtrain, num_rounds)\n",
    "\n",
    "# Realizar predicciones en los datos de prueba\n",
    "y_pred = xgb_model.predict(dtest)\n",
    "y_pred = [round(value) for value in y_pred]\n",
    "\n",
    "# Calcular las métricas de clasificación\n",
    "print(\"##### F1 ####\")\n",
    "print(f1_score(y_test_transformed, y_pred))\n",
    "print(\"##### BALANCED ACCURACY ####\")\n",
    "print(balanced_accuracy_score(y_test_transformed, y_pred))\n",
    "print(\"##### CONFUSION MATRIX ####\")\n",
    "print(confusion_matrix(y_test_transformed, y_pred))"
   ]
  },
  {
   "attachments": {},
   "cell_type": "markdown",
   "metadata": {},
   "source": [
    "Este es el mejor modelo obtenido hasta el momento, ya que las métricas han mejorado notablemente con respecto a los dos modelos anteriores."
   ]
  },
  {
   "attachments": {},
   "cell_type": "markdown",
   "metadata": {},
   "source": [
    "---\n",
    "# Selección de atributos\n",
    "\n",
    "En este punto se realizará una selección de los atributos para saber qué atributos son más importantes. Además, se comprobará el resultado obtenido con los métodos utilizados anteriormente para ver si ha habido alguna mejoría.\n",
    "\n",
    "Para la selección de atributos se ha seguido la misma lógica para los 3 modelos, es decir, primero calculamos el f1_score y balanced_accuracy para cada posible valor de k, siendo k el número de atributos relevantes para el modelo. Una vez hecho esto, se hace un gráfico con la evolución de todas las características y se elige el mejor."
   ]
  },
  {
   "attachments": {},
   "cell_type": "markdown",
   "metadata": {},
   "source": [
    "### **Logistic Regression**"
   ]
  },
  {
   "attachments": {},
   "cell_type": "markdown",
   "metadata": {},
   "source": []
  },
  {
   "cell_type": "code",
   "execution_count": 76,
   "metadata": {},
   "outputs": [
    {
     "name": "stderr",
     "output_type": "stream",
     "text": [
      "/home/angelmancha/.local/lib/python3.10/site-packages/sklearn/linear_model/_logistic.py:458: ConvergenceWarning: lbfgs failed to converge (status=1):\n",
      "STOP: TOTAL NO. of ITERATIONS REACHED LIMIT.\n",
      "\n",
      "Increase the number of iterations (max_iter) or scale the data as shown in:\n",
      "    https://scikit-learn.org/stable/modules/preprocessing.html\n",
      "Please also refer to the documentation for alternative solver options:\n",
      "    https://scikit-learn.org/stable/modules/linear_model.html#logistic-regression\n",
      "  n_iter_i = _check_optimize_result(\n",
      "/home/angelmancha/.local/lib/python3.10/site-packages/sklearn/linear_model/_logistic.py:458: ConvergenceWarning: lbfgs failed to converge (status=1):\n",
      "STOP: TOTAL NO. of ITERATIONS REACHED LIMIT.\n",
      "\n",
      "Increase the number of iterations (max_iter) or scale the data as shown in:\n",
      "    https://scikit-learn.org/stable/modules/preprocessing.html\n",
      "Please also refer to the documentation for alternative solver options:\n",
      "    https://scikit-learn.org/stable/modules/linear_model.html#logistic-regression\n",
      "  n_iter_i = _check_optimize_result(\n"
     ]
    },
    {
     "data": {
      "image/png": "[encoded data removed]",
      "text/plain": [
       "<Figure size 640x480 with 1 Axes>"
      ]
     },
     "metadata": {},
     "output_type": "display_data"
    }
   ],
   "source": [
    "from sklearn.preprocessing import MinMaxScaler\n",
    "from sklearn.feature_selection import SelectKBest, f_classif\n",
    "\n",
    "scaler =  MinMaxScaler()\n",
    "selector = SelectKBest(f_classif)\n",
    "logreg = LogisticRegression(class_weight='balanced')\n",
    "\n",
    "pipe_select_logreg = Pipeline([\n",
    "    ('scaler', scaler),\n",
    "    ('select', selector),\n",
    "    ('logreg', logreg)\n",
    "])\n",
    "\n",
    "# Listas para guardar los resultados de las métricas\n",
    "f1_scores = []\n",
    "balanced_accuracies = []\n",
    "\n",
    "# Probar diferentes valores de k\n",
    "for k in range(1, X_train_processed.shape[1] + 1):\n",
    "    selector.set_params(k=k)\n",
    "    pipe_select_logreg.fit(X_train_processed, y_train)\n",
    "    y_pred_logreg = pipe_select_logreg.predict(X_test_processed)\n",
    "    f1 = f1_score(y_test, y_pred_logreg, average='binary', pos_label='Yes')\n",
    "    balanced_acc = balanced_accuracy_score(y_test, y_pred_logreg)\n",
    "    f1_scores.append(f1)\n",
    "    balanced_accuracies.append(balanced_acc)\n",
    "   # print(f\"k={k}, f1_score={f1}, balanced_accuracy={balanced_acc}\")\n",
    "\n",
    "# Graficar los resultados\n",
    "plt.plot(range(1, X_train_processed.shape[1] + 1), f1_scores, label=\"f1_score\")\n",
    "plt.plot(range(1, X_train_processed.shape[1] + 1), balanced_accuracies, label=\"balanced_accuracy\")\n",
    "plt.xlabel(\"Number of features\")\n",
    "plt.ylabel(\"Metric score\")\n",
    "plt.legend()\n",
    "plt.show()"
   ]
  },
  {
   "attachments": {},
   "cell_type": "markdown",
   "metadata": {},
   "source": [
    "Como se puede apreciar en el gráfico, a partir de 18 atributos se puede observar que los valores para f1 score y balanced se empiezan a estabilizar."
   ]
  },
  {
   "cell_type": "code",
   "execution_count": 56,
   "metadata": {},
   "outputs": [
    {
     "data": {
      "text/plain": [
       "{'scale': StandardScaler(),\n",
       " 'select': SelectKBest(k=18),\n",
       " 'logreg': LogisticRegression(class_weight='balanced')}"
      ]
     },
     "execution_count": 56,
     "metadata": {},
     "output_type": "execute_result"
    }
   ],
   "source": [
    "from sklearn.feature_selection import SelectKBest, f_classif\n",
    "from sklearn.pipeline import Pipeline\n",
    "from sklearn.preprocessing import StandardScaler\n",
    "\n",
    "scaler = StandardScaler()\n",
    "logreg = LogisticRegression(class_weight='balanced')\n",
    "# Seleccionar los 10 atributos más importantes usando SelectKBest y f_classif\n",
    "selector = SelectKBest(score_func=f_classif, k=18)\n",
    "\n",
    "\n",
    "pipe_select_scale_log_reg = Pipeline([\n",
    "    ('scale', scaler),\n",
    "    ('select', selector),\n",
    "    ('logreg', logreg)\n",
    "])\n",
    "\n",
    "pipe_select_scale_log_reg.fit(X_train_processed, y_train)\n",
    "\n",
    "pipe_select_scale_log_reg.named_steps"
   ]
  },
  {
   "cell_type": "code",
   "execution_count": 57,
   "metadata": {},
   "outputs": [
    {
     "name": "stdout",
     "output_type": "stream",
     "text": [
      "Features selected: [ True False False False  True  True  True  True False False False False\n",
      " False False False  True  True  True False  True  True  True  True  True\n",
      " False False  True False False False False  True False False False False\n",
      " False False False False False False False  True  True  True]\n",
      "Locations where features selected: (array([ 0,  4,  5,  6,  7, 15, 16, 17, 19, 20, 21, 22, 23, 26, 31, 43, 44,\n",
      "       45]),)\n",
      "Feature names after selection: ['num__hrs' 'num__EnvironmentSatisfaction' 'num__JobSatisfaction'\n",
      " 'num__WorkLifeBalance' 'num__Age' 'num__TotalWorkingYears'\n",
      " 'num__TrainingTimesLastYear' 'num__YearsAtCompany'\n",
      " 'num__YearsWithCurrManager' 'cat__BusinessTravel_Non-Travel'\n",
      " 'cat__BusinessTravel_Travel_Frequently'\n",
      " 'cat__BusinessTravel_Travel_Rarely' 'cat__Department_Human Resources'\n",
      " 'cat__EducationField_Human Resources'\n",
      " 'cat__EducationField_Technical Degree' 'cat__MaritalStatus_Divorced'\n",
      " 'cat__MaritalStatus_Married' 'cat__MaritalStatus_Single']\n"
     ]
    }
   ],
   "source": [
    "import numpy as np\n",
    "\n",
    "print(f\"Features selected: {pipe_select_scale_log_reg.named_steps['select'].get_support()}\")\n",
    "\n",
    "print(f\"Locations where features selected: {np.where(pipe_select_scale_log_reg.named_steps['select'].get_support())}\")\n",
    "\n",
    "feature_names_before_selection = pipe_select_scale_log_reg.named_steps['scale'].get_feature_names_out()\n",
    "print(f\"Feature names after selection: {pipe_select_scale_log_reg.named_steps['select'].get_feature_names_out(feature_names_before_selection)}\")"
   ]
  },
  {
   "attachments": {},
   "cell_type": "markdown",
   "metadata": {},
   "source": [
    "Evaluación del modelo"
   ]
  },
  {
   "cell_type": "code",
   "execution_count": 58,
   "metadata": {},
   "outputs": [
    {
     "name": "stdout",
     "output_type": "stream",
     "text": [
      "##### F1 ####\n",
      "0.4210526315789474\n",
      "##### BALANCED ACCURACY ####\n",
      "0.6903507961440143\n",
      "##### CONFUSION MATRIX ####\n",
      "[[870 363]\n",
      " [ 77 160]]\n"
     ]
    }
   ],
   "source": [
    "y_pred_logreg = pipe_select_scale_log_reg.predict(X_test_processed)\n",
    "\n",
    "# Calcular las métricas de clasificación\n",
    "print(\"##### F1 ####\")\n",
    "print(f1_score(y_test, y_pred_logreg, average='binary', pos_label='Yes'))\n",
    "print(\"##### BALANCED ACCURACY ####\")\n",
    "print(balanced_accuracy_score(y_test, y_pred_logreg))\n",
    "print(\"##### CONFUSION MATRIX ####\")\n",
    "print(confusion_matrix(y_test, y_pred_logreg))"
   ]
  },
  {
   "attachments": {},
   "cell_type": "markdown",
   "metadata": {},
   "source": [
    "Como se puede observar, no se ha obtenido una mejoría notoria en este modelo con selección de atributos."
   ]
  },
  {
   "attachments": {},
   "cell_type": "markdown",
   "metadata": {},
   "source": [
    "### **Histogram Gradient Boosting**"
   ]
  },
  {
   "cell_type": "code",
   "execution_count": 77,
   "metadata": {},
   "outputs": [
    {
     "ename": "KeyboardInterrupt",
     "evalue": "",
     "output_type": "error",
     "traceback": [
      "\u001b[0;31m---------------------------------------------------------------------------\u001b[0m",
      "\u001b[0;31mKeyboardInterrupt\u001b[0m                         Traceback (most recent call last)",
      "Cell \u001b[0;32mIn[77], line 24\u001b[0m\n\u001b[1;32m     22\u001b[0m \u001b[39mfor\u001b[39;00m k \u001b[39min\u001b[39;00m \u001b[39mrange\u001b[39m(\u001b[39m1\u001b[39m, X_train_processed\u001b[39m.\u001b[39mshape[\u001b[39m1\u001b[39m] \u001b[39m+\u001b[39m \u001b[39m1\u001b[39m):\n\u001b[1;32m     23\u001b[0m     selector\u001b[39m.\u001b[39mset_params(k\u001b[39m=\u001b[39mk)\n\u001b[0;32m---> 24\u001b[0m     pipe_select_gradboost\u001b[39m.\u001b[39;49mfit(X_train_processed, y_train_transformed)\n\u001b[1;32m     25\u001b[0m     y_pred_grad \u001b[39m=\u001b[39m pipe_select_gradboost\u001b[39m.\u001b[39mpredict(X_test_processed)\n\u001b[1;32m     26\u001b[0m     f1 \u001b[39m=\u001b[39m f1_score(y_test_transformed, y_pred_grad, average\u001b[39m=\u001b[39m\u001b[39m'\u001b[39m\u001b[39mbinary\u001b[39m\u001b[39m'\u001b[39m, pos_label\u001b[39m=\u001b[39m\u001b[39m1\u001b[39m)\n",
      "File \u001b[0;32m~/.local/lib/python3.10/site-packages/sklearn/pipeline.py:405\u001b[0m, in \u001b[0;36mPipeline.fit\u001b[0;34m(self, X, y, **fit_params)\u001b[0m\n\u001b[1;32m    403\u001b[0m     \u001b[39mif\u001b[39;00m \u001b[39mself\u001b[39m\u001b[39m.\u001b[39m_final_estimator \u001b[39m!=\u001b[39m \u001b[39m\"\u001b[39m\u001b[39mpassthrough\u001b[39m\u001b[39m\"\u001b[39m:\n\u001b[1;32m    404\u001b[0m         fit_params_last_step \u001b[39m=\u001b[39m fit_params_steps[\u001b[39mself\u001b[39m\u001b[39m.\u001b[39msteps[\u001b[39m-\u001b[39m\u001b[39m1\u001b[39m][\u001b[39m0\u001b[39m]]\n\u001b[0;32m--> 405\u001b[0m         \u001b[39mself\u001b[39;49m\u001b[39m.\u001b[39;49m_final_estimator\u001b[39m.\u001b[39;49mfit(Xt, y, \u001b[39m*\u001b[39;49m\u001b[39m*\u001b[39;49mfit_params_last_step)\n\u001b[1;32m    407\u001b[0m \u001b[39mreturn\u001b[39;00m \u001b[39mself\u001b[39m\n",
      "File \u001b[0;32m~/.local/lib/python3.10/site-packages/sklearn/ensemble/_hist_gradient_boosting/gradient_boosting.py:687\u001b[0m, in \u001b[0;36mBaseHistGradientBoosting.fit\u001b[0;34m(self, X, y, sample_weight)\u001b[0m\n\u001b[1;32m    669\u001b[0m \u001b[39mfor\u001b[39;00m k \u001b[39min\u001b[39;00m \u001b[39mrange\u001b[39m(\u001b[39mself\u001b[39m\u001b[39m.\u001b[39mn_trees_per_iteration_):\n\u001b[1;32m    670\u001b[0m     grower \u001b[39m=\u001b[39m TreeGrower(\n\u001b[1;32m    671\u001b[0m         X_binned\u001b[39m=\u001b[39mX_binned_train,\n\u001b[1;32m    672\u001b[0m         gradients\u001b[39m=\u001b[39mg_view[:, k],\n\u001b[0;32m   (...)\u001b[0m\n\u001b[1;32m    685\u001b[0m         n_threads\u001b[39m=\u001b[39mn_threads,\n\u001b[1;32m    686\u001b[0m     )\n\u001b[0;32m--> 687\u001b[0m     grower\u001b[39m.\u001b[39;49mgrow()\n\u001b[1;32m    689\u001b[0m     acc_apply_split_time \u001b[39m+\u001b[39m\u001b[39m=\u001b[39m grower\u001b[39m.\u001b[39mtotal_apply_split_time\n\u001b[1;32m    690\u001b[0m     acc_find_split_time \u001b[39m+\u001b[39m\u001b[39m=\u001b[39m grower\u001b[39m.\u001b[39mtotal_find_split_time\n",
      "File \u001b[0;32m~/.local/lib/python3.10/site-packages/sklearn/ensemble/_hist_gradient_boosting/grower.py:364\u001b[0m, in \u001b[0;36mTreeGrower.grow\u001b[0;34m(self)\u001b[0m\n\u001b[1;32m    362\u001b[0m \u001b[39m\u001b[39m\u001b[39m\"\"\"Grow the tree, from root to leaves.\"\"\"\u001b[39;00m\n\u001b[1;32m    363\u001b[0m \u001b[39mwhile\u001b[39;00m \u001b[39mself\u001b[39m\u001b[39m.\u001b[39msplittable_nodes:\n\u001b[0;32m--> 364\u001b[0m     \u001b[39mself\u001b[39;49m\u001b[39m.\u001b[39;49msplit_next()\n\u001b[1;32m    366\u001b[0m \u001b[39mself\u001b[39m\u001b[39m.\u001b[39m_apply_shrinkage()\n",
      "File \u001b[0;32m~/.local/lib/python3.10/site-packages/sklearn/ensemble/_hist_gradient_boosting/grower.py:468\u001b[0m, in \u001b[0;36mTreeGrower.split_next\u001b[0;34m(self)\u001b[0m\n\u001b[1;32m    461\u001b[0m node \u001b[39m=\u001b[39m heappop(\u001b[39mself\u001b[39m\u001b[39m.\u001b[39msplittable_nodes)\n\u001b[1;32m    463\u001b[0m tic \u001b[39m=\u001b[39m time()\n\u001b[1;32m    464\u001b[0m (\n\u001b[1;32m    465\u001b[0m     sample_indices_left,\n\u001b[1;32m    466\u001b[0m     sample_indices_right,\n\u001b[1;32m    467\u001b[0m     right_child_pos,\n\u001b[0;32m--> 468\u001b[0m ) \u001b[39m=\u001b[39m \u001b[39mself\u001b[39;49m\u001b[39m.\u001b[39;49msplitter\u001b[39m.\u001b[39;49msplit_indices(node\u001b[39m.\u001b[39;49msplit_info, node\u001b[39m.\u001b[39;49msample_indices)\n\u001b[1;32m    469\u001b[0m \u001b[39mself\u001b[39m\u001b[39m.\u001b[39mtotal_apply_split_time \u001b[39m+\u001b[39m\u001b[39m=\u001b[39m time() \u001b[39m-\u001b[39m tic\n\u001b[1;32m    471\u001b[0m depth \u001b[39m=\u001b[39m node\u001b[39m.\u001b[39mdepth \u001b[39m+\u001b[39m \u001b[39m1\u001b[39m\n",
      "\u001b[0;31mKeyboardInterrupt\u001b[0m: "
     ]
    }
   ],
   "source": [
    "from sklearn.feature_selection import SelectKBest, f_classif\n",
    "from sklearn.pipeline import Pipeline\n",
    "from sklearn.preprocessing import MinMaxScaler\n",
    "from sklearn.metrics import f1_score, balanced_accuracy_score\n",
    "import matplotlib.pyplot as plt\n",
    "\n",
    "scaler =  MinMaxScaler()\n",
    "selector = SelectKBest(f_classif)\n",
    "grad_boosting = HistGradientBoostingClassifier(class_weight='balanced', learning_rate=0.1, max_depth=7, max_leaf_nodes=20, min_samples_leaf=1)\n",
    "\n",
    "pipe_select_gradboost = Pipeline([\n",
    "    ('scaler', scaler),\n",
    "    ('select', selector),\n",
    "    ('gradient', grad_boosting)\n",
    "])\n",
    "\n",
    "# Listas para guardar los resultados de las métricas\n",
    "f1_scores = []\n",
    "balanced_accuracies = []\n",
    "\n",
    "# Probar diferentes valores de k\n",
    "for k in range(1, X_train_processed.shape[1] + 1):\n",
    "    selector.set_params(k=k)\n",
    "    pipe_select_gradboost.fit(X_train_processed, y_train_transformed)\n",
    "    y_pred_grad = pipe_select_gradboost.predict(X_test_processed)\n",
    "    f1 = f1_score(y_test_transformed, y_pred_grad, average='binary', pos_label=1)\n",
    "    balanced_acc = balanced_accuracy_score(y_test_transformed, y_pred_grad)\n",
    "    f1_scores.append(f1)\n",
    "    balanced_accuracies.append(balanced_acc)\n",
    "   # print(f\"k={k}, f1_score={f1}, balanced_accuracy={balanced_acc}\")\n",
    "\n",
    "# Graficar los resultados\n",
    "plt.plot(range(1, X_train_processed.shape[1] + 1), f1_scores, label=\"f1_score\")\n",
    "plt.plot(range(1, X_train_processed.shape[1] + 1), balanced_accuracies, label=\"balanced_accuracy\")\n",
    "plt.xlabel(\"Number of features\")\n",
    "plt.ylabel(\"Metric score\")\n",
    "plt.legend()\n",
    "plt.show()"
   ]
  },
  {
   "cell_type": "code",
   "execution_count": 64,
   "metadata": {},
   "outputs": [
    {
     "data": {
      "text/plain": [
       "{'scaler': MinMaxScaler(),\n",
       " 'select': SelectKBest(k=32),\n",
       " 'gradient': HistGradientBoostingClassifier(class_weight='balanced', max_depth=7,\n",
       "                                max_leaf_nodes=20, min_samples_leaf=1)}"
      ]
     },
     "execution_count": 64,
     "metadata": {},
     "output_type": "execute_result"
    }
   ],
   "source": [
    "from sklearn.feature_selection import SelectKBest, f_classif\n",
    "from sklearn.pipeline import Pipeline\n",
    "from sklearn.preprocessing import MinMaxScaler\n",
    "\n",
    "scaler =  MinMaxScaler()\n",
    "selector = SelectKBest(f_classif, k=32)\n",
    "grad_boosting = HistGradientBoostingClassifier(class_weight='balanced', learning_rate=0.1, max_depth=7, max_leaf_nodes=20, min_samples_leaf=1)\n",
    "\n",
    "pipe_select_gradboost = Pipeline([\n",
    "    ('scaler', scaler),\n",
    "    ('select', selector),\n",
    "    ('gradient', grad_boosting)\n",
    "])\n",
    "\n",
    "pipe_select_gradboost.fit(X_train_processed, y_train_transformed)\n",
    "\n",
    "pipe_select_gradboost.named_steps\n"
   ]
  },
  {
   "cell_type": "code",
   "execution_count": 65,
   "metadata": {},
   "outputs": [
    {
     "name": "stdout",
     "output_type": "stream",
     "text": [
      "Features selected: [ True  True  True  True  True  True  True  True  True  True False  True\n",
      "  True False False  True  True  True  True  True  True  True  True  True\n",
      "  True False  True False False False False  True False False  True False\n",
      " False False  True  True  True False  True  True  True  True]\n",
      "Locations where features selected: (array([ 0,  1,  2,  3,  4,  5,  6,  7,  8,  9, 11, 12, 15, 16, 17, 18, 19,\n",
      "       20, 21, 22, 23, 24, 26, 31, 34, 38, 39, 40, 42, 43, 44, 45]),)\n",
      "Feature names after selection: ['num__hrs' 'num__absences' 'num__JobInvolvement' 'num__PerformanceRating'\n",
      " 'num__EnvironmentSatisfaction' 'num__JobSatisfaction'\n",
      " 'num__WorkLifeBalance' 'num__Age' 'num__DistanceFromHome'\n",
      " 'num__Education' 'num__MonthlyIncome' 'num__NumCompaniesWorked'\n",
      " 'num__TotalWorkingYears' 'num__TrainingTimesLastYear'\n",
      " 'num__YearsAtCompany' 'num__YearsSinceLastPromotion'\n",
      " 'num__YearsWithCurrManager' 'cat__BusinessTravel_Non-Travel'\n",
      " 'cat__BusinessTravel_Travel_Frequently'\n",
      " 'cat__BusinessTravel_Travel_Rarely' 'cat__Department_Human Resources'\n",
      " 'cat__Department_Research & Development'\n",
      " 'cat__EducationField_Human Resources'\n",
      " 'cat__EducationField_Technical Degree'\n",
      " 'cat__JobRole_Healthcare Representative'\n",
      " 'cat__JobRole_Manufacturing Director' 'cat__JobRole_Research Director'\n",
      " 'cat__JobRole_Research Scientist' 'cat__JobRole_Sales Representative'\n",
      " 'cat__MaritalStatus_Divorced' 'cat__MaritalStatus_Married'\n",
      " 'cat__MaritalStatus_Single']\n"
     ]
    }
   ],
   "source": [
    "import numpy as np\n",
    "\n",
    "print(f\"Features selected: {pipe_select_gradboost.named_steps['select'].get_support()}\")\n",
    "\n",
    "print(f\"Locations where features selected: {np.where(pipe_select_gradboost.named_steps['select'].get_support())}\")\n",
    "\n",
    "feature_names_before_selection = pipe_select_gradboost.named_steps['scaler'].get_feature_names_out()\n",
    "print(f\"Feature names after selection: {pipe_select_gradboost.named_steps['select'].get_feature_names_out(feature_names_before_selection)}\")"
   ]
  },
  {
   "attachments": {},
   "cell_type": "markdown",
   "metadata": {},
   "source": [
    "Evaluación del modelo"
   ]
  },
  {
   "cell_type": "code",
   "execution_count": 66,
   "metadata": {},
   "outputs": [
    {
     "name": "stdout",
     "output_type": "stream",
     "text": [
      "##### F1 ####\n",
      "0.6694214876033058\n",
      "##### BALANCED ACCURACY ####\n",
      "0.8073033765540465\n",
      "##### CONFUSION MATRIX ####\n",
      "[[1148   85]\n",
      " [  75  162]]\n"
     ]
    }
   ],
   "source": [
    "y_pred_grad = pipe_select_gradboost.predict(X_test_processed)\n",
    "\n",
    "# Calcular las métricas de clasificación\n",
    "print(\"##### F1 ####\")\n",
    "print(f1_score(y_test_transformed, y_pred_grad, average='binary', pos_label=1))\n",
    "print(\"##### BALANCED ACCURACY ####\")\n",
    "print(balanced_accuracy_score(y_test_transformed, y_pred_grad))\n",
    "print(\"##### CONFUSION MATRIX ####\")\n",
    "print(confusion_matrix(y_test_transformed, y_pred_grad))"
   ]
  },
  {
   "attachments": {},
   "cell_type": "markdown",
   "metadata": {},
   "source": [
    "En este modelo se observa una ligera mejoría con respecto al que no tenía selección de atributos."
   ]
  },
  {
   "attachments": {},
   "cell_type": "markdown",
   "metadata": {},
   "source": [
    "## XGB"
   ]
  },
  {
   "cell_type": "code",
   "execution_count": 78,
   "metadata": {},
   "outputs": [
    {
     "name": "stdout",
     "output_type": "stream",
     "text": [
      "k=1, f1_score=0.3079268292682927, balanced_accuracy=0.5841263974868336\n",
      "k=2, f1_score=0.37066666666666664, balanced_accuracy=0.6415863336310532\n",
      "k=3, f1_score=0.3861111111111111, balanced_accuracy=0.6537517837527078\n",
      "k=4, f1_score=0.36917562724014336, balanced_accuracy=0.628897307175049\n",
      "k=5, f1_score=0.4179620034542314, balanced_accuracy=0.6656554457071874\n",
      "k=6, f1_score=0.44029850746268656, balanced_accuracy=0.6755469319453428\n",
      "k=7, f1_score=0.4889705882352942, balanced_accuracy=0.7100311065939819\n",
      "k=8, f1_score=0.48897795591182364, balanced_accuracy=0.7006118656770047\n",
      "k=9, f1_score=0.4910179640718562, balanced_accuracy=0.7023160553142997\n",
      "k=10, f1_score=0.4928716904276985, balanced_accuracy=0.7013407660640405\n",
      "k=11, f1_score=0.5495867768595042, balanced_accuracy=0.7343620068372909\n",
      "k=12, f1_score=0.556237218813906, balanced_accuracy=0.7398800907532312\n",
      "k=13, f1_score=0.5720081135902636, balanced_accuracy=0.7508341289640375\n",
      "k=14, f1_score=0.5683760683760685, balanced_accuracy=0.7408502469021734\n",
      "k=15, f1_score=0.5683297180043384, balanced_accuracy=0.7386584126397486\n",
      "k=16, f1_score=0.5756929637526652, balanced_accuracy=0.7454751711889289\n",
      "k=17, f1_score=0.5970772442588727, balanced_accuracy=0.7615417783116203\n",
      "k=18, f1_score=0.5892116182572613, balanced_accuracy=0.7578100136540495\n",
      "k=19, f1_score=0.5793991416309013, balanced_accuracy=0.7466917162010944\n",
      "k=20, f1_score=0.602510460251046, balanced_accuracy=0.7644625129610808\n",
      "k=21, f1_score=0.6075949367088608, balanced_accuracy=0.7660845729773014\n",
      "k=22, f1_score=0.6017316017316018, balanced_accuracy=0.7583746547989365\n",
      "k=23, f1_score=0.5874730021598272, balanced_accuracy=0.7504234808586652\n",
      "k=24, f1_score=0.5592841163310962, balanced_accuracy=0.7292443048240886\n",
      "k=25, f1_score=0.5995525727069351, balanced_accuracy=0.7518812816327369\n",
      "k=26, f1_score=0.5799086757990868, balanced_accuracy=0.7379243791513956\n",
      "k=27, f1_score=0.6505494505494506, balanced_accuracy=0.7838502366359708\n",
      "k=28, f1_score=0.6695278969957081, balanced_accuracy=0.799511328754607\n",
      "k=29, f1_score=0.6621923937360179, balanced_accuracy=0.7870943566684119\n",
      "k=30, f1_score=0.7040358744394619, balanced_accuracy=0.8101368484811153\n",
      "k=31, f1_score=0.6940639269406393, balanced_accuracy=0.8008048702865298\n",
      "k=32, f1_score=0.6741071428571429, balanced_accuracy=0.7942345006005729\n",
      "k=33, f1_score=0.6870897155361051, balanced_accuracy=0.8056761834365087\n",
      "k=34, f1_score=0.6875, balanced_accuracy=0.8017801595367888\n",
      "k=35, f1_score=0.6919642857142857, balanced_accuracy=0.8042953791821943\n",
      "k=36, f1_score=0.7117903930131005, balanced_accuracy=0.8203619863048857\n",
      "k=37, f1_score=0.7117903930131005, balanced_accuracy=0.8203619863048857\n",
      "k=38, f1_score=0.7117117117117117, balanced_accuracy=0.8134630981346309\n",
      "k=39, f1_score=0.7337807606263982, balanced_accuracy=0.8273378709948978\n",
      "k=40, f1_score=0.7410714285714286, balanced_accuracy=0.8319627952816533\n",
      "k=41, f1_score=0.7162162162162162, balanced_accuracy=0.8159783177800364\n",
      "k=42, f1_score=0.6997742663656884, balanced_accuracy=0.8063229542024701\n",
      "k=43, f1_score=0.7032967032967032, balanced_accuracy=0.814032872380835\n",
      "k=44, f1_score=0.7072072072072073, balanced_accuracy=0.8109478784892257\n",
      "k=45, f1_score=0.7232142857142857, balanced_accuracy=0.8219019167000319\n",
      "k=46, f1_score=0.7032967032967032, balanced_accuracy=0.814032872380835\n"
     ]
    },
    {
     "data": {
      "image/png": "[encoded data removed]",
      "text/plain": [
       "<Figure size 640x480 with 1 Axes>"
      ]
     },
     "metadata": {},
     "output_type": "display_data"
    }
   ],
   "source": [
    "from sklearn.feature_selection import SelectKBest, f_classif\n",
    "from sklearn.pipeline import Pipeline\n",
    "from xgboost import XGBClassifier\n",
    "from sklearn.preprocessing import MinMaxScaler\n",
    "from sklearn.metrics import f1_score, balanced_accuracy_score\n",
    "import matplotlib.pyplot as plt\n",
    "\n",
    "scaler = MinMaxScaler()\n",
    "selector = SelectKBest(f_classif)\n",
    "xgb_clf = XGBClassifier(max_depth=4, min_child_weight=1, n_estimators=150, scale_pos_weight=(prop_majority/prop_minority))\n",
    "\n",
    "pipe_select_xgb = Pipeline([\n",
    "    ('scaler', scaler),\n",
    "    ('select', selector),\n",
    "    ('xgb', xgb_clf)\n",
    "])\n",
    "\n",
    "# Listas para guardar los resultados de las métricas\n",
    "f1_scores = []\n",
    "balanced_accuracies = []\n",
    "\n",
    "# Probar diferentes valores de k\n",
    "for k in range(1, X_train_processed.shape[1] + 1):\n",
    "    selector.set_params(k=k)\n",
    "    pipe_select_xgb.fit(X_train_processed, y_train_transformed)\n",
    "    y_pred_xgb = pipe_select_xgb.predict(X_test_processed)\n",
    "    f1 = f1_score(y_test_transformed, y_pred_xgb, average='binary', pos_label=1)\n",
    "    balanced_acc = balanced_accuracy_score(y_test_transformed, y_pred_xgb)\n",
    "    f1_scores.append(f1)\n",
    "    balanced_accuracies.append(balanced_acc)\n",
    "    print(f\"k={k}, f1_score={f1}, balanced_accuracy={balanced_acc}\")\n",
    "\n",
    "# Graficar los resultados\n",
    "plt.plot(range(1, X_train_processed.shape[1] + 1), f1_scores, label=\"f1_score\")\n",
    "plt.plot(range(1, X_train_processed.shape[1] + 1), balanced_accuracies, label=\"balanced_accuracy\")\n",
    "plt.xlabel(\"Number of features\")\n",
    "plt.ylabel(\"Metric score\")\n",
    "plt.legend()\n",
    "plt.show()"
   ]
  },
  {
   "cell_type": "code",
   "execution_count": 79,
   "metadata": {},
   "outputs": [
    {
     "data": {
      "text/plain": [
       "{'scaler': MinMaxScaler(),\n",
       " 'select': SelectKBest(k=31),\n",
       " 'xgb': XGBClassifier(base_score=None, booster=None, callbacks=None,\n",
       "               colsample_bylevel=None, colsample_bynode=None,\n",
       "               colsample_bytree=None, early_stopping_rounds=None,\n",
       "               enable_categorical=False, eval_metric=None, feature_types=None,\n",
       "               gamma=None, gpu_id=None, grow_policy=None, importance_type=None,\n",
       "               interaction_constraints=None, learning_rate=None, max_bin=None,\n",
       "               max_cat_threshold=None, max_cat_to_onehot=None,\n",
       "               max_delta_step=None, max_depth=4, max_leaves=None,\n",
       "               min_child_weight=1, missing=nan, monotone_constraints=None,\n",
       "               n_estimators=150, n_jobs=None, num_parallel_tree=None,\n",
       "               predictor=None, random_state=None, ...)}"
      ]
     },
     "execution_count": 79,
     "metadata": {},
     "output_type": "execute_result"
    }
   ],
   "source": [
    "from sklearn.feature_selection import SelectKBest, f_classif\n",
    "from sklearn.pipeline import Pipeline\n",
    "from xgboost import XGBClassifier\n",
    "from sklearn.preprocessing import MinMaxScaler\n",
    "\n",
    "scaler = MinMaxScaler()\n",
    "selector = SelectKBest(f_classif, k=31)\n",
    "xgb_clf = XGBClassifier(max_depth=4, min_child_weight=1, n_estimators=150, scale_pos_weight=(prop_majority/prop_minority))\n",
    "\n",
    "pipe_select_xgb = Pipeline([\n",
    "    ('scaler', scaler),\n",
    "    ('select', selector),\n",
    "    ('xgb', xgb_clf)\n",
    "])\n",
    "\n",
    "pipe_select_xgb.fit(X_train_processed, y_train_transformed)\n",
    "\n",
    "pipe_select_xgb.named_steps\n"
   ]
  },
  {
   "cell_type": "code",
   "execution_count": 80,
   "metadata": {},
   "outputs": [
    {
     "name": "stdout",
     "output_type": "stream",
     "text": [
      "Features selected: [ True  True  True  True  True  True  True  True  True  True False  True\n",
      "  True False False  True  True  True  True  True  True  True  True  True\n",
      "  True False  True False False False False  True False False  True False\n",
      " False False  True False  True False  True  True  True  True]\n",
      "Locations where features selected: (array([ 0,  1,  2,  3,  4,  5,  6,  7,  8,  9, 11, 12, 15, 16, 17, 18, 19,\n",
      "       20, 21, 22, 23, 24, 26, 31, 34, 38, 40, 42, 43, 44, 45]),)\n",
      "Feature names after selection: ['num__hrs' 'num__absences' 'num__JobInvolvement' 'num__PerformanceRating'\n",
      " 'num__EnvironmentSatisfaction' 'num__JobSatisfaction'\n",
      " 'num__WorkLifeBalance' 'num__Age' 'num__DistanceFromHome'\n",
      " 'num__Education' 'num__MonthlyIncome' 'num__NumCompaniesWorked'\n",
      " 'num__TotalWorkingYears' 'num__TrainingTimesLastYear'\n",
      " 'num__YearsAtCompany' 'num__YearsSinceLastPromotion'\n",
      " 'num__YearsWithCurrManager' 'cat__BusinessTravel_Non-Travel'\n",
      " 'cat__BusinessTravel_Travel_Frequently'\n",
      " 'cat__BusinessTravel_Travel_Rarely' 'cat__Department_Human Resources'\n",
      " 'cat__Department_Research & Development'\n",
      " 'cat__EducationField_Human Resources'\n",
      " 'cat__EducationField_Technical Degree'\n",
      " 'cat__JobRole_Healthcare Representative'\n",
      " 'cat__JobRole_Manufacturing Director' 'cat__JobRole_Research Scientist'\n",
      " 'cat__JobRole_Sales Representative' 'cat__MaritalStatus_Divorced'\n",
      " 'cat__MaritalStatus_Married' 'cat__MaritalStatus_Single']\n"
     ]
    }
   ],
   "source": [
    "import numpy as np\n",
    "\n",
    "print(f\"Features selected: {pipe_select_xgb.named_steps['select'].get_support()}\")\n",
    "\n",
    "print(f\"Locations where features selected: {np.where(pipe_select_xgb.named_steps['select'].get_support())}\")\n",
    "\n",
    "feature_names_before_selection = pipe_select_xgb.named_steps['scaler'].get_feature_names_out()\n",
    "print(f\"Feature names after selection: {pipe_select_xgb.named_steps['select'].get_feature_names_out(feature_names_before_selection)}\")"
   ]
  },
  {
   "cell_type": "code",
   "execution_count": 81,
   "metadata": {},
   "outputs": [
    {
     "name": "stdout",
     "output_type": "stream",
     "text": [
      "##### F1 ####\n",
      "0.6940639269406393\n",
      "##### BALANCED ACCURACY ####\n",
      "0.8008048702865298\n",
      "##### CONFUSION MATRIX ####\n",
      "[[1184   49]\n",
      " [  85  152]]\n"
     ]
    }
   ],
   "source": [
    "y_pred_xgb = pipe_select_xgb.predict(X_test_processed)\n",
    "\n",
    "# Calcular las métricas de clasificación\n",
    "print(\"##### F1 ####\")\n",
    "print(f1_score(y_test_transformed, y_pred_xgb, average='binary', pos_label=1))\n",
    "print(\"##### BALANCED ACCURACY ####\")\n",
    "print(balanced_accuracy_score(y_test_transformed, y_pred_xgb))\n",
    "print(\"##### CONFUSION MATRIX ####\")\n",
    "print(confusion_matrix(y_test_transformed, y_pred_xgb))"
   ]
  },
  {
   "attachments": {},
   "cell_type": "markdown",
   "metadata": {},
   "source": [
    "En el último modelo, podemos ver que no ha habido una mejora significativa. \n"
   ]
  },
  {
   "cell_type": "code",
   "execution_count": 89,
   "metadata": {},
   "outputs": [
    {
     "data": {
      "image/png": "[encoded data removed]",
      "text/plain": [
       "<Figure size 640x480 with 1 Axes>"
      ]
     },
     "metadata": {},
     "output_type": "display_data"
    }
   ],
   "source": [
    "import matplotlib.pyplot as plt\n",
    "\n",
    "# Definir los valores del F1 score y Balanced Accuracy para cada modelo\n",
    "logNS_f1_score = 0.426\n",
    "histNS_f1_score = 0.653\n",
    "xgNS_f1_score = 0.708\n",
    "logS_f1_score = 0.421\n",
    "histS_f1_score = 0.669\n",
    "xgS_f1_score = 0.694\n",
    "\n",
    "logNS_balanced_accuracy = 0.692\n",
    "histNS_balanced_accuracy = 0.799\n",
    "xgNS_balanced_accuracy = 0.808\n",
    "logS_balanced_accuracy = 0.690\n",
    "histS_balanced_accuracy = 0.807\n",
    "xgS_balanced_accuracy = 0.8008\n",
    "\n",
    "# Crear una lista con los nombres de los modelos\n",
    "model_names = ['Logistic NS', 'hist NS', 'xgboost NS', 'Logistic S', 'hist S', 'xgboost S']\n",
    "\n",
    "# Crear una lista con los valores de F1 score y Balanced Accuracy para cada modelo\n",
    "f1_scores = [logNS_f1_score, histNS_f1_score, xgNS_f1_score, logS_f1_score, histS_f1_score, xgS_f1_score]\n",
    "balanced_accuracies = [logNS_balanced_accuracy, histNS_balanced_accuracy, xgNS_balanced_accuracy, logS_balanced_accuracy, histS_balanced_accuracy, xgS_balanced_accuracy]\n",
    "\n",
    "# Crear un gráfico de barras para los valores del F1 score\n",
    "plt.bar(range(len(model_names)), f1_scores, color='purple', width=0.4)\n",
    "\n",
    "# Agregar una segunda serie de barras para los valores de Balanced Accuracy\n",
    "plt.bar([x + 0.4 for x in range(len(model_names))], balanced_accuracies, color='pink', width=0.4)\n",
    "\n",
    "# Establecer las etiquetas de las barras en los nombres de los modelos\n",
    "plt.xticks(range(len(model_names)), model_names)\n",
    "\n",
    "# Agregar leyendas y etiquetas\n",
    "plt.legend(['F1 score', 'Balanced Accuracy'])\n",
    "plt.xlabel('Modelos')\n",
    "plt.ylabel('Puntuación')\n",
    "plt.title('Métricas de evaluación: F1 score y Balanced Accuracy')\n",
    "\n",
    "# Mostrar el gráfico\n",
    "plt.show()\n"
   ]
  },
  {
   "cell_type": "code",
   "execution_count": 92,
   "metadata": {},
   "outputs": [
    {
     "data": {
      "image/png": "[encoded data removed]",
      "text/plain": [
       "<Figure size 640x480 with 1 Axes>"
      ]
     },
     "metadata": {},
     "output_type": "display_data"
    }
   ],
   "source": [
    "import matplotlib.pyplot as plt\n",
    "\n",
    "# Definir los valores del F1 score y Balanced Accuracy para cada modelo\n",
    "logNS_TP = 890\n",
    "histNS_TP = 1142\n",
    "xgNS_TP= 1187\n",
    "logS_f1_TP = 870\n",
    "histS_f1_TP = 1148\n",
    "xgS_f1_TP = 1184\n",
    "\n",
    "logNS_TN = 157\n",
    "histNS_TN = 159\n",
    "xgNS_TN= 155\n",
    "logS_TN = 160\n",
    "histS_TN = 162\n",
    "xgS_TN = 152\n",
    "\n",
    "# Crear una lista con los nombres de los modelos\n",
    "model_names = ['Logistic NS', 'hist NS', 'xgboost NS', 'Logistic S', 'hist S', 'xgboost S']\n",
    "\n",
    "# Crear una lista con los valores de F1 score y Balanced Accuracy para cada modelo\n",
    "f1_scores = [logNS_f1_score, histNS_f1_score, xgNS_f1_score, logS_f1_score, histS_f1_score, xgS_f1_score]\n",
    "balanced_accuracies = [logNS_balanced_accuracy, histNS_balanced_accuracy, xgNS_balanced_accuracy, logS_balanced_accuracy, histS_balanced_accuracy, xgS_balanced_accuracy]\n",
    "\n",
    "# Crear un gráfico de barras para los valores del F1 score\n",
    "plt.bar(range(len(model_names)), f1_scores, color='purple', width=0.4)\n",
    "\n",
    "# Agregar una segunda serie de barras para los valores de Balanced Accuracy\n",
    "plt.bar([x + 0.4 for x in range(len(model_names))], balanced_accuracies, color='pink', width=0.4)\n",
    "\n",
    "# Establecer las etiquetas de las barras en los nombres de los modelos\n",
    "plt.xticks(range(len(model_names)), model_names)\n",
    "# Agregar leyendas y etiquetas\n",
    "plt.legend(['TP', 'TN'])\n",
    "plt.xlabel('Modelos')\n",
    "plt.ylabel('Puntuación')\n",
    "plt.title('Correlation Matrix')\n",
    "\n",
    "# Mostrar el gráfico\n",
    "plt.show()\n"
   ]
  },
  {
   "attachments": {},
   "cell_type": "markdown",
   "metadata": {},
   "source": []
  },
  {
   "attachments": {},
   "cell_type": "markdown",
   "metadata": {},
   "source": [
    "---\n",
    "\n",
    "# **Conclusión y modelo final**"
   ]
  },
  {
   "attachments": {},
   "cell_type": "markdown",
   "metadata": {},
   "source": [
    "Como hemos podido observar en las gráficas, el mejor modelo obtenido ha sido **``XGboost_gradient``** ya que con la reducción del número de atributos, el modelo sigue devolviendo métricas muy similares a las obtenidas sin la selección de atributos."
   ]
  },
  {
   "cell_type": "code",
   "execution_count": 93,
   "metadata": {},
   "outputs": [
    {
     "data": {
      "text/plain": [
       "{'scaler': MinMaxScaler(),\n",
       " 'select': SelectKBest(k=31),\n",
       " 'xgb': XGBClassifier(base_score=None, booster=None, callbacks=None,\n",
       "               colsample_bylevel=None, colsample_bynode=None,\n",
       "               colsample_bytree=None, early_stopping_rounds=None,\n",
       "               enable_categorical=False, eval_metric=None, feature_types=None,\n",
       "               gamma=None, gpu_id=None, grow_policy=None, importance_type=None,\n",
       "               interaction_constraints=None, learning_rate=None, max_bin=None,\n",
       "               max_cat_threshold=None, max_cat_to_onehot=None,\n",
       "               max_delta_step=None, max_depth=4, max_leaves=None,\n",
       "               min_child_weight=1, missing=nan, monotone_constraints=None,\n",
       "               n_estimators=150, n_jobs=None, num_parallel_tree=None,\n",
       "               predictor=None, random_state=None, ...)}"
      ]
     },
     "execution_count": 93,
     "metadata": {},
     "output_type": "execute_result"
    }
   ],
   "source": [
    "from sklearn.feature_selection import SelectKBest, f_classif\n",
    "from sklearn.pipeline import Pipeline\n",
    "from xgboost import XGBClassifier\n",
    "from sklearn.preprocessing import MinMaxScaler\n",
    "\n",
    "scaler = MinMaxScaler()\n",
    "selector = SelectKBest(f_classif, k=31)\n",
    "xgb_clf = XGBClassifier(max_depth=4, min_child_weight=1, n_estimators=150, scale_pos_weight=(prop_majority/prop_minority))\n",
    "\n",
    "pipe_select_xgb = Pipeline([\n",
    "    ('scaler', scaler),\n",
    "    ('select', selector),\n",
    "    ('xgb', xgb_clf)\n",
    "])\n",
    "\n",
    "pipe_select_xgb.fit(X_train_processed, y_train_transformed)\n",
    "\n",
    "pipe_select_xgb.named_steps\n",
    "\n"
   ]
  },
  {
   "attachments": {},
   "cell_type": "markdown",
   "metadata": {},
   "source": [
    "Procedemos a guardar el modelo en modelo_final.pkl"
   ]
  },
  {
   "cell_type": "code",
   "execution_count": 94,
   "metadata": {},
   "outputs": [],
   "source": [
    "import pickle\n",
    "\n",
    "with open('modelo_final.pkl', 'wb') as f:\n",
    "    pickle.dump(pipe_select_xgb, f)\n",
    "\n"
   ]
  }
 ],
 "metadata": {
  "kernelspec": {
   "display_name": "Python 3",
   "language": "python",
   "name": "python3"
  },
  "language_info": {
   "codemirror_mode": {
    "name": "ipython",
    "version": 3
   },
   "file_extension": ".py",
   "mimetype": "text/x-python",
   "name": "python",
   "nbconvert_exporter": "python",
   "pygments_lexer": "ipython3",
   "version": "3.10.6"
  },
  "orig_nbformat": 4
 },
 "nbformat": 4,
 "nbformat_minor": 2
}
