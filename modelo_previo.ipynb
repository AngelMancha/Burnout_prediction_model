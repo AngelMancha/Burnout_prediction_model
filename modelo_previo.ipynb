{
 "cells": [
  {
   "attachments": {},
   "cell_type": "markdown",
   "metadata": {},
   "source": [
    "# Predicción del abandono (BURNOUT) de empleados"
   ]
  },
  {
   "attachments": {},
   "cell_type": "markdown",
   "metadata": {},
   "source": [
    "## Carga de los datos\n",
    "\n",
    "El primer paso a seguir es cargar los datos para poder trabajar sobre ellos y construir un modelo que prediga si un empleado va a abandonar la empresa."
   ]
  },
  {
   "cell_type": "code",
   "execution_count": 1,
   "metadata": {},
   "outputs": [],
   "source": [
    "import pandas as pd\n",
    "\n",
    "df = pd.read_pickle('attrition_available_12.pkl')\n",
    "#value_counts\n",
    "\n",
    "#jobINvolment = df['JobInvolvement']\n",
    "#print(jobINvolment.value_counts())"
   ]
  },
  {
   "attachments": {},
   "cell_type": "markdown",
   "metadata": {},
   "source": [
    "## Análisis exploratorio de datos\n",
    "\n",
    "Ver las primeras filas del dataframe para tener una idea de cómo están estructurados los datos."
   ]
  },
  {
   "cell_type": "code",
   "execution_count": 58,
   "metadata": {},
   "outputs": [
    {
     "data": {
      "text/html": [
       "<div>\n",
       "<style scoped>\n",
       "    .dataframe tbody tr th:only-of-type {\n",
       "        vertical-align: middle;\n",
       "    }\n",
       "\n",
       "    .dataframe tbody tr th {\n",
       "        vertical-align: top;\n",
       "    }\n",
       "\n",
       "    .dataframe thead th {\n",
       "        text-align: right;\n",
       "    }\n",
       "</style>\n",
       "<table border=\"1\" class=\"dataframe\">\n",
       "  <thead>\n",
       "    <tr style=\"text-align: right;\">\n",
       "      <th></th>\n",
       "      <th>hrs</th>\n",
       "      <th>absences</th>\n",
       "      <th>JobInvolvement</th>\n",
       "      <th>PerformanceRating</th>\n",
       "      <th>EnvironmentSatisfaction</th>\n",
       "      <th>JobSatisfaction</th>\n",
       "      <th>WorkLifeBalance</th>\n",
       "      <th>Age</th>\n",
       "      <th>Attrition</th>\n",
       "      <th>BusinessTravel</th>\n",
       "      <th>...</th>\n",
       "      <th>MaritalStatus</th>\n",
       "      <th>MonthlyIncome</th>\n",
       "      <th>NumCompaniesWorked</th>\n",
       "      <th>PercentSalaryHike</th>\n",
       "      <th>StockOptionLevel</th>\n",
       "      <th>TotalWorkingYears</th>\n",
       "      <th>TrainingTimesLastYear</th>\n",
       "      <th>YearsAtCompany</th>\n",
       "      <th>YearsSinceLastPromotion</th>\n",
       "      <th>YearsWithCurrManager</th>\n",
       "    </tr>\n",
       "  </thead>\n",
       "  <tbody>\n",
       "    <tr>\n",
       "      <th>1</th>\n",
       "      <td>7.315971</td>\n",
       "      <td>13.0</td>\n",
       "      <td>2.0</td>\n",
       "      <td>NaN</td>\n",
       "      <td>3.0</td>\n",
       "      <td>2.0</td>\n",
       "      <td>4.0</td>\n",
       "      <td>31.0</td>\n",
       "      <td>Yes</td>\n",
       "      <td>Travel_Frequently</td>\n",
       "      <td>...</td>\n",
       "      <td>NaN</td>\n",
       "      <td>41890.0</td>\n",
       "      <td>0.0</td>\n",
       "      <td>NaN</td>\n",
       "      <td>1.0</td>\n",
       "      <td>6.0</td>\n",
       "      <td>3</td>\n",
       "      <td>NaN</td>\n",
       "      <td>1.0</td>\n",
       "      <td>4.0</td>\n",
       "    </tr>\n",
       "    <tr>\n",
       "      <th>6</th>\n",
       "      <td>NaN</td>\n",
       "      <td>17.0</td>\n",
       "      <td>3.0</td>\n",
       "      <td>NaN</td>\n",
       "      <td>1.0</td>\n",
       "      <td>3.0</td>\n",
       "      <td>1.0</td>\n",
       "      <td>28.0</td>\n",
       "      <td>Yes</td>\n",
       "      <td>Travel_Rarely</td>\n",
       "      <td>...</td>\n",
       "      <td>Single</td>\n",
       "      <td>58130.0</td>\n",
       "      <td>2.0</td>\n",
       "      <td>NaN</td>\n",
       "      <td>1.0</td>\n",
       "      <td>5.0</td>\n",
       "      <td>2</td>\n",
       "      <td>0.0</td>\n",
       "      <td>NaN</td>\n",
       "      <td>0.0</td>\n",
       "    </tr>\n",
       "    <tr>\n",
       "      <th>13</th>\n",
       "      <td>NaN</td>\n",
       "      <td>14.0</td>\n",
       "      <td>2.0</td>\n",
       "      <td>3.0</td>\n",
       "      <td>1.0</td>\n",
       "      <td>2.0</td>\n",
       "      <td>2.0</td>\n",
       "      <td>47.0</td>\n",
       "      <td>Yes</td>\n",
       "      <td>Non-Travel</td>\n",
       "      <td>...</td>\n",
       "      <td>NaN</td>\n",
       "      <td>57620.0</td>\n",
       "      <td>1.0</td>\n",
       "      <td>11.0</td>\n",
       "      <td>2.0</td>\n",
       "      <td>10.0</td>\n",
       "      <td>4</td>\n",
       "      <td>10.0</td>\n",
       "      <td>9.0</td>\n",
       "      <td>9.0</td>\n",
       "    </tr>\n",
       "    <tr>\n",
       "      <th>28</th>\n",
       "      <td>10.713066</td>\n",
       "      <td>6.0</td>\n",
       "      <td>2.0</td>\n",
       "      <td>3.0</td>\n",
       "      <td>4.0</td>\n",
       "      <td>NaN</td>\n",
       "      <td>1.0</td>\n",
       "      <td>NaN</td>\n",
       "      <td>Yes</td>\n",
       "      <td>NaN</td>\n",
       "      <td>...</td>\n",
       "      <td>Divorced</td>\n",
       "      <td>NaN</td>\n",
       "      <td>3.0</td>\n",
       "      <td>14.0</td>\n",
       "      <td>1.0</td>\n",
       "      <td>19.0</td>\n",
       "      <td>2</td>\n",
       "      <td>1.0</td>\n",
       "      <td>0.0</td>\n",
       "      <td>NaN</td>\n",
       "    </tr>\n",
       "    <tr>\n",
       "      <th>30</th>\n",
       "      <td>9.662808</td>\n",
       "      <td>NaN</td>\n",
       "      <td>2.0</td>\n",
       "      <td>3.0</td>\n",
       "      <td>1.0</td>\n",
       "      <td>2.0</td>\n",
       "      <td>3.0</td>\n",
       "      <td>26.0</td>\n",
       "      <td>Yes</td>\n",
       "      <td>Travel_Rarely</td>\n",
       "      <td>...</td>\n",
       "      <td>Divorced</td>\n",
       "      <td>68540.0</td>\n",
       "      <td>2.0</td>\n",
       "      <td>11.0</td>\n",
       "      <td>0.0</td>\n",
       "      <td>5.0</td>\n",
       "      <td>5</td>\n",
       "      <td>3.0</td>\n",
       "      <td>0.0</td>\n",
       "      <td>2.0</td>\n",
       "    </tr>\n",
       "  </tbody>\n",
       "</table>\n",
       "<p>5 rows × 27 columns</p>\n",
       "</div>"
      ],
      "text/plain": [
       "          hrs  absences  JobInvolvement  PerformanceRating   \n",
       "1    7.315971      13.0             2.0                NaN  \\\n",
       "6         NaN      17.0             3.0                NaN   \n",
       "13        NaN      14.0             2.0                3.0   \n",
       "28  10.713066       6.0             2.0                3.0   \n",
       "30   9.662808       NaN             2.0                3.0   \n",
       "\n",
       "    EnvironmentSatisfaction  JobSatisfaction  WorkLifeBalance   Age Attrition   \n",
       "1                       3.0              2.0              4.0  31.0       Yes  \\\n",
       "6                       1.0              3.0              1.0  28.0       Yes   \n",
       "13                      1.0              2.0              2.0  47.0       Yes   \n",
       "28                      4.0              NaN              1.0   NaN       Yes   \n",
       "30                      1.0              2.0              3.0  26.0       Yes   \n",
       "\n",
       "       BusinessTravel  ... MaritalStatus  MonthlyIncome  NumCompaniesWorked   \n",
       "1   Travel_Frequently  ...           NaN        41890.0                 0.0  \\\n",
       "6       Travel_Rarely  ...        Single        58130.0                 2.0   \n",
       "13         Non-Travel  ...           NaN        57620.0                 1.0   \n",
       "28                NaN  ...      Divorced            NaN                 3.0   \n",
       "30      Travel_Rarely  ...      Divorced        68540.0                 2.0   \n",
       "\n",
       "   PercentSalaryHike StockOptionLevel  TotalWorkingYears   \n",
       "1                NaN              1.0                6.0  \\\n",
       "6                NaN              1.0                5.0   \n",
       "13              11.0              2.0               10.0   \n",
       "28              14.0              1.0               19.0   \n",
       "30              11.0              0.0                5.0   \n",
       "\n",
       "   TrainingTimesLastYear YearsAtCompany  YearsSinceLastPromotion   \n",
       "1                      3            NaN                      1.0  \\\n",
       "6                      2            0.0                      NaN   \n",
       "13                     4           10.0                      9.0   \n",
       "28                     2            1.0                      0.0   \n",
       "30                     5            3.0                      0.0   \n",
       "\n",
       "    YearsWithCurrManager  \n",
       "1                    4.0  \n",
       "6                    0.0  \n",
       "13                   9.0  \n",
       "28                   NaN  \n",
       "30                   2.0  \n",
       "\n",
       "[5 rows x 27 columns]"
      ]
     },
     "execution_count": 58,
     "metadata": {},
     "output_type": "execute_result"
    }
   ],
   "source": [
    "df.head()"
   ]
  },
  {
   "attachments": {},
   "cell_type": "markdown",
   "metadata": {},
   "source": [
    "Debemos tener en cuenta que lo que queremos predecir es la columna '`attrition`', que mide si el empleado va a dejar el trabajo o no."
   ]
  },
  {
   "attachments": {},
   "cell_type": "markdown",
   "metadata": {},
   "source": [
    "Ver los tipos de datos de las columnas"
   ]
  },
  {
   "cell_type": "code",
   "execution_count": 3,
   "metadata": {},
   "outputs": [
    {
     "data": {
      "text/plain": [
       "hrs                        float64\n",
       "absences                   float64\n",
       "JobInvolvement             float64\n",
       "PerformanceRating          float64\n",
       "EnvironmentSatisfaction    float64\n",
       "JobSatisfaction            float64\n",
       "WorkLifeBalance            float64\n",
       "Age                        float64\n",
       "Attrition                   object\n",
       "BusinessTravel              object\n",
       "Department                  object\n",
       "DistanceFromHome             int64\n",
       "Education                  float64\n",
       "EducationField              object\n",
       "EmployeeCount              float64\n",
       "EmployeeID                 float64\n",
       "Gender                      object\n",
       "JobLevel                     int64\n",
       "JobRole                     object\n",
       "MaritalStatus               object\n",
       "MonthlyIncome              float64\n",
       "NumCompaniesWorked         float64\n",
       "Over18                      object\n",
       "PercentSalaryHike          float64\n",
       "StandardHours              float64\n",
       "StockOptionLevel           float64\n",
       "TotalWorkingYears          float64\n",
       "TrainingTimesLastYear        int64\n",
       "YearsAtCompany             float64\n",
       "YearsSinceLastPromotion    float64\n",
       "YearsWithCurrManager       float64\n",
       "dtype: object"
      ]
     },
     "execution_count": 3,
     "metadata": {},
     "output_type": "execute_result"
    }
   ],
   "source": [
    "df.dtypes"
   ]
  },
  {
   "attachments": {},
   "cell_type": "markdown",
   "metadata": {},
   "source": [
    "Contar el número de instancias y columnas"
   ]
  },
  {
   "cell_type": "code",
   "execution_count": 4,
   "metadata": {},
   "outputs": [
    {
     "name": "stdout",
     "output_type": "stream",
     "text": [
      "Número de instancias:  4410\n",
      "Número de columnas:  31\n"
     ]
    }
   ],
   "source": [
    "num_instances = len(df)\n",
    "num_columns = len(df.columns)\n",
    "\n",
    "print(\"Número de instancias: \", num_instances)\n",
    "print(\"Número de columnas: \", num_columns)"
   ]
  },
  {
   "attachments": {},
   "cell_type": "markdown",
   "metadata": {},
   "source": [
    "Ver si hay columnas constantes"
   ]
  },
  {
   "cell_type": "code",
   "execution_count": 5,
   "metadata": {},
   "outputs": [
    {
     "name": "stdout",
     "output_type": "stream",
     "text": [
      "Columnas constantes:  ['EmployeeCount', 'Over18', 'StandardHours']\n"
     ]
    }
   ],
   "source": [
    "const_cols = [col for col in df.columns if df[col].nunique() == 1]\n",
    "print(\"Columnas constantes: \", const_cols)\n"
   ]
  },
  {
   "attachments": {},
   "cell_type": "markdown",
   "metadata": {},
   "source": [
    "Hemos visto que las columnas constantes son las siguientes: *EmployeeCount, Over18, StandardHours*. Ya que estas columnas no van a aportar ninguna información útil al modelo, debemos eliminarlas. Ahora en vez de 31 columnas, tendremos 28."
   ]
  },
  {
   "cell_type": "code",
   "execution_count": 6,
   "metadata": {},
   "outputs": [],
   "source": [
    "df = df.drop(const_cols, axis=1)"
   ]
  },
  {
   "cell_type": "code",
   "execution_count": 7,
   "metadata": {},
   "outputs": [],
   "source": [
    "df = df.drop('EmployeeID', axis=1)"
   ]
  },
  {
   "attachments": {},
   "cell_type": "markdown",
   "metadata": {},
   "source": [
    "Volvemos a mirar el numero de instancias y columnas"
   ]
  },
  {
   "cell_type": "code",
   "execution_count": 8,
   "metadata": {},
   "outputs": [
    {
     "name": "stdout",
     "output_type": "stream",
     "text": [
      "Número de instancias:  4410\n",
      "Número de columnas:  27\n"
     ]
    }
   ],
   "source": [
    "num_instances = len(df)\n",
    "num_columns = len(df.columns)\n",
    "\n",
    "print(\"Número de instancias: \", num_instances)\n",
    "print(\"Número de columnas: \", num_columns)"
   ]
  },
  {
   "attachments": {},
   "cell_type": "markdown",
   "metadata": {},
   "source": [
    "Ver los valores de las columnas constantes"
   ]
  },
  {
   "cell_type": "code",
   "execution_count": 9,
   "metadata": {},
   "outputs": [
    {
     "name": "stdout",
     "output_type": "stream",
     "text": [
      "Proporción de valores faltantes: \n",
      "hrs                        0.211791\n",
      "absences                   0.213152\n",
      "JobInvolvement             0.169388\n",
      "PerformanceRating          0.193197\n",
      "EnvironmentSatisfaction    0.209524\n",
      "JobSatisfaction            0.170522\n",
      "WorkLifeBalance            0.008617\n",
      "Age                        0.211791\n",
      "Attrition                  0.000000\n",
      "BusinessTravel             0.172336\n",
      "Department                 0.186395\n",
      "DistanceFromHome           0.000000\n",
      "Education                  0.218594\n",
      "EducationField             0.180952\n",
      "Gender                     0.200454\n",
      "JobLevel                   0.000000\n",
      "JobRole                    0.216780\n",
      "MaritalStatus              0.202041\n",
      "MonthlyIncome              0.192517\n",
      "NumCompaniesWorked         0.166440\n",
      "PercentSalaryHike          0.209524\n",
      "StockOptionLevel           0.170748\n",
      "TotalWorkingYears          0.186848\n",
      "TrainingTimesLastYear      0.000000\n",
      "YearsAtCompany             0.172336\n",
      "YearsSinceLastPromotion    0.183447\n",
      "YearsWithCurrManager       0.187075\n",
      "dtype: float64\n"
     ]
    }
   ],
   "source": [
    "missing_vals = df.isnull().sum() / len(df)\n",
    "print(\"Proporción de valores faltantes: \")\n",
    "print(missing_vals)"
   ]
  },
  {
   "attachments": {},
   "cell_type": "markdown",
   "metadata": {},
   "source": [
    "## Preprocesamiento de los datos"
   ]
  },
  {
   "attachments": {},
   "cell_type": "markdown",
   "metadata": {},
   "source": [
    "En esta sección realizaremos el procesamiento de los valores faltantes y la transformación de los datos categóricos."
   ]
  },
  {
   "attachments": {},
   "cell_type": "markdown",
   "metadata": {},
   "source": [
    "Parae ello, primero realizaremos la división de los datos en un conjunto de entrenamiento y test"
   ]
  },
  {
   "cell_type": "code",
   "execution_count": 42,
   "metadata": {},
   "outputs": [],
   "source": [
    "from sklearn.model_selection import train_test_split, StratifiedKFold\n",
    "X = df.drop('Attrition', axis=1) \n",
    "y = df['Attrition']\n",
    "\n",
    "#Sobre el conjunto y se realiza una codificación binaria\n",
    "\n",
    "\n",
    "X_train, X_test, y_train, y_test = train_test_split(X, y, test_size = 0.2)"
   ]
  },
  {
   "attachments": {},
   "cell_type": "markdown",
   "metadata": {},
   "source": [
    "Para transformar los valores categóricos en numéricos, utilizaremos la técnica One hot encoding."
   ]
  },
  {
   "cell_type": "code",
   "execution_count": 60,
   "metadata": {},
   "outputs": [
    {
     "data": {
      "text/html": [
       "<div>\n",
       "<style scoped>\n",
       "    .dataframe tbody tr th:only-of-type {\n",
       "        vertical-align: middle;\n",
       "    }\n",
       "\n",
       "    .dataframe tbody tr th {\n",
       "        vertical-align: top;\n",
       "    }\n",
       "\n",
       "    .dataframe thead th {\n",
       "        text-align: right;\n",
       "    }\n",
       "</style>\n",
       "<table border=\"1\" class=\"dataframe\">\n",
       "  <thead>\n",
       "    <tr style=\"text-align: right;\">\n",
       "      <th></th>\n",
       "      <th>hrs</th>\n",
       "      <th>absences</th>\n",
       "      <th>JobInvolvement</th>\n",
       "      <th>PerformanceRating</th>\n",
       "      <th>EnvironmentSatisfaction</th>\n",
       "      <th>JobSatisfaction</th>\n",
       "      <th>WorkLifeBalance</th>\n",
       "      <th>Age</th>\n",
       "      <th>DistanceFromHome</th>\n",
       "      <th>Education</th>\n",
       "      <th>...</th>\n",
       "      <th>JobRole_Laboratory Technician</th>\n",
       "      <th>JobRole_Manager</th>\n",
       "      <th>JobRole_Manufacturing Director</th>\n",
       "      <th>JobRole_Research Director</th>\n",
       "      <th>JobRole_Research Scientist</th>\n",
       "      <th>JobRole_Sales Executive</th>\n",
       "      <th>JobRole_Sales Representative</th>\n",
       "      <th>MaritalStatus_Divorced</th>\n",
       "      <th>MaritalStatus_Married</th>\n",
       "      <th>MaritalStatus_Single</th>\n",
       "    </tr>\n",
       "  </thead>\n",
       "  <tbody>\n",
       "    <tr>\n",
       "      <th>1</th>\n",
       "      <td>7.315971</td>\n",
       "      <td>13.0</td>\n",
       "      <td>2.0</td>\n",
       "      <td>NaN</td>\n",
       "      <td>3.0</td>\n",
       "      <td>2.0</td>\n",
       "      <td>4.0</td>\n",
       "      <td>31.0</td>\n",
       "      <td>10</td>\n",
       "      <td>1.0</td>\n",
       "      <td>...</td>\n",
       "      <td>False</td>\n",
       "      <td>False</td>\n",
       "      <td>False</td>\n",
       "      <td>False</td>\n",
       "      <td>False</td>\n",
       "      <td>False</td>\n",
       "      <td>False</td>\n",
       "      <td>False</td>\n",
       "      <td>False</td>\n",
       "      <td>False</td>\n",
       "    </tr>\n",
       "    <tr>\n",
       "      <th>6</th>\n",
       "      <td>NaN</td>\n",
       "      <td>17.0</td>\n",
       "      <td>3.0</td>\n",
       "      <td>NaN</td>\n",
       "      <td>1.0</td>\n",
       "      <td>3.0</td>\n",
       "      <td>1.0</td>\n",
       "      <td>28.0</td>\n",
       "      <td>11</td>\n",
       "      <td>2.0</td>\n",
       "      <td>...</td>\n",
       "      <td>False</td>\n",
       "      <td>False</td>\n",
       "      <td>False</td>\n",
       "      <td>False</td>\n",
       "      <td>False</td>\n",
       "      <td>True</td>\n",
       "      <td>False</td>\n",
       "      <td>False</td>\n",
       "      <td>False</td>\n",
       "      <td>True</td>\n",
       "    </tr>\n",
       "    <tr>\n",
       "      <th>13</th>\n",
       "      <td>NaN</td>\n",
       "      <td>14.0</td>\n",
       "      <td>2.0</td>\n",
       "      <td>3.0</td>\n",
       "      <td>1.0</td>\n",
       "      <td>2.0</td>\n",
       "      <td>2.0</td>\n",
       "      <td>47.0</td>\n",
       "      <td>1</td>\n",
       "      <td>1.0</td>\n",
       "      <td>...</td>\n",
       "      <td>False</td>\n",
       "      <td>False</td>\n",
       "      <td>False</td>\n",
       "      <td>False</td>\n",
       "      <td>True</td>\n",
       "      <td>False</td>\n",
       "      <td>False</td>\n",
       "      <td>False</td>\n",
       "      <td>False</td>\n",
       "      <td>False</td>\n",
       "    </tr>\n",
       "    <tr>\n",
       "      <th>28</th>\n",
       "      <td>10.713066</td>\n",
       "      <td>6.0</td>\n",
       "      <td>2.0</td>\n",
       "      <td>3.0</td>\n",
       "      <td>4.0</td>\n",
       "      <td>NaN</td>\n",
       "      <td>1.0</td>\n",
       "      <td>NaN</td>\n",
       "      <td>1</td>\n",
       "      <td>NaN</td>\n",
       "      <td>...</td>\n",
       "      <td>False</td>\n",
       "      <td>False</td>\n",
       "      <td>False</td>\n",
       "      <td>False</td>\n",
       "      <td>True</td>\n",
       "      <td>False</td>\n",
       "      <td>False</td>\n",
       "      <td>True</td>\n",
       "      <td>False</td>\n",
       "      <td>False</td>\n",
       "    </tr>\n",
       "    <tr>\n",
       "      <th>30</th>\n",
       "      <td>9.662808</td>\n",
       "      <td>NaN</td>\n",
       "      <td>2.0</td>\n",
       "      <td>3.0</td>\n",
       "      <td>1.0</td>\n",
       "      <td>2.0</td>\n",
       "      <td>3.0</td>\n",
       "      <td>26.0</td>\n",
       "      <td>4</td>\n",
       "      <td>NaN</td>\n",
       "      <td>...</td>\n",
       "      <td>False</td>\n",
       "      <td>False</td>\n",
       "      <td>False</td>\n",
       "      <td>False</td>\n",
       "      <td>True</td>\n",
       "      <td>False</td>\n",
       "      <td>False</td>\n",
       "      <td>True</td>\n",
       "      <td>False</td>\n",
       "      <td>False</td>\n",
       "    </tr>\n",
       "  </tbody>\n",
       "</table>\n",
       "<p>5 rows × 48 columns</p>\n",
       "</div>"
      ],
      "text/plain": [
       "          hrs  absences  JobInvolvement  PerformanceRating   \n",
       "1    7.315971      13.0             2.0                NaN  \\\n",
       "6         NaN      17.0             3.0                NaN   \n",
       "13        NaN      14.0             2.0                3.0   \n",
       "28  10.713066       6.0             2.0                3.0   \n",
       "30   9.662808       NaN             2.0                3.0   \n",
       "\n",
       "    EnvironmentSatisfaction  JobSatisfaction  WorkLifeBalance   Age   \n",
       "1                       3.0              2.0              4.0  31.0  \\\n",
       "6                       1.0              3.0              1.0  28.0   \n",
       "13                      1.0              2.0              2.0  47.0   \n",
       "28                      4.0              NaN              1.0   NaN   \n",
       "30                      1.0              2.0              3.0  26.0   \n",
       "\n",
       "    DistanceFromHome  Education  ...  JobRole_Laboratory Technician   \n",
       "1                 10        1.0  ...                          False  \\\n",
       "6                 11        2.0  ...                          False   \n",
       "13                 1        1.0  ...                          False   \n",
       "28                 1        NaN  ...                          False   \n",
       "30                 4        NaN  ...                          False   \n",
       "\n",
       "    JobRole_Manager  JobRole_Manufacturing Director   \n",
       "1             False                           False  \\\n",
       "6             False                           False   \n",
       "13            False                           False   \n",
       "28            False                           False   \n",
       "30            False                           False   \n",
       "\n",
       "    JobRole_Research Director  JobRole_Research Scientist   \n",
       "1                       False                       False  \\\n",
       "6                       False                       False   \n",
       "13                      False                        True   \n",
       "28                      False                        True   \n",
       "30                      False                        True   \n",
       "\n",
       "    JobRole_Sales Executive  JobRole_Sales Representative   \n",
       "1                     False                         False  \\\n",
       "6                      True                         False   \n",
       "13                    False                         False   \n",
       "28                    False                         False   \n",
       "30                    False                         False   \n",
       "\n",
       "    MaritalStatus_Divorced  MaritalStatus_Married  MaritalStatus_Single  \n",
       "1                    False                  False                 False  \n",
       "6                    False                  False                  True  \n",
       "13                   False                  False                 False  \n",
       "28                    True                  False                 False  \n",
       "30                    True                  False                 False  \n",
       "\n",
       "[5 rows x 48 columns]"
      ]
     },
     "execution_count": 60,
     "metadata": {},
     "output_type": "execute_result"
    }
   ],
   "source": [
    "import pandas as pd\n",
    "\n",
    "\n",
    "# seleccionar la columna que quieres codificar\n",
    "column_to_encode = ['Attrition', 'BusinessTravel', 'Department', 'EducationField', 'Gender', 'JobRole', 'MaritalStatus']\n",
    "\n",
    "# aplicar One Hot Encoding\n",
    "one_hot_encoded = pd.get_dummies(df[column_to_encode])\n",
    "\n",
    "# combinar el nuevo DataFrame codificado con el original\n",
    "df_encoded = pd.concat([df, one_hot_encoded], axis=1)\n",
    "\n",
    "# eliminar la columna original\n",
    "df_encoded.drop(column_to_encode, axis=1, inplace=True)\n",
    "\n",
    "# mostrar el nuevo DataFrame codificado\n",
    "df_encoded.head()\n"
   ]
  },
  {
   "cell_type": "code",
   "execution_count": null,
   "metadata": {},
   "outputs": [],
   "source": [
    "from sklearn.preprocessing import OneHotEncoder\n",
    "\n",
    "# Supongamos que la columna 0 contiene las variables categóricas que queremos convertir a numéricas\n",
    "categorical_cols = [0]  \n",
    "\n",
    "# Creamos una instancia de OneHotEncoder y especificamos las columnas que queremos codificar\n",
    "encoder = OneHotEncoder(categories='auto', sparse=False, handle_unknown='ignore')\n",
    "encoder.fit(data[:, categorical_cols])\n",
    "\n",
    "# Transformamos las variables categóricas en variables numéricas\n",
    "encoded = encoder.transform(data[:, categorical_cols])\n",
    "\n",
    "# Concatenamos las variables numéricas con las demás columnas del conjunto de datos\n",
    "data_encoded = np.concatenate([data[:, :categorical_cols[0]], encoded, data[:, categorical_cols[0]+1:]], axis=1)\n"
   ]
  },
  {
   "cell_type": "code",
   "execution_count": 54,
   "metadata": {},
   "outputs": [
    {
     "name": "stdout",
     "output_type": "stream",
     "text": [
      "Columnas numéricas: ['hrs', 'absences', 'JobInvolvement', 'PerformanceRating', 'EnvironmentSatisfaction', 'JobSatisfaction', 'WorkLifeBalance', 'Age', 'DistanceFromHome', 'Education', 'JobLevel', 'MonthlyIncome', 'NumCompaniesWorked', 'PercentSalaryHike', 'StockOptionLevel', 'TotalWorkingYears', 'TrainingTimesLastYear', 'YearsAtCompany', 'YearsSinceLastPromotion', 'YearsWithCurrManager']\n",
      "Columnas categóricas: ['Attrition', 'BusinessTravel', 'Department', 'EducationField', 'Gender', 'JobRole', 'MaritalStatus']\n",
      "El valor nan ahora vale 7.317314096896797\n",
      "El valor Travel_Rarely ahora vale 5.0\n"
     ]
    }
   ],
   "source": [
    "# Primero importamos las librerías necesarias\n",
    "from sklearn.compose import ColumnTransformer\n",
    "import numpy as np\n",
    "from sklearn.impute import SimpleImputer\n",
    "from sklearn.model_selection import train_test_split\n",
    "from sklearn.pipeline import Pipeline\n",
    "\n",
    "\n",
    "# A continuación hacemos una partición entre entrenamiento y test\n",
    "X_train, X_test = train_test_split(df, random_state=0)\n",
    "\n",
    "# Definimos las columnas que son numéricas y las que son categóricas\n",
    "numerical_features = df.select_dtypes(include=np.number).columns\n",
    "categorical_features = df.select_dtypes(include='object').columns\n",
    "\n",
    "# Imprimimos cuñales de estas columnas son numéricas y cuáles categóricas\n",
    "print(f\"Columnas numéricas: {list(numerical_features)}\")\n",
    "print(f\"Columnas categóricas: {list(categorical_features)}\")\n",
    "\n",
    "\n",
    "# Definimos las transformaciones que se aplicarán a las columnas numéricas\n",
    "numeric_transformer = Pipeline(steps=[\n",
    "    ('imputer', SimpleImputer(strategy='mean'))\n",
    "])\n",
    "\n",
    "# Definimos las transformaciones que se aplicarán a las columnas categóricas\n",
    "categorical_transformer = Pipeline(steps=[\n",
    "    ('imputer', SimpleImputer(strategy='most_frequent'))\n",
    "])\n",
    "\n",
    "\n",
    "# Pre-procesador \"global\"\n",
    "processor = ColumnTransformer(\n",
    "    transformers=[\n",
    "        ('num', numeric_transformer, numerical_features),\n",
    "        ('cat', categorical_transformer, categorical_features)\n",
    "    ]\n",
    ")\n",
    "processor.fit(X_train)\n",
    "# Realizamos la transformación.\n",
    "X_train_processed = processor.fit_transform(X_train)\n",
    "X_test_processed = processor.transform(X_test)\n",
    "print(f\"El valor {X_train.iloc[1, 0]} ahora vale {X_train_processed[1, 0]}\")\n",
    "print(f\"El valor {X_train.iloc[2,9]} ahora vale {X_train_processed[2, 9]}\")\n"
   ]
  },
  {
   "attachments": {},
   "cell_type": "markdown",
   "metadata": {},
   "source": [
    "## Balanceamiento de la clase   "
   ]
  },
  {
   "attachments": {},
   "cell_type": "markdown",
   "metadata": {},
   "source": [
    "Para saber si el conjunto de datos está desbalanceado, primeramente contaremos el número de observaciones en cada clase de la variable objetivo"
   ]
  },
  {
   "cell_type": "code",
   "execution_count": 10,
   "metadata": {},
   "outputs": [
    {
     "name": "stdout",
     "output_type": "stream",
     "text": [
      "Attrition\n",
      "No     3699\n",
      "Yes     711\n",
      "Name: count, dtype: int64\n"
     ]
    }
   ],
   "source": [
    "import pandas as pd\n",
    "\n",
    "# Contar el número de observaciones en cada clase de la variable objetivo\n",
    "counts = df['Attrition'].value_counts()\n",
    "\n",
    "print(counts)"
   ]
  },
  {
   "cell_type": "code",
   "execution_count": 11,
   "metadata": {},
   "outputs": [
    {
     "data": {
      "image/png": "[encoded data removed]",
      "text/plain": [
       "<Figure size 640x480 with 1 Axes>"
      ]
     },
     "metadata": {},
     "output_type": "display_data"
    }
   ],
   "source": [
    "import matplotlib.pyplot as plt\n",
    "\n",
    "# Crear un histograma de la variable objetivo\n",
    "plt.hist(df['Attrition'])\n",
    "plt.show()\n"
   ]
  },
  {
   "attachments": {},
   "cell_type": "markdown",
   "metadata": {},
   "source": [
    "Para estudiarlo más en profundidad, calculamos la proporción de observaciones en cada conjunto de entrenamiento y test."
   ]
  },
  {
   "cell_type": "code",
   "execution_count": 23,
   "metadata": {},
   "outputs": [
    {
     "name": "stdout",
     "output_type": "stream",
     "text": [
      "Hay un 16.3 % de instancias positivas en train.\n",
      "Hay un 15.4 % de instancias positivas en test.\n",
      "Hay un 16.1 % de instancias positivas en total.\n"
     ]
    }
   ],
   "source": [
    "from sklearn.model_selection import train_test_split, StratifiedKFold\n",
    "import numpy as np\n",
    "# Vamos a comenzar realizando una división train/test \"normal\".\n",
    "\n",
    "N_SAMPLES_NEG = 3699\n",
    "N_SAMPLES_POS = 711\n",
    "# Comprobemos ahora la distribución de las clases.\n",
    "n_pos_pct = N_SAMPLES_POS / (N_SAMPLES_POS + N_SAMPLES_NEG)\n",
    "n_pos_train_pct = np.sum(y_train) / len(y_train)\n",
    "n_pos_test_pct = np.sum(y_test) / len(y_test)\n",
    "\n",
    "print(f\"Hay un {100 * n_pos_train_pct:.1f} % de instancias positivas en train.\")\n",
    "print(f\"Hay un {100 * n_pos_test_pct:.1f} % de instancias positivas en test.\")\n",
    "print(f\"Hay un {100 * n_pos_pct:.1f} % de instancias positivas en total.\")"
   ]
  },
  {
   "attachments": {},
   "cell_type": "markdown",
   "metadata": {},
   "source": [
    "Basándonos en los resultados obtenidos, podemos afirmar que los datos están ligeramente desbalanceados. Al analizar la proporción de instancias positivas en el conjunto de train y test, observamos que esta proporción es de alrededor del 16%, lo que significa que la clase minoritaria está ligeramente subrepresentada, por lo que procedemos a hacer una `división estratificada`\n",
    "\n",
    "Aunque en términos estrictos se puede considerar que los datos están desbalanceados, el desequilibrio no es extremo. En este caso, es posible que no se requieran técnicas de muestreo especializadas para equilibrar la distribución de clases y que un modelo de aprendizaje automático pueda entrenarse con éxito en este conjunto de datos.\n",
    "\n",
    "\n",
    "\n",
    "\n"
   ]
  },
  {
   "cell_type": "code",
   "execution_count": 24,
   "metadata": {},
   "outputs": [
    {
     "name": "stdout",
     "output_type": "stream",
     "text": [
      "Hay un 16.1 % de instancias positivas en train.\n",
      "Hay un 16.1 % de instancias positivas en test.\n",
      "Hay un 16.1 % de instancias positivas en total.\n"
     ]
    }
   ],
   "source": [
    "# Ahora realizaremos una división estratificada.\n",
    "X_train, X_test, y_train, y_test = train_test_split(X, y, test_size = 0.2, stratify=y)\n",
    "\n",
    "# Comprobemos ahora la distribución de las clases.\n",
    "n_pos_pct = N_SAMPLES_POS / (N_SAMPLES_POS + N_SAMPLES_NEG)\n",
    "n_pos_train_pct = np.sum(y_train) / len(y_train)\n",
    "n_pos_test_pct = np.sum(y_test) / len(y_test)\n",
    "\n",
    "print(f\"Hay un {100 * n_pos_train_pct:.1f} % de instancias positivas en train.\")\n",
    "print(f\"Hay un {100 * n_pos_test_pct:.1f} % de instancias positivas en test.\")\n",
    "print(f\"Hay un {100 * n_pos_pct:.1f} % de instancias positivas en total.\")"
   ]
  },
  {
   "attachments": {},
   "cell_type": "markdown",
   "metadata": {},
   "source": [
    "Y seguidamente, se realiza un proceso de validación cruzada estratificada"
   ]
  },
  {
   "cell_type": "code",
   "execution_count": 29,
   "metadata": {},
   "outputs": [
    {
     "ename": "KeyError",
     "evalue": "'[714, 718, 720, 721, 726, 732, 733, 734, 739, 740, 757, 763, 778, 779, 782, 785, 787, 790, 796, 798, 800, 807, 809, 811, 816, 824, 826, 834, 841, 844, 850, 851, 857, 859, 862, 869, 870, 883, 885, 886, 889, 890, 895, 896, 900, 902, 913, 919, 920, 924, 925, 939, 943, 944, 961, 963, 965, 975, 984, 992, 994, 1000, 1008, 1012, 1020, 1023, 1024, 1031, 1035, 1040, 1043, 1048, 1049, 1052, 1055, 1058, 1059, 1080, 1081, 1095, 1099, 1113, 1117, 1118, 1129, 1134, 1136, 1137, 1144, 1145, 1152, 1157, 1161, 1168, 1171, 1175, 1184, 1191, 1192, 1199, 1206, 1217, 1218, 1220, 1226, 1230, 1232, 1239, 1245, 1247, 1250, 1252, 1255, 1266, 1270, 1273, 1276, 1277, 1278, 1294, 1296, 1304, 1308, 1324, 1331, 1340, 1348, 1349, 1354, 1360, 1361, 1366, 1368, 1375, 1382, 1384, 1385, 1401, 1405, 1406, 1417, 1419, 1426, 1427, 1435, 1438, 1453, 1456, 1459, 1461, 1463, 1464, 1469, 1476, 1485, 1490, 1495, 1508, 1510, 1516, 1521, 1523, 1529, 1536, 1542, 1543, 1546, 1547, 1548, 1550, 1551, 1554, 1563, 1582, 1583, 1591, 1592, 1595, 1596, 1599, 1600, 1605, 1610, 1614, 1615, 1616, 1621, 1622, 1625, 1630, 1632, 1634, 1635, 1636, 1642, 1643, 1647, 1648, 1649, 1653, 1662, 1666, 1667, 1668, 1671, 1673, 1678, 1682, 1685, 1689, 1698, 1702, 1704, 1710, 1714, 1718, 1721, 1724, 1726, 1730, 1733, 1735, 1736, 1741, 1744, 1747, 1748, 1750, 1756, 1759, 1767, 1772, 1783, 1786, 1787, 1791, 1792, 1797, 1800, 1801, 1815, 1823, 1827, 1832, 1835, 1837, 1838, 1845, 1852, 1869, 1870, 1874, 1883, 1899, 1903, 1904, 1905, 1908, 1912, 1915, 1918, 1919, 1925, 1943, 1945, 1947, 1953, 1956, 1966, 1968, 1975, 1976, 1982, 1983, 1989, 1992, 1993, 1999, 2000, 2002, 2003, 2008, 2009, 2017, 2024, 2026, 2028, 2046, 2050, 2060, 2063, 2065, 2066, 2073, 2078, 2079, 2083, 2085, 2087, 2095, 2098, 2100, 2109, 2114, 2125, 2128, 2132, 2147, 2149, 2155, 2160, 2163, 2164, 2171, 2173, 2180, 2194, 2196, 2198, 2199, 2205, 2208, 2215, 2224, 2228, 2231, 2233, 2237, 2239, 2241, 2244, 2245, 2255, 2256, 2272, 2273, 2275, 2286, 2291, 2310, 2315, 2317, 2331, 2339, 2345, 2353, 2359, 2373, 2379, 2384, 2388, 2390, 2394, 2399, 2403, 2412, 2414, 2416, 2423, 2439, 2442, 2443, 2446, 2450, 2461, 2462, 2473, 2474, 2480, 2481, 2514, 2518, 2523, 2526, 2538, 2541, 2544, 2547, 2552, 2555, 2559, 2567, 2569, 2580, 2586, 2590, 2591, 2592, 2594, 2605, 2606, 2619, 2623, 2627, 2630, 2643, 2646, 2647, 2650, 2666, 2668, 2669, 2670, 2673, 2674, 2683, 2694, 2697, 2701, 2705, 2706, 2708, 2711, 2720, 2724, 2728, 2741, 2743, 2744, 2748, 2750, 2758, 2762, 2776, 2777, 2778, 2784, 2795, 2799, 2825, 2826, 2828, 2839, 2840, 2848, 2851, 2857, 2860, 2864, 2865, 2869, 2878, 2879, 2901, 2912, 2915, 2927, 2936, 2942, 2944, 2952, 2955, 2977, 2980, 2982, 2983, 2987, 2995, 2997, 3008, 3010, 3012, 3014, 3015, 3021, 3025, 3026, 3029, 3030, 3033, 3034, 3041, 3043, 3044, 3050, 3053, 3059, 3063, 3066, 3070, 3072, 3082, 3087, 3088, 3093, 3102, 3116, 3121, 3122, 3126, 3134, 3142, 3144, 3150, 3168, 3175, 3185, 3198, 3200, 3201, 3207, 3211, 3212, 3215, 3216, 3224, 3229, 3231, 3238, 3240, 3245, 3249, 3256, 3258, 3266, 3269, 3276, 3277, 3282, 3285, 3300, 3301, 3304, 3305, 3307, 3311, 3312, 3316, 3325, 3328, 3330, 3338, 3339, 3341, 3345, 3353, 3357, 3361, 3366, 3368, 3378, 3379, 3393, 3399, 3406, 3411, 3413, 3421, 3425, 3427, 3429, 3431, 3432, 3455, 3462, 3467, 3468, 3474, 3493, 3494, 3499, 3502, 3514, 3521] not in index'",
     "output_type": "error",
     "traceback": [
      "\u001b[0;31m---------------------------------------------------------------------------\u001b[0m",
      "\u001b[0;31mKeyError\u001b[0m                                  Traceback (most recent call last)",
      "Cell \u001b[0;32mIn[29], line 6\u001b[0m\n\u001b[1;32m      4\u001b[0m n_fold \u001b[39m=\u001b[39m \u001b[39m1\u001b[39m\n\u001b[1;32m      5\u001b[0m \u001b[39mfor\u001b[39;00m train_ix, test_ix \u001b[39min\u001b[39;00m cv\u001b[39m.\u001b[39msplit(X_train, y_train):\n\u001b[0;32m----> 6\u001b[0m       y_train_train \u001b[39m=\u001b[39m y_train[train_ix]\n\u001b[1;32m      7\u001b[0m       y_train_test \u001b[39m=\u001b[39m y_train[test_ix]\n\u001b[1;32m      8\u001b[0m       n_pos_traintrain_pct \u001b[39m=\u001b[39m np\u001b[39m.\u001b[39msum(y_train_train) \u001b[39m/\u001b[39m \u001b[39mlen\u001b[39m(y_train_train)\n",
      "File \u001b[0;32m~/.local/lib/python3.10/site-packages/pandas/core/series.py:1038\u001b[0m, in \u001b[0;36mSeries.__getitem__\u001b[0;34m(self, key)\u001b[0m\n\u001b[1;32m   1035\u001b[0m     key \u001b[39m=\u001b[39m np\u001b[39m.\u001b[39masarray(key, dtype\u001b[39m=\u001b[39m\u001b[39mbool\u001b[39m)\n\u001b[1;32m   1036\u001b[0m     \u001b[39mreturn\u001b[39;00m \u001b[39mself\u001b[39m\u001b[39m.\u001b[39m_get_values(key)\n\u001b[0;32m-> 1038\u001b[0m \u001b[39mreturn\u001b[39;00m \u001b[39mself\u001b[39;49m\u001b[39m.\u001b[39;49m_get_with(key)\n",
      "File \u001b[0;32m~/.local/lib/python3.10/site-packages/pandas/core/series.py:1073\u001b[0m, in \u001b[0;36mSeries._get_with\u001b[0;34m(self, key)\u001b[0m\n\u001b[1;32m   1069\u001b[0m \u001b[39mif\u001b[39;00m key_type \u001b[39m==\u001b[39m \u001b[39m\"\u001b[39m\u001b[39minteger\u001b[39m\u001b[39m\"\u001b[39m:\n\u001b[1;32m   1070\u001b[0m     \u001b[39m# We need to decide whether to treat this as a positional indexer\u001b[39;00m\n\u001b[1;32m   1071\u001b[0m     \u001b[39m#  (i.e. self.iloc) or label-based (i.e. self.loc)\u001b[39;00m\n\u001b[1;32m   1072\u001b[0m     \u001b[39mif\u001b[39;00m \u001b[39mnot\u001b[39;00m \u001b[39mself\u001b[39m\u001b[39m.\u001b[39mindex\u001b[39m.\u001b[39m_should_fallback_to_positional:\n\u001b[0;32m-> 1073\u001b[0m         \u001b[39mreturn\u001b[39;00m \u001b[39mself\u001b[39;49m\u001b[39m.\u001b[39;49mloc[key]\n\u001b[1;32m   1074\u001b[0m     \u001b[39melse\u001b[39;00m:\n\u001b[1;32m   1075\u001b[0m         \u001b[39mreturn\u001b[39;00m \u001b[39mself\u001b[39m\u001b[39m.\u001b[39miloc[key]\n",
      "File \u001b[0;32m~/.local/lib/python3.10/site-packages/pandas/core/indexing.py:1103\u001b[0m, in \u001b[0;36m_LocationIndexer.__getitem__\u001b[0;34m(self, key)\u001b[0m\n\u001b[1;32m   1100\u001b[0m axis \u001b[39m=\u001b[39m \u001b[39mself\u001b[39m\u001b[39m.\u001b[39maxis \u001b[39mor\u001b[39;00m \u001b[39m0\u001b[39m\n\u001b[1;32m   1102\u001b[0m maybe_callable \u001b[39m=\u001b[39m com\u001b[39m.\u001b[39mapply_if_callable(key, \u001b[39mself\u001b[39m\u001b[39m.\u001b[39mobj)\n\u001b[0;32m-> 1103\u001b[0m \u001b[39mreturn\u001b[39;00m \u001b[39mself\u001b[39;49m\u001b[39m.\u001b[39;49m_getitem_axis(maybe_callable, axis\u001b[39m=\u001b[39;49maxis)\n",
      "File \u001b[0;32m~/.local/lib/python3.10/site-packages/pandas/core/indexing.py:1332\u001b[0m, in \u001b[0;36m_LocIndexer._getitem_axis\u001b[0;34m(self, key, axis)\u001b[0m\n\u001b[1;32m   1329\u001b[0m     \u001b[39mif\u001b[39;00m \u001b[39mhasattr\u001b[39m(key, \u001b[39m\"\u001b[39m\u001b[39mndim\u001b[39m\u001b[39m\"\u001b[39m) \u001b[39mand\u001b[39;00m key\u001b[39m.\u001b[39mndim \u001b[39m>\u001b[39m \u001b[39m1\u001b[39m:\n\u001b[1;32m   1330\u001b[0m         \u001b[39mraise\u001b[39;00m \u001b[39mValueError\u001b[39;00m(\u001b[39m\"\u001b[39m\u001b[39mCannot index with multidimensional key\u001b[39m\u001b[39m\"\u001b[39m)\n\u001b[0;32m-> 1332\u001b[0m     \u001b[39mreturn\u001b[39;00m \u001b[39mself\u001b[39;49m\u001b[39m.\u001b[39;49m_getitem_iterable(key, axis\u001b[39m=\u001b[39;49maxis)\n\u001b[1;32m   1334\u001b[0m \u001b[39m# nested tuple slicing\u001b[39;00m\n\u001b[1;32m   1335\u001b[0m \u001b[39mif\u001b[39;00m is_nested_tuple(key, labels):\n",
      "File \u001b[0;32m~/.local/lib/python3.10/site-packages/pandas/core/indexing.py:1272\u001b[0m, in \u001b[0;36m_LocIndexer._getitem_iterable\u001b[0;34m(self, key, axis)\u001b[0m\n\u001b[1;32m   1269\u001b[0m \u001b[39mself\u001b[39m\u001b[39m.\u001b[39m_validate_key(key, axis)\n\u001b[1;32m   1271\u001b[0m \u001b[39m# A collection of keys\u001b[39;00m\n\u001b[0;32m-> 1272\u001b[0m keyarr, indexer \u001b[39m=\u001b[39m \u001b[39mself\u001b[39;49m\u001b[39m.\u001b[39;49m_get_listlike_indexer(key, axis)\n\u001b[1;32m   1273\u001b[0m \u001b[39mreturn\u001b[39;00m \u001b[39mself\u001b[39m\u001b[39m.\u001b[39mobj\u001b[39m.\u001b[39m_reindex_with_indexers(\n\u001b[1;32m   1274\u001b[0m     {axis: [keyarr, indexer]}, copy\u001b[39m=\u001b[39m\u001b[39mTrue\u001b[39;00m, allow_dups\u001b[39m=\u001b[39m\u001b[39mTrue\u001b[39;00m\n\u001b[1;32m   1275\u001b[0m )\n",
      "File \u001b[0;32m~/.local/lib/python3.10/site-packages/pandas/core/indexing.py:1462\u001b[0m, in \u001b[0;36m_LocIndexer._get_listlike_indexer\u001b[0;34m(self, key, axis)\u001b[0m\n\u001b[1;32m   1459\u001b[0m ax \u001b[39m=\u001b[39m \u001b[39mself\u001b[39m\u001b[39m.\u001b[39mobj\u001b[39m.\u001b[39m_get_axis(axis)\n\u001b[1;32m   1460\u001b[0m axis_name \u001b[39m=\u001b[39m \u001b[39mself\u001b[39m\u001b[39m.\u001b[39mobj\u001b[39m.\u001b[39m_get_axis_name(axis)\n\u001b[0;32m-> 1462\u001b[0m keyarr, indexer \u001b[39m=\u001b[39m ax\u001b[39m.\u001b[39;49m_get_indexer_strict(key, axis_name)\n\u001b[1;32m   1464\u001b[0m \u001b[39mreturn\u001b[39;00m keyarr, indexer\n",
      "File \u001b[0;32m~/.local/lib/python3.10/site-packages/pandas/core/indexes/base.py:5876\u001b[0m, in \u001b[0;36mIndex._get_indexer_strict\u001b[0;34m(self, key, axis_name)\u001b[0m\n\u001b[1;32m   5873\u001b[0m \u001b[39melse\u001b[39;00m:\n\u001b[1;32m   5874\u001b[0m     keyarr, indexer, new_indexer \u001b[39m=\u001b[39m \u001b[39mself\u001b[39m\u001b[39m.\u001b[39m_reindex_non_unique(keyarr)\n\u001b[0;32m-> 5876\u001b[0m \u001b[39mself\u001b[39;49m\u001b[39m.\u001b[39;49m_raise_if_missing(keyarr, indexer, axis_name)\n\u001b[1;32m   5878\u001b[0m keyarr \u001b[39m=\u001b[39m \u001b[39mself\u001b[39m\u001b[39m.\u001b[39mtake(indexer)\n\u001b[1;32m   5879\u001b[0m \u001b[39mif\u001b[39;00m \u001b[39misinstance\u001b[39m(key, Index):\n\u001b[1;32m   5880\u001b[0m     \u001b[39m# GH 42790 - Preserve name from an Index\u001b[39;00m\n",
      "File \u001b[0;32m~/.local/lib/python3.10/site-packages/pandas/core/indexes/base.py:5938\u001b[0m, in \u001b[0;36mIndex._raise_if_missing\u001b[0;34m(self, key, indexer, axis_name)\u001b[0m\n\u001b[1;32m   5935\u001b[0m     \u001b[39mraise\u001b[39;00m \u001b[39mKeyError\u001b[39;00m(\u001b[39mf\u001b[39m\u001b[39m\"\u001b[39m\u001b[39mNone of [\u001b[39m\u001b[39m{\u001b[39;00mkey\u001b[39m}\u001b[39;00m\u001b[39m] are in the [\u001b[39m\u001b[39m{\u001b[39;00maxis_name\u001b[39m}\u001b[39;00m\u001b[39m]\u001b[39m\u001b[39m\"\u001b[39m)\n\u001b[1;32m   5937\u001b[0m not_found \u001b[39m=\u001b[39m \u001b[39mlist\u001b[39m(ensure_index(key)[missing_mask\u001b[39m.\u001b[39mnonzero()[\u001b[39m0\u001b[39m]]\u001b[39m.\u001b[39munique())\n\u001b[0;32m-> 5938\u001b[0m \u001b[39mraise\u001b[39;00m \u001b[39mKeyError\u001b[39;00m(\u001b[39mf\u001b[39m\u001b[39m\"\u001b[39m\u001b[39m{\u001b[39;00mnot_found\u001b[39m}\u001b[39;00m\u001b[39m not in index\u001b[39m\u001b[39m\"\u001b[39m)\n",
      "\u001b[0;31mKeyError\u001b[0m: '[714, 718, 720, 721, 726, 732, 733, 734, 739, 740, 757, 763, 778, 779, 782, 785, 787, 790, 796, 798, 800, 807, 809, 811, 816, 824, 826, 834, 841, 844, 850, 851, 857, 859, 862, 869, 870, 883, 885, 886, 889, 890, 895, 896, 900, 902, 913, 919, 920, 924, 925, 939, 943, 944, 961, 963, 965, 975, 984, 992, 994, 1000, 1008, 1012, 1020, 1023, 1024, 1031, 1035, 1040, 1043, 1048, 1049, 1052, 1055, 1058, 1059, 1080, 1081, 1095, 1099, 1113, 1117, 1118, 1129, 1134, 1136, 1137, 1144, 1145, 1152, 1157, 1161, 1168, 1171, 1175, 1184, 1191, 1192, 1199, 1206, 1217, 1218, 1220, 1226, 1230, 1232, 1239, 1245, 1247, 1250, 1252, 1255, 1266, 1270, 1273, 1276, 1277, 1278, 1294, 1296, 1304, 1308, 1324, 1331, 1340, 1348, 1349, 1354, 1360, 1361, 1366, 1368, 1375, 1382, 1384, 1385, 1401, 1405, 1406, 1417, 1419, 1426, 1427, 1435, 1438, 1453, 1456, 1459, 1461, 1463, 1464, 1469, 1476, 1485, 1490, 1495, 1508, 1510, 1516, 1521, 1523, 1529, 1536, 1542, 1543, 1546, 1547, 1548, 1550, 1551, 1554, 1563, 1582, 1583, 1591, 1592, 1595, 1596, 1599, 1600, 1605, 1610, 1614, 1615, 1616, 1621, 1622, 1625, 1630, 1632, 1634, 1635, 1636, 1642, 1643, 1647, 1648, 1649, 1653, 1662, 1666, 1667, 1668, 1671, 1673, 1678, 1682, 1685, 1689, 1698, 1702, 1704, 1710, 1714, 1718, 1721, 1724, 1726, 1730, 1733, 1735, 1736, 1741, 1744, 1747, 1748, 1750, 1756, 1759, 1767, 1772, 1783, 1786, 1787, 1791, 1792, 1797, 1800, 1801, 1815, 1823, 1827, 1832, 1835, 1837, 1838, 1845, 1852, 1869, 1870, 1874, 1883, 1899, 1903, 1904, 1905, 1908, 1912, 1915, 1918, 1919, 1925, 1943, 1945, 1947, 1953, 1956, 1966, 1968, 1975, 1976, 1982, 1983, 1989, 1992, 1993, 1999, 2000, 2002, 2003, 2008, 2009, 2017, 2024, 2026, 2028, 2046, 2050, 2060, 2063, 2065, 2066, 2073, 2078, 2079, 2083, 2085, 2087, 2095, 2098, 2100, 2109, 2114, 2125, 2128, 2132, 2147, 2149, 2155, 2160, 2163, 2164, 2171, 2173, 2180, 2194, 2196, 2198, 2199, 2205, 2208, 2215, 2224, 2228, 2231, 2233, 2237, 2239, 2241, 2244, 2245, 2255, 2256, 2272, 2273, 2275, 2286, 2291, 2310, 2315, 2317, 2331, 2339, 2345, 2353, 2359, 2373, 2379, 2384, 2388, 2390, 2394, 2399, 2403, 2412, 2414, 2416, 2423, 2439, 2442, 2443, 2446, 2450, 2461, 2462, 2473, 2474, 2480, 2481, 2514, 2518, 2523, 2526, 2538, 2541, 2544, 2547, 2552, 2555, 2559, 2567, 2569, 2580, 2586, 2590, 2591, 2592, 2594, 2605, 2606, 2619, 2623, 2627, 2630, 2643, 2646, 2647, 2650, 2666, 2668, 2669, 2670, 2673, 2674, 2683, 2694, 2697, 2701, 2705, 2706, 2708, 2711, 2720, 2724, 2728, 2741, 2743, 2744, 2748, 2750, 2758, 2762, 2776, 2777, 2778, 2784, 2795, 2799, 2825, 2826, 2828, 2839, 2840, 2848, 2851, 2857, 2860, 2864, 2865, 2869, 2878, 2879, 2901, 2912, 2915, 2927, 2936, 2942, 2944, 2952, 2955, 2977, 2980, 2982, 2983, 2987, 2995, 2997, 3008, 3010, 3012, 3014, 3015, 3021, 3025, 3026, 3029, 3030, 3033, 3034, 3041, 3043, 3044, 3050, 3053, 3059, 3063, 3066, 3070, 3072, 3082, 3087, 3088, 3093, 3102, 3116, 3121, 3122, 3126, 3134, 3142, 3144, 3150, 3168, 3175, 3185, 3198, 3200, 3201, 3207, 3211, 3212, 3215, 3216, 3224, 3229, 3231, 3238, 3240, 3245, 3249, 3256, 3258, 3266, 3269, 3276, 3277, 3282, 3285, 3300, 3301, 3304, 3305, 3307, 3311, 3312, 3316, 3325, 3328, 3330, 3338, 3339, 3341, 3345, 3353, 3357, 3361, 3366, 3368, 3378, 3379, 3393, 3399, 3406, 3411, 3413, 3421, 3425, 3427, 3429, 3431, 3432, 3455, 3462, 3467, 3468, 3474, 3493, 3494, 3499, 3502, 3514, 3521] not in index'"
     ]
    }
   ],
   "source": [
    "# Ahora vamos a realizar un proceso de validación cruzada estratificada.\n",
    "cv = StratifiedKFold(n_splits=5)\n",
    "\n",
    "n_fold = 1\n",
    "for train_ix, test_ix in cv.split(X_train, y_train):\n",
    "    y_train_train = y_train[train_ix]\n",
    "    y_train_test = y_train[test_ix]\n",
    "    n_pos_traintrain_pct = np.sum(y_train_train) / len(y_train_train)\n",
    "    n_pos_traintest_pct = np.sum(y_train_test) / len(y_train_test)\n",
    "    print(f\"FOLD {n_fold}:\")\n",
    "    print(f\"Hay un {100 * n_pos_traintrain_pct:.1f} % de instancias positivas en train-train.\")\n",
    "    print(f\"Hay un {100 * n_pos_traintest_pct:.1f} % de instancias positivas en train-test.\")\n",
    "    n_fold += 1"
   ]
  }
 ],
 "metadata": {
  "kernelspec": {
   "display_name": "Python 3",
   "language": "python",
   "name": "python3"
  },
  "language_info": {
   "codemirror_mode": {
    "name": "ipython",
    "version": 3
   },
   "file_extension": ".py",
   "mimetype": "text/x-python",
   "name": "python",
   "nbconvert_exporter": "python",
   "pygments_lexer": "ipython3",
   "version": "3.10.6"
  },
  "orig_nbformat": 4
 },
 "nbformat": 4,
 "nbformat_minor": 2
}
